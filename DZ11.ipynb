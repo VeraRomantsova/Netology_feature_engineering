{
 "cells": [
  {
   "cell_type": "code",
   "execution_count": 1,
   "metadata": {},
   "outputs": [],
   "source": [
    "from sklearn import datasets\n",
    "from sklearn.preprocessing import StandardScaler\n",
    "from sklearn.model_selection import train_test_split, GridSearchCV\n",
    "from sklearn.linear_model import Lasso, Ridge, ElasticNet\n",
    "from sklearn.tree import DecisionTreeRegressor\n",
    "from sklearn.ensemble import RandomForestRegressor, GradientBoostingRegressor\n",
    "%matplotlib inline\n",
    "import numpy as np\n",
    "import pandas as pd"
   ]
  },
  {
   "cell_type": "code",
   "execution_count": 4,
   "metadata": {},
   "outputs": [],
   "source": [
    "boston = datasets.load_boston()"
   ]
  },
  {
   "cell_type": "code",
   "execution_count": 5,
   "metadata": {},
   "outputs": [
    {
     "data": {
      "text/html": [
       "<div>\n",
       "<style scoped>\n",
       "    .dataframe tbody tr th:only-of-type {\n",
       "        vertical-align: middle;\n",
       "    }\n",
       "\n",
       "    .dataframe tbody tr th {\n",
       "        vertical-align: top;\n",
       "    }\n",
       "\n",
       "    .dataframe thead th {\n",
       "        text-align: right;\n",
       "    }\n",
       "</style>\n",
       "<table border=\"1\" class=\"dataframe\">\n",
       "  <thead>\n",
       "    <tr style=\"text-align: right;\">\n",
       "      <th></th>\n",
       "      <th>CRIM</th>\n",
       "      <th>ZN</th>\n",
       "      <th>INDUS</th>\n",
       "      <th>CHAS</th>\n",
       "      <th>NOX</th>\n",
       "      <th>RM</th>\n",
       "      <th>AGE</th>\n",
       "      <th>DIS</th>\n",
       "      <th>RAD</th>\n",
       "      <th>TAX</th>\n",
       "      <th>PTRATIO</th>\n",
       "      <th>B</th>\n",
       "      <th>LSTAT</th>\n",
       "    </tr>\n",
       "  </thead>\n",
       "  <tbody>\n",
       "    <tr>\n",
       "      <th>0</th>\n",
       "      <td>0.00632</td>\n",
       "      <td>18.0</td>\n",
       "      <td>2.31</td>\n",
       "      <td>0.0</td>\n",
       "      <td>0.538</td>\n",
       "      <td>6.575</td>\n",
       "      <td>65.2</td>\n",
       "      <td>4.0900</td>\n",
       "      <td>1.0</td>\n",
       "      <td>296.0</td>\n",
       "      <td>15.3</td>\n",
       "      <td>396.90</td>\n",
       "      <td>4.98</td>\n",
       "    </tr>\n",
       "    <tr>\n",
       "      <th>1</th>\n",
       "      <td>0.02731</td>\n",
       "      <td>0.0</td>\n",
       "      <td>7.07</td>\n",
       "      <td>0.0</td>\n",
       "      <td>0.469</td>\n",
       "      <td>6.421</td>\n",
       "      <td>78.9</td>\n",
       "      <td>4.9671</td>\n",
       "      <td>2.0</td>\n",
       "      <td>242.0</td>\n",
       "      <td>17.8</td>\n",
       "      <td>396.90</td>\n",
       "      <td>9.14</td>\n",
       "    </tr>\n",
       "    <tr>\n",
       "      <th>2</th>\n",
       "      <td>0.02729</td>\n",
       "      <td>0.0</td>\n",
       "      <td>7.07</td>\n",
       "      <td>0.0</td>\n",
       "      <td>0.469</td>\n",
       "      <td>7.185</td>\n",
       "      <td>61.1</td>\n",
       "      <td>4.9671</td>\n",
       "      <td>2.0</td>\n",
       "      <td>242.0</td>\n",
       "      <td>17.8</td>\n",
       "      <td>392.83</td>\n",
       "      <td>4.03</td>\n",
       "    </tr>\n",
       "    <tr>\n",
       "      <th>3</th>\n",
       "      <td>0.03237</td>\n",
       "      <td>0.0</td>\n",
       "      <td>2.18</td>\n",
       "      <td>0.0</td>\n",
       "      <td>0.458</td>\n",
       "      <td>6.998</td>\n",
       "      <td>45.8</td>\n",
       "      <td>6.0622</td>\n",
       "      <td>3.0</td>\n",
       "      <td>222.0</td>\n",
       "      <td>18.7</td>\n",
       "      <td>394.63</td>\n",
       "      <td>2.94</td>\n",
       "    </tr>\n",
       "    <tr>\n",
       "      <th>4</th>\n",
       "      <td>0.06905</td>\n",
       "      <td>0.0</td>\n",
       "      <td>2.18</td>\n",
       "      <td>0.0</td>\n",
       "      <td>0.458</td>\n",
       "      <td>7.147</td>\n",
       "      <td>54.2</td>\n",
       "      <td>6.0622</td>\n",
       "      <td>3.0</td>\n",
       "      <td>222.0</td>\n",
       "      <td>18.7</td>\n",
       "      <td>396.90</td>\n",
       "      <td>5.33</td>\n",
       "    </tr>\n",
       "  </tbody>\n",
       "</table>\n",
       "</div>"
      ],
      "text/plain": [
       "      CRIM    ZN  INDUS  CHAS    NOX     RM   AGE     DIS  RAD    TAX  \\\n",
       "0  0.00632  18.0   2.31   0.0  0.538  6.575  65.2  4.0900  1.0  296.0   \n",
       "1  0.02731   0.0   7.07   0.0  0.469  6.421  78.9  4.9671  2.0  242.0   \n",
       "2  0.02729   0.0   7.07   0.0  0.469  7.185  61.1  4.9671  2.0  242.0   \n",
       "3  0.03237   0.0   2.18   0.0  0.458  6.998  45.8  6.0622  3.0  222.0   \n",
       "4  0.06905   0.0   2.18   0.0  0.458  7.147  54.2  6.0622  3.0  222.0   \n",
       "\n",
       "   PTRATIO       B  LSTAT  \n",
       "0     15.3  396.90   4.98  \n",
       "1     17.8  396.90   9.14  \n",
       "2     17.8  392.83   4.03  \n",
       "3     18.7  394.63   2.94  \n",
       "4     18.7  396.90   5.33  "
      ]
     },
     "execution_count": 5,
     "metadata": {},
     "output_type": "execute_result"
    }
   ],
   "source": [
    "data = pd.DataFrame(boston.data, columns=boston.feature_names)\n",
    "data.head(5)"
   ]
  },
  {
   "cell_type": "code",
   "execution_count": 7,
   "metadata": {},
   "outputs": [],
   "source": [
    "X, y = boston['data'], boston['target']"
   ]
  },
  {
   "cell_type": "code",
   "execution_count": 12,
   "metadata": {},
   "outputs": [],
   "source": [
    "import random"
   ]
  },
  {
   "cell_type": "code",
   "execution_count": 13,
   "metadata": {},
   "outputs": [],
   "source": [
    "random.seed(42)"
   ]
  },
  {
   "cell_type": "code",
   "execution_count": 15,
   "metadata": {},
   "outputs": [],
   "source": [
    "X_train, X_test, y_train, y_test = train_test_split(X, y, test_size=0.2, random_state=42)"
   ]
  },
  {
   "cell_type": "code",
   "execution_count": 16,
   "metadata": {},
   "outputs": [],
   "source": [
    "sc = StandardScaler()\n",
    "X_train = sc.fit_transform(X_train)\n",
    "X_test = sc.transform(X_test)"
   ]
  },
  {
   "cell_type": "code",
   "execution_count": 18,
   "metadata": {},
   "outputs": [
    {
     "data": {
      "text/plain": [
       "GridSearchCV(cv=10, estimator=Lasso(),\n",
       "             param_grid={'alpha': [1, 0.1, 0.01, 0.001],\n",
       "                         'max_iter': [100, 1000, 10000]},\n",
       "             scoring='r2')"
      ]
     },
     "execution_count": 18,
     "metadata": {},
     "output_type": "execute_result"
    }
   ],
   "source": [
    "# 1. lasso l1 - подберем alpha, max_iter\n",
    "l = Lasso()\n",
    "params_l = {'alpha': [1, 0.1, 0.01, 0.001],\n",
    "            'max_iter': [100, 1000, 10000]}\n",
    "grid_l = GridSearchCV(l, params_l, cv=10, scoring = 'r2') #гридсечем подберем наилучшие параметры\n",
    "grid_l.fit(X_train, y_train)"
   ]
  },
  {
   "cell_type": "code",
   "execution_count": 19,
   "metadata": {},
   "outputs": [
    {
     "name": "stdout",
     "output_type": "stream",
     "text": [
      "{'alpha': 0.01, 'max_iter': 100}\n",
      "0.6988357132543653\n",
      "Lasso(alpha=0.01, max_iter=100)\n"
     ]
    }
   ],
   "source": [
    "# Выведем наилучшие параметры и оценку\n",
    "print(grid_l.best_params_)\n",
    "print(grid_l.best_score_)\n",
    "print(grid_l.best_estimator_)"
   ]
  },
  {
   "cell_type": "code",
   "execution_count": 20,
   "metadata": {},
   "outputs": [
    {
     "data": {
      "text/plain": [
       "GridSearchCV(cv=10, estimator=Ridge(),\n",
       "             param_grid={'alpha': [1, 0.1, 0.01, 0.001],\n",
       "                         'max_iter': [100, 1000, 10000],\n",
       "                         'solver': ['svd', 'cholesky', 'lsqr', 'saga'],\n",
       "                         'tol': [0.1, 0.01, 0.001, 0.0001]},\n",
       "             scoring='r2')"
      ]
     },
     "execution_count": 20,
     "metadata": {},
     "output_type": "execute_result"
    }
   ],
   "source": [
    "# 2. ridge l2 - подберем alpha, tol, max_iter, solver\n",
    "r = Ridge()\n",
    "params_r = {'alpha': [1, 0.1, 0.01, 0.001],\n",
    "            'max_iter': [100, 1000, 10000], \n",
    "           'tol': [0.1, 0.01,0.001, 0.0001],\n",
    "           'solver': ['svd', 'cholesky', 'lsqr', 'saga']}\n",
    "grid_r = GridSearchCV(r, params_r, cv=10, scoring = 'r2') #гридсечем подберем наилучшие параметры\n",
    "grid_r.fit(X_train, y_train)"
   ]
  },
  {
   "cell_type": "code",
   "execution_count": 21,
   "metadata": {},
   "outputs": [
    {
     "name": "stdout",
     "output_type": "stream",
     "text": [
      "{'alpha': 1, 'max_iter': 100, 'solver': 'lsqr', 'tol': 0.001}\n",
      "0.6991650171845755\n",
      "Ridge(alpha=1, max_iter=100, solver='lsqr')\n"
     ]
    }
   ],
   "source": [
    "# Выведем наилучшие параметры и оценку\n",
    "print(grid_r.best_params_)\n",
    "print(grid_r.best_score_)\n",
    "print(grid_r.best_estimator_)"
   ]
  },
  {
   "cell_type": "code",
   "execution_count": 30,
   "metadata": {},
   "outputs": [
    {
     "name": "stdout",
     "output_type": "stream",
     "text": [
      "Fitting 10 folds for each of 36 candidates, totalling 360 fits\n"
     ]
    },
    {
     "name": "stderr",
     "output_type": "stream",
     "text": [
      "[Parallel(n_jobs=-1)]: Using backend LokyBackend with 4 concurrent workers.\n",
      "[Parallel(n_jobs=-1)]: Done  33 tasks      | elapsed:    4.5s\n",
      "[Parallel(n_jobs=-1)]: Done 360 out of 360 | elapsed:   13.4s finished\n",
      "C:\\Users\\Vera_Romantsova\\anaconda3\\lib\\site-packages\\sklearn\\linear_model\\_coordinate_descent.py:529: ConvergenceWarning: Objective did not converge. You might want to increase the number of iterations. Duality gap: 4472.93104828583, tolerance: 3.509685514851485\n",
      "  model = cd_fast.enet_coordinate_descent(\n"
     ]
    },
    {
     "data": {
      "text/plain": [
       "GridSearchCV(cv=10, estimator=ElasticNet(), n_jobs=-1,\n",
       "             param_grid={'alpha': [1, 0.1, 0.01, 0.001],\n",
       "                         'l1_ratio': [0, 0.5, 1],\n",
       "                         'max_iter': [1000, 10000, 100000]},\n",
       "             scoring='r2', verbose=2)"
      ]
     },
     "execution_count": 30,
     "metadata": {},
     "output_type": "execute_result"
    }
   ],
   "source": [
    "# 3. elastic net l1-l2 regularization\n",
    "en = ElasticNet()\n",
    "params_en = {'alpha': [1, 0.1, 0.01, 0.001],\n",
    "           'l1_ratio': [0, 0.5, 1],\n",
    "            'max_iter': [1000, 10000, 100000]}\n",
    "grid_en = GridSearchCV(en, params_en, cv=10, scoring = 'r2', verbose=2, n_jobs=-1) #гридсечем подберем наилучшие параметры\n",
    "grid_en.fit(X_train, y_train)"
   ]
  },
  {
   "cell_type": "code",
   "execution_count": 31,
   "metadata": {},
   "outputs": [
    {
     "name": "stdout",
     "output_type": "stream",
     "text": [
      "{'alpha': 0.01, 'l1_ratio': 0, 'max_iter': 10000}\n",
      "0.6992551267540726\n",
      "ElasticNet(alpha=0.01, l1_ratio=0, max_iter=10000)\n"
     ]
    }
   ],
   "source": [
    "# Выведем наилучшие параметры и оценку\n",
    "print(grid_en.best_params_)\n",
    "print(grid_en.best_score_)\n",
    "print(grid_en.best_estimator_)"
   ]
  },
  {
   "cell_type": "code",
   "execution_count": 32,
   "metadata": {},
   "outputs": [],
   "source": [
    "# т.к. в grid_en.best_estimator_ значение l1_ratio=0 - то фактически ушли в l2 - регуляризацию"
   ]
  },
  {
   "cell_type": "code",
   "execution_count": 34,
   "metadata": {},
   "outputs": [
    {
     "data": {
      "text/plain": [
       "GridSearchCV(cv=10, estimator=DecisionTreeRegressor(),\n",
       "             param_grid={'max_depth': range(1, 13, 2),\n",
       "                         'min_samples_leaf': range(1, 8),\n",
       "                         'min_samples_split': range(2, 10, 2)})"
      ]
     },
     "execution_count": 34,
     "metadata": {},
     "output_type": "execute_result"
    }
   ],
   "source": [
    "# 4. Лерево решений (обычно деревья решений для датасетов с большим кол-вом категориальных переменных могут рост в скоре дать)\n",
    "dt = DecisionTreeRegressor()\n",
    "params_dt = {'max_depth': range (1,13, 2),\n",
    "              'min_samples_leaf': range (1,8),\n",
    "              'min_samples_split': range (2,10,2) }\n",
    "grid_dt = GridSearchCV(dt, params_dt, cv=10)\n",
    "grid_dt.fit(X_train, y_train)"
   ]
  },
  {
   "cell_type": "code",
   "execution_count": 35,
   "metadata": {},
   "outputs": [
    {
     "name": "stdout",
     "output_type": "stream",
     "text": [
      "{'max_depth': 7, 'min_samples_leaf': 7, 'min_samples_split': 8}\n",
      "0.7291340046046763\n",
      "DecisionTreeRegressor(max_depth=7, min_samples_leaf=7, min_samples_split=8)\n"
     ]
    }
   ],
   "source": [
    "# Выведем наилучшие параметры и оценку\n",
    "print(grid_dt.best_params_)\n",
    "print(grid_dt.best_score_)\n",
    "print(grid_dt.best_estimator_)"
   ]
  },
  {
   "cell_type": "code",
   "execution_count": 37,
   "metadata": {},
   "outputs": [
    {
     "data": {
      "text/plain": [
       "GridSearchCV(cv=10, estimator=RandomForestRegressor(),\n",
       "             param_grid={'max_depth': range(1, 13, 2),\n",
       "                         'min_samples_leaf': range(1, 8),\n",
       "                         'min_samples_split': range(2, 10, 2),\n",
       "                         'n_estimators': range(1, 10)})"
      ]
     },
     "execution_count": 37,
     "metadata": {},
     "output_type": "execute_result"
    }
   ],
   "source": [
    "# 5. RandomForestRegressor\n",
    "rfr = RandomForestRegressor()\n",
    "params_rfr = {'n_estimators': range(1,10),\n",
    "    'max_depth': range (1,13, 2),\n",
    "              'min_samples_leaf': range (1,8),\n",
    "              'min_samples_split': range (2,10,2) }\n",
    "grid_dt = GridSearchCV(rfr, params_rfr, cv=10)\n",
    "grid_dt.fit(X_train, y_train)"
   ]
  },
  {
   "cell_type": "code",
   "execution_count": 38,
   "metadata": {},
   "outputs": [
    {
     "name": "stdout",
     "output_type": "stream",
     "text": [
      "{'max_depth': 11, 'min_samples_leaf': 1, 'min_samples_split': 4, 'n_estimators': 8}\n",
      "0.8319778547405766\n",
      "RandomForestRegressor(max_depth=11, min_samples_split=4, n_estimators=8)\n"
     ]
    }
   ],
   "source": [
    "# Выведем наилучшие параметры и оценку\n",
    "print(grid_dt.best_params_)\n",
    "print(grid_dt.best_score_)\n",
    "print(grid_dt.best_estimator_)"
   ]
  },
  {
   "cell_type": "code",
   "execution_count": null,
   "metadata": {},
   "outputs": [],
   "source": [
    "# Как и ожидалось, RandomForestRegressor дал хороший прирост в качестве (много категориальных переменных)"
   ]
  },
  {
   "cell_type": "code",
   "execution_count": 39,
   "metadata": {},
   "outputs": [
    {
     "data": {
      "text/plain": [
       "GridSearchCV(cv=10, estimator=GradientBoostingRegressor(),\n",
       "             param_grid={'loss': ['ls', 'huber'],\n",
       "                         'max_depth': [None, 1, 5, 10, 20],\n",
       "                         'min_samples_split': [2, 4, 6],\n",
       "                         'n_estimators': [5, 10, 15]})"
      ]
     },
     "execution_count": 39,
     "metadata": {},
     "output_type": "execute_result"
    }
   ],
   "source": [
    "# 6. GradientBoostingRegressor\n",
    "gbr = GradientBoostingRegressor()\n",
    "params_gbr = {'loss': ['ls', 'huber'],\n",
    "    'n_estimators': [5,10, 15],\n",
    "    'min_samples_split': [2,4,6],\n",
    "    'max_depth': [None,1,5,10,20]}\n",
    "grid_gbr = GridSearchCV(gbr, params_gbr, cv=10)\n",
    "grid_gbr.fit(X_train, y_train)"
   ]
  },
  {
   "cell_type": "code",
   "execution_count": 40,
   "metadata": {},
   "outputs": [
    {
     "name": "stdout",
     "output_type": "stream",
     "text": [
      "{'loss': 'huber', 'max_depth': 5, 'min_samples_split': 6, 'n_estimators': 15}\n",
      "0.7913156215464927\n",
      "GradientBoostingRegressor(loss='huber', max_depth=5, min_samples_split=6,\n",
      "                          n_estimators=15)\n"
     ]
    }
   ],
   "source": [
    "# Выведем наилучшие параметры и оценку\n",
    "print(grid_gbr.best_params_)\n",
    "print(grid_gbr.best_score_)\n",
    "print(grid_gbr.best_estimator_)"
   ]
  },
  {
   "cell_type": "code",
   "execution_count": 46,
   "metadata": {},
   "outputs": [],
   "source": [
    "# 7. Пробуем сделать байсовскую оптимизацию для RandomForestRegressor\n",
    "from hyperopt import hp, fmin, tpe, Trials, STATUS_OK\n",
    "from sklearn.model_selection import cross_val_score"
   ]
  },
  {
   "cell_type": "code",
   "execution_count": 48,
   "metadata": {},
   "outputs": [],
   "source": [
    "# зададим параметры\n",
    "space = {\n",
    "        'max_depth': hp.quniform('max_depth', 10, 1200, 10),\n",
    "        'min_samples_leaf': hp.uniform ('min_samples_leaf', 0, 0.5),\n",
    "        'min_samples_split' : hp.uniform ('min_samples_split', 0, 1),\n",
    "        'n_estimators' : hp.choice('n_estimators', [5, 10, 15])\n",
    "    }"
   ]
  },
  {
   "cell_type": "code",
   "execution_count": 49,
   "metadata": {},
   "outputs": [
    {
     "name": "stdout",
     "output_type": "stream",
     "text": [
      "100%|███████████████████████████████████████████████| 80/80 [00:09<00:00,  8.64trial/s, best loss: -0.8231426209180567]\n"
     ]
    },
    {
     "data": {
      "text/plain": [
       "{'max_depth': 1060.0,\n",
       " 'min_samples_leaf': 0.0006187942199335278,\n",
       " 'min_samples_split': 0.04337420278004596,\n",
       " 'n_estimators': 1}"
      ]
     },
     "execution_count": 49,
     "metadata": {},
     "output_type": "execute_result"
    }
   ],
   "source": [
    "def objective(space):\n",
    "    model = RandomForestRegressor(max_depth = space['max_depth'],\n",
    "                                 min_samples_leaf = space['min_samples_leaf'],\n",
    "                                 min_samples_split = space['min_samples_split'],\n",
    "                                 n_estimators = space['n_estimators'], \n",
    "                                 )\n",
    "    \n",
    "    accuracy = cross_val_score(model, X_train, y_train).mean()\n",
    "    return {'loss': -accuracy, 'status': STATUS_OK } #для решения поиска минимума\n",
    "    \n",
    "trials = Trials()\n",
    "best = fmin(fn = objective,\n",
    "            space= space,\n",
    "            algo= tpe.suggest,\n",
    "            max_evals = 80,\n",
    "            trials= trials)\n",
    "best"
   ]
  },
  {
   "cell_type": "code",
   "execution_count": null,
   "metadata": {},
   "outputs": [],
   "source": [
    "# score составил 0.8231426209180567"
   ]
  }
 ],
 "metadata": {
  "kernelspec": {
   "display_name": "Python 3",
   "language": "python",
   "name": "python3"
  },
  "language_info": {
   "codemirror_mode": {
    "name": "ipython",
    "version": 3
   },
   "file_extension": ".py",
   "mimetype": "text/x-python",
   "name": "python",
   "nbconvert_exporter": "python",
   "pygments_lexer": "ipython3",
   "version": "3.8.3"
  }
 },
 "nbformat": 4,
 "nbformat_minor": 4
}
