{
 "cells": [
  {
   "cell_type": "code",
   "execution_count": 1,
   "metadata": {},
   "outputs": [],
   "source": [
    "import numpy as np"
   ]
  },
  {
   "cell_type": "code",
   "execution_count": 2,
   "metadata": {},
   "outputs": [
    {
     "data": {
      "text/plain": [
       "array(['setosa', 'versicolor', 'virginica'], dtype='<U10')"
      ]
     },
     "execution_count": 2,
     "metadata": {},
     "output_type": "execute_result"
    }
   ],
   "source": [
    "from sklearn import datasets\n",
    "iris = datasets.load_iris()\n",
    "iris.target_names"
   ]
  },
  {
   "cell_type": "code",
   "execution_count": 3,
   "metadata": {},
   "outputs": [
    {
     "data": {
      "text/plain": [
       "['sepal length (cm)',\n",
       " 'sepal width (cm)',\n",
       " 'petal length (cm)',\n",
       " 'petal width (cm)']"
      ]
     },
     "execution_count": 3,
     "metadata": {},
     "output_type": "execute_result"
    }
   ],
   "source": [
    "iris.feature_names"
   ]
  },
  {
   "cell_type": "code",
   "execution_count": 4,
   "metadata": {},
   "outputs": [],
   "source": [
    "X = []\n",
    "Y = []\n",
    "for idx, item in enumerate(iris.target):\n",
    "    if item != 0: #убираем setosa\n",
    "        X.append(iris.data[idx])\n",
    "        Y.append(item) \n",
    "\n",
    "X = np.asarray(X)\n",
    "Y = np.asarray(Y)"
   ]
  },
  {
   "cell_type": "code",
   "execution_count": 5,
   "metadata": {},
   "outputs": [],
   "source": [
    "#переклассифицируем в классы 0 и 1 вместо 2 и 3\n",
    "from sklearn.preprocessing import LabelEncoder\n",
    "le = LabelEncoder()\n",
    "le.fit(Y)\n",
    "le.classes_\n",
    "Y = le.transform(Y)"
   ]
  },
  {
   "cell_type": "markdown",
   "metadata": {},
   "source": [
    "### Градиентный спуск"
   ]
  },
  {
   "cell_type": "code",
   "execution_count": 97,
   "metadata": {},
   "outputs": [],
   "source": [
    "def predict(theta, X):\n",
    "    \"\"\"\n",
    "    Предсказываем класс с помощью сигмоиды\n",
    "    \"\"\"\n",
    "    predict = theta[0] + theta[1] * X[:, 0] + theta[2] * X[:, 1] + theta[3] * X[:, 2] + theta[4] * X[:, 3]\n",
    "    sigm = 1. / (1 + np.exp(-predict))\n",
    "    return sigm\n",
    "\n",
    "def get_min_grad(lr,iter_,treshhold):\n",
    "    \"\"\"\n",
    "    Находим значение ф-ии потерь методом град спуска \n",
    "    \"\"\"\n",
    "    theta = []\n",
    "    theta = np.random.normal(size=(5,))\n",
    "    grad_loss_hist = []\n",
    "    for _ in range(iter_):\n",
    "        sigm = predict(theta, X)\n",
    "        theta[0] -= lr * np.sum(sigm - Y)/len(sigm)\n",
    "        theta[1] -= lr * np.sum((sigm - Y) * X[:, 0])/len(sigm)\n",
    "        theta[2] -= lr * np.sum((sigm - Y) * X[:, 1])/len(sigm)\n",
    "        theta[3] -= lr * np.sum((sigm - Y) * X[:, 2])/len(sigm)\n",
    "        theta[4] -= lr * np.sum((sigm - Y) * X[:, 3])/len(sigm)\n",
    "        loss = - np.mean(np.log(sigm) * Y + np.log(1 - sigm) * (1 - Y))\n",
    "        grad_loss_hist.append(loss)\n",
    "    if loss<treshhold:\n",
    "        return [theta,grad_loss_hist]\n",
    "    else:\n",
    "        print(f'Минимум ф-ии не получен, превышено допустимое кол-во итераций')\n",
    "        \n",
    "def score_grad(theta,grad_loss_hist):\n",
    "    \"\"\"\n",
    "    Считаем accuracy\n",
    "    \"\"\"\n",
    "    err = 0\n",
    "    for idx, item in enumerate(np.around(predict(theta, X))):\n",
    "        if item != Y[idx]:\n",
    "            err += 1\n",
    "    return (len(grad_loss_hist)- err)/len(grad_loss_hist)"
   ]
  },
  {
   "cell_type": "code",
   "execution_count": 107,
   "metadata": {},
   "outputs": [
    {
     "data": {
      "text/plain": [
       "array([-1.11909049, -1.81556461, -1.54246855,  2.74533262,  2.11037568])"
      ]
     },
     "execution_count": 107,
     "metadata": {},
     "output_type": "execute_result"
    }
   ],
   "source": [
    "#Находим параметры модели, при которых достигли минимума\n",
    "model = get_min_grad(0.05, 1000, 0.5)\n",
    "model[0]"
   ]
  },
  {
   "cell_type": "code",
   "execution_count": 108,
   "metadata": {},
   "outputs": [
    {
     "data": {
      "text/plain": [
       "0.997"
      ]
     },
     "execution_count": 108,
     "metadata": {},
     "output_type": "execute_result"
    }
   ],
   "source": [
    "#Считаем наш score (accuracy) при полученных параметрах\n",
    "score_grad(model[0],model[1])"
   ]
  },
  {
   "cell_type": "markdown",
   "metadata": {},
   "source": [
    "### Nesterov momentum"
   ]
  },
  {
   "cell_type": "code",
   "execution_count": 102,
   "metadata": {},
   "outputs": [],
   "source": [
    "def predict(theta, X):\n",
    "    \"\"\"\n",
    "    Предсказываем класс с помощью сигмоиды\n",
    "    \"\"\"\n",
    "    predict = theta[0] + theta[1] * X[:, 0] + theta[2] * X[:, 1] + theta[3] * X[:, 2] + theta[4] * X[:, 3]\n",
    "    sigm = 1. / (1 + np.exp(-predict))\n",
    "    return sigm\n",
    "\n",
    "def get_min_nest(lr,iter_,treshhold,gamma):\n",
    "    \"\"\"\n",
    "    Находим значение ф-ии потерь методом Nesterov momentum\n",
    "    \"\"\"\n",
    "    theta = []\n",
    "    theta = np.random.normal(size=(5,)) \n",
    "    nest_loss_hist = []\n",
    "    vel_pred = np.zeros(5)\n",
    "    vel = np.zeros(5)\n",
    "    for _ in range(iter_):\n",
    "        sigm = predict(theta, X)\n",
    "        loss = - np.mean(np.log(sigm) * Y + np.log(1 - sigm) * (1 - Y))\n",
    "        nest_loss_hist.append(loss)\n",
    "        sigm = predict(theta - gamma * vel_pred, X)\n",
    "        vel[0] = (gamma * vel_pred[0] + lr * np.sum(sigm - Y))/len(sigm)\n",
    "        vel[1] = (gamma * vel_pred[1] + lr * np.sum((sigm - Y) * X[:, 0]))/len(sigm)\n",
    "        vel[2] = (gamma * vel_pred[2] + lr * np.sum((sigm - Y) * X[:, 1]))/len(sigm)\n",
    "        vel[3] = (gamma * vel_pred[3] + lr * np.sum((sigm - Y) * X[:, 2]))/len(sigm)\n",
    "        vel[4] = (gamma * vel_pred[4] + lr * np.sum((sigm - Y) * X[:, 3]))/len(sigm)\n",
    "        theta -= vel\n",
    "        vel_pred = vel\n",
    "    if loss<treshhold:\n",
    "        return [theta,nest_loss_hist]\n",
    "    else:\n",
    "        print(f'Минимум ф-ии не получен, превышено допустимое кол-во итераций')\n",
    "        \n",
    "def score_nest(theta,nest_loss_hist):\n",
    "    \"\"\"\n",
    "    Считаем accuracy\n",
    "    \"\"\"\n",
    "    err = 0\n",
    "    for idx, item in enumerate(np.around(predict(theta, X))):\n",
    "        if item != Y[idx]:\n",
    "            err += 1\n",
    "    return (len(nest_loss_hist)- err)/len(nest_loss_hist)"
   ]
  },
  {
   "cell_type": "code",
   "execution_count": 103,
   "metadata": {},
   "outputs": [
    {
     "data": {
      "text/plain": [
       "array([-2.26739732, -1.96555796, -0.92334972,  2.85445114,  1.96630439])"
      ]
     },
     "execution_count": 103,
     "metadata": {},
     "output_type": "execute_result"
    }
   ],
   "source": [
    "#Находим параметры модели, при которых достигли минимума\n",
    "model2 = get_min_nest(0.05,1000,0.5,0.975)\n",
    "model2[0]"
   ]
  },
  {
   "cell_type": "code",
   "execution_count": 104,
   "metadata": {},
   "outputs": [
    {
     "data": {
      "text/plain": [
       "0.997"
      ]
     },
     "execution_count": 104,
     "metadata": {},
     "output_type": "execute_result"
    }
   ],
   "source": [
    "#Считаем наш score (accuracy) при полученных параметрах\n",
    "score_nest(model2[0],model2[1])"
   ]
  },
  {
   "cell_type": "markdown",
   "metadata": {},
   "source": [
    "### RMSProp"
   ]
  },
  {
   "cell_type": "code",
   "execution_count": 115,
   "metadata": {},
   "outputs": [],
   "source": [
    "def predict(theta, X):\n",
    "    \"\"\"\n",
    "    Предсказываем класс с помощью сигмоиды\n",
    "    \"\"\"\n",
    "    predict = theta[0] + theta[1] * X[:, 0] + theta[2] * X[:, 1] + theta[3] * X[:, 2] + theta[4] * X[:, 3]\n",
    "    sigm = 1. / (1 + np.exp(-predict))\n",
    "    return sigm\n",
    "\n",
    "def get_min_rmsp(lr,iter_,treshhold,gamma,eps):\n",
    "    \"\"\"\n",
    "    Находим значение ф-ии потерь методом \n",
    "    \"\"\"\n",
    "    theta = []\n",
    "    theta = np.random.normal(size=(5,)) \n",
    "    rmsp_loss_hist = []\n",
    "    e_sq_grad = np.zeros(5)\n",
    "    grad = np.zeros(5)\n",
    "    for _ in range(iter_):\n",
    "        sigm = predict(theta, X)\n",
    "        loss = - np.mean(np.log(sigm) * Y + np.log(1 - sigm) * (1 - Y))\n",
    "        rmsp_loss_hist.append(loss)\n",
    "        grad[0] = np.sum(sigm - Y)/len(sigm)\n",
    "        grad[1] = np.sum((sigm - Y) * X[:, 0])/len(sigm)\n",
    "        grad[2] = np.sum((sigm - Y) * X[:, 1])/len(sigm)\n",
    "        grad[3] = np.sum((sigm - Y) * X[:, 2])/len(sigm)\n",
    "        grad[4] = np.sum((sigm - Y) * X[:, 3])/len(sigm)\n",
    "        e_sq_grad = gamma * e_sq_grad + (1 - gamma)  * grad ** 2\n",
    "        theta -= lr * grad / np.sqrt(e_sq_grad + eps)\n",
    "    if loss<treshhold:\n",
    "        return [theta,rmsp_loss_hist]\n",
    "    else:\n",
    "        print(f'Минимум ф-ии не получен, превышено допустимое кол-во итераций')\n",
    "        \n",
    "def score_rmsp(theta,rmsp_loss_hist):\n",
    "    \"\"\"\n",
    "    Считаем accuracy\n",
    "    \"\"\"\n",
    "    err = 0\n",
    "    for idx, item in enumerate(np.around(predict(theta, X))):\n",
    "        if item != Y[idx]:\n",
    "            err += 1\n",
    "    return (len(rmsp_loss_hist)- err)/len(rmsp_loss_hist)"
   ]
  },
  {
   "cell_type": "code",
   "execution_count": 116,
   "metadata": {},
   "outputs": [
    {
     "data": {
      "text/plain": [
       "array([-9.286705  , -2.22363853, -4.01758041,  4.03265485,  8.72970204])"
      ]
     },
     "execution_count": 116,
     "metadata": {},
     "output_type": "execute_result"
    }
   ],
   "source": [
    "#Находим параметры модели, при которых достигли минимума\n",
    "model3 = get_min_rmsp(0.05,1000,0.5,0.975,0.00000001)\n",
    "model3[0]"
   ]
  },
  {
   "cell_type": "code",
   "execution_count": 117,
   "metadata": {},
   "outputs": [
    {
     "data": {
      "text/plain": [
       "0.998"
      ]
     },
     "execution_count": 117,
     "metadata": {},
     "output_type": "execute_result"
    }
   ],
   "source": [
    "#Считаем наш score (accuracy) при полученных параметрах\n",
    "score_rmsp(model3[0],model3[1])"
   ]
  },
  {
   "cell_type": "code",
   "execution_count": null,
   "metadata": {},
   "outputs": [],
   "source": []
  }
 ],
 "metadata": {
  "kernelspec": {
   "display_name": "Python 3",
   "language": "python",
   "name": "python3"
  },
  "language_info": {
   "codemirror_mode": {
    "name": "ipython",
    "version": 3
   },
   "file_extension": ".py",
   "mimetype": "text/x-python",
   "name": "python",
   "nbconvert_exporter": "python",
   "pygments_lexer": "ipython3",
   "version": "3.8.3"
  }
 },
 "nbformat": 4,
 "nbformat_minor": 4
}
