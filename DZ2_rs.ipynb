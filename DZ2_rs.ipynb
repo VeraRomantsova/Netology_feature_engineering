{
 "cells": [
  {
   "cell_type": "markdown",
   "metadata": {},
   "source": [
    "## ПАКЕТ SURPRISE\n",
    " * используйте данные MovieLens 1M\n",
    "\n",
    " * можно использовать любые модели из пакета\n",
    " * получите RMSE на тестовом сете 0.87 и ниже\n",
    " Комментарий преподавателя:\n",
    " * В ДЗ на датасет 1М может не хватить RAM. Можно сделать на 100K. Качество RMSE предлагаю считать на основе CrossValidation (5 фолдов), а не отложенном датасете."
   ]
  },
  {
   "cell_type": "code",
   "execution_count": 13,
   "metadata": {},
   "outputs": [],
   "source": [
    "from surprise import KNNWithMeans, KNNBasic, SVD, SVDpp, NMF #методы ближ соседей\n",
    "from surprise import Dataset # модуль для обработки данных спец способом (без этого surprise не работает)\n",
    "from surprise import accuracy #модуль с метриками, не только accuracy\n",
    "from surprise import Reader # работает с Dataset\n",
    "# from surprise.model_selection import train_test_split\n",
    "import pandas as pd\n",
    "from surprise.model_selection import cross_validate\n",
    "from surprise.model_selection import GridSearchCV\n",
    "from sklearn.model_selection import train_test_split"
   ]
  },
  {
   "cell_type": "code",
   "execution_count": 2,
   "metadata": {},
   "outputs": [],
   "source": [
    "# Делаю на 100К\n",
    "movies = pd.read_csv('movies.csv')\n",
    "ratings = pd.read_csv('ratings.csv')"
   ]
  },
  {
   "cell_type": "code",
   "execution_count": 3,
   "metadata": {},
   "outputs": [
    {
     "data": {
      "text/html": [
       "<div>\n",
       "<style scoped>\n",
       "    .dataframe tbody tr th:only-of-type {\n",
       "        vertical-align: middle;\n",
       "    }\n",
       "\n",
       "    .dataframe tbody tr th {\n",
       "        vertical-align: top;\n",
       "    }\n",
       "\n",
       "    .dataframe thead th {\n",
       "        text-align: right;\n",
       "    }\n",
       "</style>\n",
       "<table border=\"1\" class=\"dataframe\">\n",
       "  <thead>\n",
       "    <tr style=\"text-align: right;\">\n",
       "      <th></th>\n",
       "      <th>userId</th>\n",
       "      <th>movieId</th>\n",
       "      <th>rating</th>\n",
       "      <th>timestamp</th>\n",
       "    </tr>\n",
       "  </thead>\n",
       "  <tbody>\n",
       "    <tr>\n",
       "      <th>0</th>\n",
       "      <td>1</td>\n",
       "      <td>1</td>\n",
       "      <td>4.0</td>\n",
       "      <td>964982703</td>\n",
       "    </tr>\n",
       "    <tr>\n",
       "      <th>1</th>\n",
       "      <td>1</td>\n",
       "      <td>3</td>\n",
       "      <td>4.0</td>\n",
       "      <td>964981247</td>\n",
       "    </tr>\n",
       "    <tr>\n",
       "      <th>2</th>\n",
       "      <td>1</td>\n",
       "      <td>6</td>\n",
       "      <td>4.0</td>\n",
       "      <td>964982224</td>\n",
       "    </tr>\n",
       "    <tr>\n",
       "      <th>3</th>\n",
       "      <td>1</td>\n",
       "      <td>47</td>\n",
       "      <td>5.0</td>\n",
       "      <td>964983815</td>\n",
       "    </tr>\n",
       "    <tr>\n",
       "      <th>4</th>\n",
       "      <td>1</td>\n",
       "      <td>50</td>\n",
       "      <td>5.0</td>\n",
       "      <td>964982931</td>\n",
       "    </tr>\n",
       "  </tbody>\n",
       "</table>\n",
       "</div>"
      ],
      "text/plain": [
       "   userId  movieId  rating  timestamp\n",
       "0       1        1     4.0  964982703\n",
       "1       1        3     4.0  964981247\n",
       "2       1        6     4.0  964982224\n",
       "3       1       47     5.0  964983815\n",
       "4       1       50     5.0  964982931"
      ]
     },
     "execution_count": 3,
     "metadata": {},
     "output_type": "execute_result"
    }
   ],
   "source": [
    "ratings.head()"
   ]
  },
  {
   "cell_type": "code",
   "execution_count": 4,
   "metadata": {},
   "outputs": [],
   "source": [
    "movies_with_ratings = movies.join(ratings.set_index('movieId'), on='movieId').reset_index(drop=True)\n",
    "movies_with_ratings.dropna(inplace=True)"
   ]
  },
  {
   "cell_type": "code",
   "execution_count": 5,
   "metadata": {},
   "outputs": [],
   "source": [
    "# преобразовываем датасет для использования пакетом surprise\n",
    "dataset = pd.DataFrame({\n",
    "    'uid': movies_with_ratings.userId,\n",
    "    'iid': movies_with_ratings.title,\n",
    "    'rating': movies_with_ratings.rating\n",
    "})"
   ]
  },
  {
   "cell_type": "code",
   "execution_count": 6,
   "metadata": {},
   "outputs": [
    {
     "data": {
      "text/html": [
       "<div>\n",
       "<style scoped>\n",
       "    .dataframe tbody tr th:only-of-type {\n",
       "        vertical-align: middle;\n",
       "    }\n",
       "\n",
       "    .dataframe tbody tr th {\n",
       "        vertical-align: top;\n",
       "    }\n",
       "\n",
       "    .dataframe thead th {\n",
       "        text-align: right;\n",
       "    }\n",
       "</style>\n",
       "<table border=\"1\" class=\"dataframe\">\n",
       "  <thead>\n",
       "    <tr style=\"text-align: right;\">\n",
       "      <th></th>\n",
       "      <th>uid</th>\n",
       "      <th>iid</th>\n",
       "      <th>rating</th>\n",
       "    </tr>\n",
       "  </thead>\n",
       "  <tbody>\n",
       "    <tr>\n",
       "      <th>0</th>\n",
       "      <td>1.0</td>\n",
       "      <td>Toy Story (1995)</td>\n",
       "      <td>4.0</td>\n",
       "    </tr>\n",
       "    <tr>\n",
       "      <th>1</th>\n",
       "      <td>5.0</td>\n",
       "      <td>Toy Story (1995)</td>\n",
       "      <td>4.0</td>\n",
       "    </tr>\n",
       "    <tr>\n",
       "      <th>2</th>\n",
       "      <td>7.0</td>\n",
       "      <td>Toy Story (1995)</td>\n",
       "      <td>4.5</td>\n",
       "    </tr>\n",
       "    <tr>\n",
       "      <th>3</th>\n",
       "      <td>15.0</td>\n",
       "      <td>Toy Story (1995)</td>\n",
       "      <td>2.5</td>\n",
       "    </tr>\n",
       "    <tr>\n",
       "      <th>4</th>\n",
       "      <td>17.0</td>\n",
       "      <td>Toy Story (1995)</td>\n",
       "      <td>4.5</td>\n",
       "    </tr>\n",
       "  </tbody>\n",
       "</table>\n",
       "</div>"
      ],
      "text/plain": [
       "    uid               iid  rating\n",
       "0   1.0  Toy Story (1995)     4.0\n",
       "1   5.0  Toy Story (1995)     4.0\n",
       "2   7.0  Toy Story (1995)     4.5\n",
       "3  15.0  Toy Story (1995)     2.5\n",
       "4  17.0  Toy Story (1995)     4.5"
      ]
     },
     "execution_count": 6,
     "metadata": {},
     "output_type": "execute_result"
    }
   ],
   "source": [
    "dataset.head()"
   ]
  },
  {
   "cell_type": "code",
   "execution_count": 7,
   "metadata": {},
   "outputs": [
    {
     "name": "stdout",
     "output_type": "stream",
     "text": [
      "Минимальное значение рейтинга: 0.5\n",
      "Максимальное значение рейтинга: 5.0\n"
     ]
    }
   ],
   "source": [
    "min_ = dataset.rating.min()\n",
    "max_ = dataset.rating.max()\n",
    "print(f'Минимальное значение рейтинга: {min_}')\n",
    "print(f'Максимальное значение рейтинга: {max_}')"
   ]
  },
  {
   "cell_type": "code",
   "execution_count": 8,
   "metadata": {},
   "outputs": [],
   "source": [
    "# trainset, testset = train_test_split(dataset, test_size=.15) #делим данные на обучаемые и тестовые\n",
    "# # делю в sklearn, потом уже прогоняю через reader в surprise"
   ]
  },
  {
   "cell_type": "code",
   "execution_count": 9,
   "metadata": {},
   "outputs": [],
   "source": [
    "reader = Reader(rating_scale=(min_, max_)) #задаем границы рейтинга\n",
    "dataset = Dataset.load_from_df(dataset, reader)\n",
    "# train = Dataset.load_from_df(trainset, reader)\n",
    "# test = Dataset.load_from_df(testset, reader)"
   ]
  },
  {
   "cell_type": "code",
   "execution_count": 17,
   "metadata": {},
   "outputs": [
    {
     "name": "stdout",
     "output_type": "stream",
     "text": [
      "Computing the msd similarity matrix...\n",
      "Done computing similarity matrix.\n",
      "Computing the msd similarity matrix...\n",
      "Done computing similarity matrix.\n",
      "Computing the msd similarity matrix...\n",
      "Done computing similarity matrix.\n",
      "Computing the msd similarity matrix...\n",
      "Done computing similarity matrix.\n",
      "Computing the msd similarity matrix...\n",
      "Done computing similarity matrix.\n",
      "Computing the cosine similarity matrix...\n",
      "Done computing similarity matrix.\n",
      "Computing the cosine similarity matrix...\n",
      "Done computing similarity matrix.\n",
      "Computing the cosine similarity matrix...\n",
      "Done computing similarity matrix.\n",
      "Computing the cosine similarity matrix...\n",
      "Done computing similarity matrix.\n",
      "Computing the cosine similarity matrix...\n",
      "Done computing similarity matrix.\n",
      "Computing the pearson similarity matrix...\n",
      "Done computing similarity matrix.\n",
      "Computing the pearson similarity matrix...\n",
      "Done computing similarity matrix.\n",
      "Computing the pearson similarity matrix...\n",
      "Done computing similarity matrix.\n",
      "Computing the pearson similarity matrix...\n",
      "Done computing similarity matrix.\n",
      "Computing the pearson similarity matrix...\n",
      "Done computing similarity matrix.\n",
      "Computing the msd similarity matrix...\n",
      "Done computing similarity matrix.\n",
      "Computing the msd similarity matrix...\n",
      "Done computing similarity matrix.\n",
      "Computing the msd similarity matrix...\n",
      "Done computing similarity matrix.\n",
      "Computing the msd similarity matrix...\n",
      "Done computing similarity matrix.\n",
      "Computing the msd similarity matrix...\n",
      "Done computing similarity matrix.\n",
      "Computing the cosine similarity matrix...\n",
      "Done computing similarity matrix.\n",
      "Computing the cosine similarity matrix...\n",
      "Done computing similarity matrix.\n",
      "Computing the cosine similarity matrix...\n",
      "Done computing similarity matrix.\n",
      "Computing the cosine similarity matrix...\n",
      "Done computing similarity matrix.\n",
      "Computing the cosine similarity matrix...\n",
      "Done computing similarity matrix.\n",
      "Computing the pearson similarity matrix...\n",
      "Done computing similarity matrix.\n",
      "Computing the pearson similarity matrix...\n",
      "Done computing similarity matrix.\n",
      "Computing the pearson similarity matrix...\n",
      "Done computing similarity matrix.\n",
      "Computing the pearson similarity matrix...\n",
      "Done computing similarity matrix.\n",
      "Computing the pearson similarity matrix...\n",
      "Done computing similarity matrix.\n",
      "Computing the msd similarity matrix...\n",
      "Done computing similarity matrix.\n",
      "Computing the msd similarity matrix...\n",
      "Done computing similarity matrix.\n",
      "Computing the msd similarity matrix...\n",
      "Done computing similarity matrix.\n",
      "Computing the msd similarity matrix...\n",
      "Done computing similarity matrix.\n",
      "Computing the msd similarity matrix...\n",
      "Done computing similarity matrix.\n",
      "Computing the cosine similarity matrix...\n",
      "Done computing similarity matrix.\n",
      "Computing the cosine similarity matrix...\n",
      "Done computing similarity matrix.\n",
      "Computing the cosine similarity matrix...\n",
      "Done computing similarity matrix.\n",
      "Computing the cosine similarity matrix...\n",
      "Done computing similarity matrix.\n",
      "Computing the cosine similarity matrix...\n",
      "Done computing similarity matrix.\n",
      "Computing the pearson similarity matrix...\n",
      "Done computing similarity matrix.\n",
      "Computing the pearson similarity matrix...\n",
      "Done computing similarity matrix.\n",
      "Computing the pearson similarity matrix...\n",
      "Done computing similarity matrix.\n",
      "Computing the pearson similarity matrix...\n",
      "Done computing similarity matrix.\n",
      "Computing the pearson similarity matrix...\n",
      "Done computing similarity matrix.\n",
      "0.9393770953108838\n",
      "{'k': 10, 'sim_options': {'name': 'msd', 'user_based': True}}\n"
     ]
    }
   ],
   "source": [
    "# KNNBasic - подберем параметры\n",
    "param_grid_knn_basic = {'k': [10, 30, 50],\n",
    "              'sim_options': {'name': ['msd', 'cosine','pearson']}\n",
    "              }\n",
    "gs_knn_basic = GridSearchCV(KNNBasic, param_grid_knn_basic, measures=['rmse'], cv=5)\n",
    "gs_knn_basic.fit(dataset)\n",
    "\n",
    "# лучший RMSE\n",
    "print(gs_knn_basic.best_score['rmse'])\n",
    "\n",
    "# комбинация параметров, которая дает лучший RMSE\n",
    "print(gs_knn_basic.best_params['rmse'])"
   ]
  },
  {
   "cell_type": "code",
   "execution_count": 18,
   "metadata": {},
   "outputs": [
    {
     "name": "stdout",
     "output_type": "stream",
     "text": [
      "Computing the msd similarity matrix...\n",
      "Done computing similarity matrix.\n",
      "Computing the msd similarity matrix...\n",
      "Done computing similarity matrix.\n",
      "Computing the msd similarity matrix...\n",
      "Done computing similarity matrix.\n",
      "Computing the msd similarity matrix...\n",
      "Done computing similarity matrix.\n",
      "Computing the msd similarity matrix...\n",
      "Done computing similarity matrix.\n",
      "Evaluating RMSE of algorithm KNNBasic on 5 split(s).\n",
      "\n",
      "                  Fold 1  Fold 2  Fold 3  Fold 4  Fold 5  Mean    Std     \n",
      "RMSE (testset)    0.9499  0.9373  0.9354  0.9452  0.9439  0.9423  0.0053  \n",
      "Fit time          0.23    0.28    0.26    0.33    0.32    0.29    0.04    \n",
      "Test time         1.53    1.47    1.38    2.06    1.47    1.58    0.24    \n"
     ]
    },
    {
     "data": {
      "text/plain": [
       "{'test_rmse': array([0.94989658, 0.93727168, 0.9354111 , 0.94521787, 0.94388124]),\n",
       " 'fit_time': (0.23436236381530762,\n",
       "  0.2812917232513428,\n",
       "  0.25920820236206055,\n",
       "  0.33197617530822754,\n",
       "  0.31854987144470215),\n",
       " 'test_time': (1.5296697616577148,\n",
       "  1.470170497894287,\n",
       "  1.3818585872650146,\n",
       "  2.055899143218994,\n",
       "  1.4710314273834229)}"
      ]
     },
     "execution_count": 18,
     "metadata": {},
     "output_type": "execute_result"
    }
   ],
   "source": [
    "algo_knn_basic = gs_knn_basic.best_estimator['rmse']\n",
    "# посчитаем RMSE при помощи cross_validate\n",
    "cross_validate(algo_knn_basic, dataset, measures = ['RMSE'], cv = 5, verbose = True)"
   ]
  },
  {
   "cell_type": "code",
   "execution_count": 19,
   "metadata": {},
   "outputs": [
    {
     "name": "stdout",
     "output_type": "stream",
     "text": [
      "Computing the msd similarity matrix...\n",
      "Done computing similarity matrix.\n",
      "Computing the msd similarity matrix...\n",
      "Done computing similarity matrix.\n",
      "Computing the msd similarity matrix...\n",
      "Done computing similarity matrix.\n",
      "Computing the msd similarity matrix...\n",
      "Done computing similarity matrix.\n",
      "Computing the msd similarity matrix...\n",
      "Done computing similarity matrix.\n",
      "Computing the cosine similarity matrix...\n",
      "Done computing similarity matrix.\n",
      "Computing the cosine similarity matrix...\n",
      "Done computing similarity matrix.\n",
      "Computing the cosine similarity matrix...\n",
      "Done computing similarity matrix.\n",
      "Computing the cosine similarity matrix...\n",
      "Done computing similarity matrix.\n",
      "Computing the cosine similarity matrix...\n",
      "Done computing similarity matrix.\n",
      "Computing the pearson similarity matrix...\n",
      "Done computing similarity matrix.\n",
      "Computing the pearson similarity matrix...\n",
      "Done computing similarity matrix.\n",
      "Computing the pearson similarity matrix...\n",
      "Done computing similarity matrix.\n",
      "Computing the pearson similarity matrix...\n",
      "Done computing similarity matrix.\n",
      "Computing the pearson similarity matrix...\n",
      "Done computing similarity matrix.\n",
      "Computing the msd similarity matrix...\n",
      "Done computing similarity matrix.\n",
      "Computing the msd similarity matrix...\n",
      "Done computing similarity matrix.\n",
      "Computing the msd similarity matrix...\n",
      "Done computing similarity matrix.\n",
      "Computing the msd similarity matrix...\n",
      "Done computing similarity matrix.\n",
      "Computing the msd similarity matrix...\n",
      "Done computing similarity matrix.\n",
      "Computing the cosine similarity matrix...\n",
      "Done computing similarity matrix.\n",
      "Computing the cosine similarity matrix...\n",
      "Done computing similarity matrix.\n",
      "Computing the cosine similarity matrix...\n",
      "Done computing similarity matrix.\n",
      "Computing the cosine similarity matrix...\n",
      "Done computing similarity matrix.\n",
      "Computing the cosine similarity matrix...\n",
      "Done computing similarity matrix.\n",
      "Computing the pearson similarity matrix...\n",
      "Done computing similarity matrix.\n",
      "Computing the pearson similarity matrix...\n",
      "Done computing similarity matrix.\n",
      "Computing the pearson similarity matrix...\n",
      "Done computing similarity matrix.\n",
      "Computing the pearson similarity matrix...\n",
      "Done computing similarity matrix.\n",
      "Computing the pearson similarity matrix...\n",
      "Done computing similarity matrix.\n",
      "Computing the msd similarity matrix...\n",
      "Done computing similarity matrix.\n",
      "Computing the msd similarity matrix...\n",
      "Done computing similarity matrix.\n",
      "Computing the msd similarity matrix...\n",
      "Done computing similarity matrix.\n",
      "Computing the msd similarity matrix...\n",
      "Done computing similarity matrix.\n",
      "Computing the msd similarity matrix...\n",
      "Done computing similarity matrix.\n",
      "Computing the cosine similarity matrix...\n",
      "Done computing similarity matrix.\n",
      "Computing the cosine similarity matrix...\n",
      "Done computing similarity matrix.\n",
      "Computing the cosine similarity matrix...\n",
      "Done computing similarity matrix.\n",
      "Computing the cosine similarity matrix...\n",
      "Done computing similarity matrix.\n",
      "Computing the cosine similarity matrix...\n",
      "Done computing similarity matrix.\n",
      "Computing the pearson similarity matrix...\n",
      "Done computing similarity matrix.\n",
      "Computing the pearson similarity matrix...\n",
      "Done computing similarity matrix.\n",
      "Computing the pearson similarity matrix...\n",
      "Done computing similarity matrix.\n",
      "Computing the pearson similarity matrix...\n",
      "Done computing similarity matrix.\n",
      "Computing the pearson similarity matrix...\n",
      "Done computing similarity matrix.\n",
      "0.8970106847679398\n",
      "{'k': 50, 'sim_options': {'name': 'pearson', 'user_based': True}}\n"
     ]
    }
   ],
   "source": [
    "# KNNWithMeans - подберем параметры\n",
    "param_knn_means = {'k': [10, 30, 50],\n",
    "              'sim_options': {'name': ['msd', 'cosine','pearson']}\n",
    "              }\n",
    "gs_knn_means = GridSearchCV(KNNWithMeans, param_knn_means, measures=['rmse'], cv=5)\n",
    "gs_knn_means.fit(dataset)\n",
    "\n",
    "# лучший RMSE\n",
    "print(gs_knn_means.best_score['rmse'])\n",
    "\n",
    "# комбинация параметров, которая дает лучший RMSE\n",
    "print(gs_knn_means.best_params['rmse'])"
   ]
  },
  {
   "cell_type": "code",
   "execution_count": 21,
   "metadata": {},
   "outputs": [
    {
     "name": "stdout",
     "output_type": "stream",
     "text": [
      "Computing the pearson similarity matrix...\n",
      "Done computing similarity matrix.\n",
      "Computing the pearson similarity matrix...\n",
      "Done computing similarity matrix.\n",
      "Computing the pearson similarity matrix...\n",
      "Done computing similarity matrix.\n",
      "Computing the pearson similarity matrix...\n",
      "Done computing similarity matrix.\n",
      "Computing the pearson similarity matrix...\n",
      "Done computing similarity matrix.\n",
      "Evaluating RMSE of algorithm KNNWithMeans on 5 split(s).\n",
      "\n",
      "                  Fold 1  Fold 2  Fold 3  Fold 4  Fold 5  Mean    Std     \n",
      "RMSE (testset)    0.8897  0.9071  0.8952  0.8915  0.8978  0.8963  0.0061  \n",
      "Fit time          1.04    1.04    1.02    1.02    1.23    1.07    0.08    \n",
      "Test time         2.18    2.00    2.03    2.22    2.26    2.14    0.10    \n"
     ]
    },
    {
     "data": {
      "text/plain": [
       "{'test_rmse': array([0.88969819, 0.90705957, 0.89516334, 0.89154021, 0.89784739]),\n",
       " 'fit_time': (1.0446743965148926,\n",
       "  1.0418808460235596,\n",
       "  1.0224239826202393,\n",
       "  1.015566110610962,\n",
       "  1.2313220500946045),\n",
       " 'test_time': (2.1831510066986084,\n",
       "  2.004120111465454,\n",
       "  2.028127670288086,\n",
       "  2.2166616916656494,\n",
       "  2.2628538608551025)}"
      ]
     },
     "execution_count": 21,
     "metadata": {},
     "output_type": "execute_result"
    }
   ],
   "source": [
    "algo_knn_means = gs_knn_means.best_estimator['rmse']\n",
    "# посчитаем RMSE при помощи cross_validate\n",
    "cross_validate(algo_knn_means, dataset, measures = ['RMSE'], cv = 5, verbose = True)"
   ]
  },
  {
   "cell_type": "code",
   "execution_count": 10,
   "metadata": {
    "scrolled": true
   },
   "outputs": [
    {
     "name": "stdout",
     "output_type": "stream",
     "text": [
      "0.8622160485299792\n",
      "{'n_factors': 200, 'n_epochs': 100, 'lr_all': 0.01, 'reg_all': 0.2}\n"
     ]
    }
   ],
   "source": [
    "# SVD - подберем параметры\n",
    "\n",
    "param_grid_svd = {'n_factors': [100, 200], 'n_epochs': [50, 100], 'lr_all': [0.005, 0.01],\n",
    "              'reg_all': [0.2,0.4,0.6]}\n",
    "gs_svd = GridSearchCV(SVD, param_grid_svd, measures=['rmse'], cv=5, n_jobs=-1)\n",
    "gs_svd.fit(dataset)\n",
    "\n",
    "# лучший RMSE\n",
    "print(gs_svd.best_score['rmse'])\n",
    "\n",
    "# комбинация параметров, которая дает лучший RMSE\n",
    "print(gs_svd.best_params['rmse'])"
   ]
  },
  {
   "cell_type": "code",
   "execution_count": 11,
   "metadata": {},
   "outputs": [
    {
     "name": "stdout",
     "output_type": "stream",
     "text": [
      "Evaluating RMSE of algorithm SVD on 5 split(s).\n",
      "\n",
      "                  Fold 1  Fold 2  Fold 3  Fold 4  Fold 5  Mean    Std     \n",
      "RMSE (testset)    0.8690  0.8564  0.8695  0.8657  0.8566  0.8634  0.0058  \n",
      "Fit time          52.92   51.43   51.91   52.27   53.78   52.46   0.82    \n",
      "Test time         0.28    0.20    0.16    0.20    0.20    0.21    0.04    \n"
     ]
    },
    {
     "data": {
      "text/plain": [
       "{'test_rmse': array([0.86895913, 0.85643331, 0.86949165, 0.86567364, 0.85660721]),\n",
       " 'fit_time': (52.91525745391846,\n",
       "  51.426679849624634,\n",
       "  51.91125512123108,\n",
       "  52.26606464385986,\n",
       "  53.78134560585022),\n",
       " 'test_time': (0.284271240234375,\n",
       "  0.20313048362731934,\n",
       "  0.1562497615814209,\n",
       "  0.20207881927490234,\n",
       "  0.20411062240600586)}"
      ]
     },
     "execution_count": 11,
     "metadata": {},
     "output_type": "execute_result"
    }
   ],
   "source": [
    "algo_svd = gs_svd.best_estimator['rmse']\n",
    "cross_validate(algo_svd, dataset, measures = ['RMSE'], cv = 5, verbose = True)"
   ]
  },
  {
   "cell_type": "code",
   "execution_count": 16,
   "metadata": {},
   "outputs": [],
   "source": [
    "# # SVDpp\n",
    "\n",
    "# param_grid_pp = {'n_factors': [200], 'n_epochs': [100], 'lr_all': [0.01],\n",
    "#               'reg_all': [0.2,0.4]}\n",
    "# gs3 = GridSearchCV(SVDpp, param_grid_pp, measures=['rmse'], cv=3, n_jobs=-1)\n",
    "# gs3.fit(dataset)\n",
    "\n",
    "# # лучший RMSE\n",
    "# print(gs3.best_score['rmse'])\n",
    "\n",
    "# # комбинация параметров, которая дает лучший RMSE\n",
    "# print(gs3.best_params['rmse'])\n",
    "# уж очень долго считает..."
   ]
  },
  {
   "cell_type": "code",
   "execution_count": 15,
   "metadata": {},
   "outputs": [],
   "source": [
    "# svdpp = SVDpp()\n",
    "# # evaluate(svdpp, dataset, measures = ['RMSE'])\n",
    "# cross_validate(svdpp, dataset, measures = ['RMSE'], cv = 5, verbose = True)"
   ]
  },
  {
   "cell_type": "code",
   "execution_count": 15,
   "metadata": {},
   "outputs": [
    {
     "name": "stdout",
     "output_type": "stream",
     "text": [
      "0.883271062667817\n",
      "{'n_factors': 200, 'n_epochs': 100}\n"
     ]
    }
   ],
   "source": [
    "# NMF - подберем параметры\n",
    "\n",
    "param_grid_nmf = {'n_factors': [100, 200], 'n_epochs': [50, 100]}\n",
    "gs_nmf = GridSearchCV(NMF, param_grid_nmf, measures=['rmse'], cv=5, n_jobs=-1)\n",
    "gs_nmf.fit(dataset)\n",
    "\n",
    "# лучший RMSE\n",
    "print(gs_nmf.best_score['rmse'])\n",
    "\n",
    "# комбинация параметров, которая дает лучший RMSE\n",
    "print(gs_nmf.best_params['rmse'])"
   ]
  },
  {
   "cell_type": "code",
   "execution_count": 16,
   "metadata": {},
   "outputs": [
    {
     "name": "stdout",
     "output_type": "stream",
     "text": [
      "Evaluating RMSE of algorithm NMF on 5 split(s).\n",
      "\n",
      "                  Fold 1  Fold 2  Fold 3  Fold 4  Fold 5  Mean    Std     \n",
      "RMSE (testset)    0.8781  0.8876  0.8823  0.8831  0.8799  0.8822  0.0032  \n",
      "Fit time          90.94   89.01   85.51   92.31   93.47   90.25   2.80    \n",
      "Test time         0.22    0.14    0.39    0.18    0.28    0.24    0.09    \n"
     ]
    },
    {
     "data": {
      "text/plain": [
       "{'test_rmse': array([0.87810173, 0.88758265, 0.8823277 , 0.88310833, 0.87986445]),\n",
       " 'fit_time': (90.9371747970581,\n",
       "  89.01069712638855,\n",
       "  85.51044988632202,\n",
       "  92.30630373954773,\n",
       "  93.47210431098938),\n",
       " 'test_time': (0.21549272537231445,\n",
       "  0.14063024520874023,\n",
       "  0.3925766944885254,\n",
       "  0.17702770233154297,\n",
       "  0.27512645721435547)}"
      ]
     },
     "execution_count": 16,
     "metadata": {},
     "output_type": "execute_result"
    }
   ],
   "source": [
    "algo_nmf = gs_nmf.best_estimator['rmse']\n",
    "cross_validate(algo_nmf, dataset, measures = ['RMSE'], cv = 5, verbose = True)"
   ]
  },
  {
   "cell_type": "code",
   "execution_count": null,
   "metadata": {},
   "outputs": [],
   "source": [
    "# Самый лучший RMSE на тесте (0.8634) дал SVD c параметрами {'n_factors': 200, 'n_epochs': 100, 'lr_all': 0.01, 'reg_all': 0.2}"
   ]
  }
 ],
 "metadata": {
  "kernelspec": {
   "display_name": "Python 3",
   "language": "python",
   "name": "python3"
  },
  "language_info": {
   "codemirror_mode": {
    "name": "ipython",
    "version": 3
   },
   "file_extension": ".py",
   "mimetype": "text/x-python",
   "name": "python",
   "nbconvert_exporter": "python",
   "pygments_lexer": "ipython3",
   "version": "3.8.3"
  }
 },
 "nbformat": 4,
 "nbformat_minor": 4
}
