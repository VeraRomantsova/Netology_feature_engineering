{
 "cells": [
  {
   "cell_type": "code",
   "execution_count": 7,
   "metadata": {},
   "outputs": [],
   "source": [
    "import pandas as pd\n",
    "import numpy as np"
   ]
  },
  {
   "cell_type": "code",
   "execution_count": 8,
   "metadata": {},
   "outputs": [
    {
     "data": {
      "text/html": [
       "<div>\n",
       "<style scoped>\n",
       "    .dataframe tbody tr th:only-of-type {\n",
       "        vertical-align: middle;\n",
       "    }\n",
       "\n",
       "    .dataframe tbody tr th {\n",
       "        vertical-align: top;\n",
       "    }\n",
       "\n",
       "    .dataframe thead th {\n",
       "        text-align: right;\n",
       "    }\n",
       "</style>\n",
       "<table border=\"1\" class=\"dataframe\">\n",
       "  <thead>\n",
       "    <tr style=\"text-align: right;\">\n",
       "      <th></th>\n",
       "      <th>age</th>\n",
       "      <th>workclass</th>\n",
       "      <th>fnlwgt</th>\n",
       "      <th>education</th>\n",
       "      <th>educational-num</th>\n",
       "      <th>marital-status</th>\n",
       "      <th>occupation</th>\n",
       "      <th>relationship</th>\n",
       "      <th>race</th>\n",
       "      <th>gender</th>\n",
       "      <th>capital-gain</th>\n",
       "      <th>capital-loss</th>\n",
       "      <th>hours-per-week</th>\n",
       "      <th>native-country</th>\n",
       "      <th>income</th>\n",
       "    </tr>\n",
       "  </thead>\n",
       "  <tbody>\n",
       "    <tr>\n",
       "      <th>0</th>\n",
       "      <td>25</td>\n",
       "      <td>Private</td>\n",
       "      <td>226802</td>\n",
       "      <td>11th</td>\n",
       "      <td>7</td>\n",
       "      <td>Never-married</td>\n",
       "      <td>Machine-op-inspct</td>\n",
       "      <td>Own-child</td>\n",
       "      <td>Black</td>\n",
       "      <td>Male</td>\n",
       "      <td>0</td>\n",
       "      <td>0</td>\n",
       "      <td>40</td>\n",
       "      <td>United-States</td>\n",
       "      <td>&lt;=50K</td>\n",
       "    </tr>\n",
       "    <tr>\n",
       "      <th>1</th>\n",
       "      <td>38</td>\n",
       "      <td>Private</td>\n",
       "      <td>89814</td>\n",
       "      <td>HS-grad</td>\n",
       "      <td>9</td>\n",
       "      <td>Married-civ-spouse</td>\n",
       "      <td>Farming-fishing</td>\n",
       "      <td>Husband</td>\n",
       "      <td>White</td>\n",
       "      <td>Male</td>\n",
       "      <td>0</td>\n",
       "      <td>0</td>\n",
       "      <td>50</td>\n",
       "      <td>United-States</td>\n",
       "      <td>&lt;=50K</td>\n",
       "    </tr>\n",
       "    <tr>\n",
       "      <th>2</th>\n",
       "      <td>28</td>\n",
       "      <td>Local-gov</td>\n",
       "      <td>336951</td>\n",
       "      <td>Assoc-acdm</td>\n",
       "      <td>12</td>\n",
       "      <td>Married-civ-spouse</td>\n",
       "      <td>Protective-serv</td>\n",
       "      <td>Husband</td>\n",
       "      <td>White</td>\n",
       "      <td>Male</td>\n",
       "      <td>0</td>\n",
       "      <td>0</td>\n",
       "      <td>40</td>\n",
       "      <td>United-States</td>\n",
       "      <td>&gt;50K</td>\n",
       "    </tr>\n",
       "    <tr>\n",
       "      <th>3</th>\n",
       "      <td>44</td>\n",
       "      <td>Private</td>\n",
       "      <td>160323</td>\n",
       "      <td>Some-college</td>\n",
       "      <td>10</td>\n",
       "      <td>Married-civ-spouse</td>\n",
       "      <td>Machine-op-inspct</td>\n",
       "      <td>Husband</td>\n",
       "      <td>Black</td>\n",
       "      <td>Male</td>\n",
       "      <td>7688</td>\n",
       "      <td>0</td>\n",
       "      <td>40</td>\n",
       "      <td>United-States</td>\n",
       "      <td>&gt;50K</td>\n",
       "    </tr>\n",
       "    <tr>\n",
       "      <th>4</th>\n",
       "      <td>18</td>\n",
       "      <td>?</td>\n",
       "      <td>103497</td>\n",
       "      <td>Some-college</td>\n",
       "      <td>10</td>\n",
       "      <td>Never-married</td>\n",
       "      <td>?</td>\n",
       "      <td>Own-child</td>\n",
       "      <td>White</td>\n",
       "      <td>Female</td>\n",
       "      <td>0</td>\n",
       "      <td>0</td>\n",
       "      <td>30</td>\n",
       "      <td>United-States</td>\n",
       "      <td>&lt;=50K</td>\n",
       "    </tr>\n",
       "  </tbody>\n",
       "</table>\n",
       "</div>"
      ],
      "text/plain": [
       "   age  workclass  fnlwgt     education  educational-num      marital-status  \\\n",
       "0   25    Private  226802          11th                7       Never-married   \n",
       "1   38    Private   89814       HS-grad                9  Married-civ-spouse   \n",
       "2   28  Local-gov  336951    Assoc-acdm               12  Married-civ-spouse   \n",
       "3   44    Private  160323  Some-college               10  Married-civ-spouse   \n",
       "4   18          ?  103497  Some-college               10       Never-married   \n",
       "\n",
       "          occupation relationship   race  gender  capital-gain  capital-loss  \\\n",
       "0  Machine-op-inspct    Own-child  Black    Male             0             0   \n",
       "1    Farming-fishing      Husband  White    Male             0             0   \n",
       "2    Protective-serv      Husband  White    Male             0             0   \n",
       "3  Machine-op-inspct      Husband  Black    Male          7688             0   \n",
       "4                  ?    Own-child  White  Female             0             0   \n",
       "\n",
       "   hours-per-week native-country income  \n",
       "0              40  United-States  <=50K  \n",
       "1              50  United-States  <=50K  \n",
       "2              40  United-States   >50K  \n",
       "3              40  United-States   >50K  \n",
       "4              30  United-States  <=50K  "
      ]
     },
     "execution_count": 8,
     "metadata": {},
     "output_type": "execute_result"
    }
   ],
   "source": [
    "data = pd.read_csv('adult.csv')\n",
    "data.head()"
   ]
  },
  {
   "cell_type": "markdown",
   "metadata": {},
   "source": [
    "### Подготовка датасета"
   ]
  },
  {
   "cell_type": "code",
   "execution_count": 9,
   "metadata": {},
   "outputs": [
    {
     "name": "stdout",
     "output_type": "stream",
     "text": [
      "<class 'pandas.core.frame.DataFrame'>\n",
      "RangeIndex: 48842 entries, 0 to 48841\n",
      "Data columns (total 15 columns):\n",
      " #   Column           Non-Null Count  Dtype \n",
      "---  ------           --------------  ----- \n",
      " 0   age              48842 non-null  int64 \n",
      " 1   workclass        48842 non-null  object\n",
      " 2   fnlwgt           48842 non-null  int64 \n",
      " 3   education        48842 non-null  object\n",
      " 4   educational-num  48842 non-null  int64 \n",
      " 5   marital-status   48842 non-null  object\n",
      " 6   occupation       48842 non-null  object\n",
      " 7   relationship     48842 non-null  object\n",
      " 8   race             48842 non-null  object\n",
      " 9   gender           48842 non-null  object\n",
      " 10  capital-gain     48842 non-null  int64 \n",
      " 11  capital-loss     48842 non-null  int64 \n",
      " 12  hours-per-week   48842 non-null  int64 \n",
      " 13  native-country   48842 non-null  object\n",
      " 14  income           48842 non-null  object\n",
      "dtypes: int64(6), object(9)\n",
      "memory usage: 5.6+ MB\n"
     ]
    }
   ],
   "source": [
    "# Изучаем датасет, смотрим, есть ли Nan\n",
    "data.info()"
   ]
  },
  {
   "cell_type": "code",
   "execution_count": 10,
   "metadata": {},
   "outputs": [
    {
     "name": "stdout",
     "output_type": "stream",
     "text": [
      "Age:[25 38 28 44 18 34 29 63 24 55 65 36 26 58 48 43 20 37 40 72 45 22 23 54\n",
      " 32 46 56 17 39 52 21 42 33 30 47 41 19 69 50 31 59 49 51 27 57 61 64 79\n",
      " 73 53 77 80 62 35 68 66 75 60 67 71 70 90 81 74 78 82 83 85 76 84 89 88\n",
      " 87 86]\n",
      "Workclass:['Private' 'Local-gov' '?' 'Self-emp-not-inc' 'Federal-gov' 'State-gov'\n",
      " 'Self-emp-inc' 'Without-pay' 'Never-worked']\n",
      "Education:['11th' 'HS-grad' 'Assoc-acdm' 'Some-college' '10th' 'Prof-school'\n",
      " '7th-8th' 'Bachelors' 'Masters' 'Doctorate' '5th-6th' 'Assoc-voc' '9th'\n",
      " '12th' '1st-4th' 'Preschool']\n",
      "Marital-status: ['Never-married' 'Married-civ-spouse' 'Widowed' 'Divorced' 'Separated'\n",
      " 'Married-spouse-absent' 'Married-AF-spouse']\n",
      "Occupation: ['Machine-op-inspct' 'Farming-fishing' 'Protective-serv' '?'\n",
      " 'Other-service' 'Prof-specialty' 'Craft-repair' 'Adm-clerical'\n",
      " 'Exec-managerial' 'Tech-support' 'Sales' 'Priv-house-serv'\n",
      " 'Transport-moving' 'Handlers-cleaners' 'Armed-Forces']\n",
      "Race:['Black' 'White' 'Asian-Pac-Islander' 'Other' 'Amer-Indian-Eskimo']\n",
      "Gender:['Male' 'Female']\n",
      "Hours-per-week: [40 50 30 32 10 39 35 48 25 20 45 47  6 43 90 54 60 38 36 18 24 44 56 28\n",
      " 16 41 22 55 14 33 37  8 12 70 15 75 52 84 42 80 68 99 65  5 17 72 53 29\n",
      " 96 21 46  3  1 23 49 67 76  7  2 58 26 34  4 51 78 63 31 92 77 27 85 13\n",
      " 19 98 62 66 57 11 86 59  9 64 73 61 88 79 89 74 69 87 97 94 82 91 81 95]\n",
      "Native-country: ['United-States' '?' 'Peru' 'Guatemala' 'Mexico' 'Dominican-Republic'\n",
      " 'Ireland' 'Germany' 'Philippines' 'Thailand' 'Haiti' 'El-Salvador'\n",
      " 'Puerto-Rico' 'Vietnam' 'South' 'Columbia' 'Japan' 'India' 'Cambodia'\n",
      " 'Poland' 'Laos' 'England' 'Cuba' 'Taiwan' 'Italy' 'Canada' 'Portugal'\n",
      " 'China' 'Nicaragua' 'Honduras' 'Iran' 'Scotland' 'Jamaica' 'Ecuador'\n",
      " 'Yugoslavia' 'Hungary' 'Hong' 'Greece' 'Trinadad&Tobago'\n",
      " 'Outlying-US(Guam-USVI-etc)' 'France' 'Holand-Netherlands']\n",
      "Income:['<=50K' '>50K']\n"
     ]
    }
   ],
   "source": [
    "#смотрим уникальные значения в выбранных столбцах, посмотрим есть ли там отклонения (выбросы) от реальных значений\n",
    "\n",
    "print(f'Age:{data.age.unique()}') #данные нормальные\n",
    "print(f'Workclass:{data.workclass.unique()}') #проработать ?\n",
    "print(f'Education:{data.education.unique()}') #данные нормальные\n",
    "print('Marital-status: {}'.format(data['marital-status'].unique())) #данные нормальные\n",
    "print('Occupation: {}'.format(data['occupation'].unique())) #проработать ?\n",
    "print(f'Race:{data.race.unique()}') #данные нормальные\n",
    "print(f'Gender:{data.gender.unique()}') #данные нормальные\n",
    "print('Hours-per-week: {}'.format(data['hours-per-week'].unique())) #данные нормальные\n",
    "print('Native-country: {}'.format(data['native-country'].unique())) #данные нормальные\n",
    "print(f'Income:{data.income.unique()}') #данные нормальные"
   ]
  },
  {
   "cell_type": "code",
   "execution_count": 11,
   "metadata": {},
   "outputs": [
    {
     "name": "stdout",
     "output_type": "stream",
     "text": [
      "Для Workclass ? значения 2799\n",
      "Для Occupation ? значения 2809\n",
      "Для Native-country ? значения 857\n"
     ]
    }
   ],
   "source": [
    "# посмотрим кол-во значений,равных ? в датафрейме\n",
    "print('Для Workclass ? значения {}'.format(len(data[data['workclass'] == '?'])))\n",
    "print('Для Occupation ? значения {}'.format(len(data[data['occupation'] == '?'])))\n",
    "print('Для Native-country ? значения {}'.format(len(data[data['native-country'] == '?'])))"
   ]
  },
  {
   "cell_type": "code",
   "execution_count": 12,
   "metadata": {},
   "outputs": [
    {
     "data": {
      "text/html": [
       "<div>\n",
       "<style scoped>\n",
       "    .dataframe tbody tr th:only-of-type {\n",
       "        vertical-align: middle;\n",
       "    }\n",
       "\n",
       "    .dataframe tbody tr th {\n",
       "        vertical-align: top;\n",
       "    }\n",
       "\n",
       "    .dataframe thead th {\n",
       "        text-align: right;\n",
       "    }\n",
       "</style>\n",
       "<table border=\"1\" class=\"dataframe\">\n",
       "  <thead>\n",
       "    <tr style=\"text-align: right;\">\n",
       "      <th></th>\n",
       "      <th>age</th>\n",
       "      <th>workclass</th>\n",
       "      <th>education</th>\n",
       "      <th>marital-status</th>\n",
       "      <th>occupation</th>\n",
       "      <th>race</th>\n",
       "      <th>gender</th>\n",
       "      <th>hours-per-week</th>\n",
       "      <th>native-country</th>\n",
       "      <th>income</th>\n",
       "    </tr>\n",
       "  </thead>\n",
       "  <tbody>\n",
       "    <tr>\n",
       "      <th>0</th>\n",
       "      <td>25</td>\n",
       "      <td>Private</td>\n",
       "      <td>11th</td>\n",
       "      <td>Never-married</td>\n",
       "      <td>Machine-op-inspct</td>\n",
       "      <td>Black</td>\n",
       "      <td>Male</td>\n",
       "      <td>40</td>\n",
       "      <td>United-States</td>\n",
       "      <td>&lt;=50K</td>\n",
       "    </tr>\n",
       "    <tr>\n",
       "      <th>1</th>\n",
       "      <td>38</td>\n",
       "      <td>Private</td>\n",
       "      <td>HS-grad</td>\n",
       "      <td>Married-civ-spouse</td>\n",
       "      <td>Farming-fishing</td>\n",
       "      <td>White</td>\n",
       "      <td>Male</td>\n",
       "      <td>50</td>\n",
       "      <td>United-States</td>\n",
       "      <td>&lt;=50K</td>\n",
       "    </tr>\n",
       "    <tr>\n",
       "      <th>2</th>\n",
       "      <td>28</td>\n",
       "      <td>Local-gov</td>\n",
       "      <td>Assoc-acdm</td>\n",
       "      <td>Married-civ-spouse</td>\n",
       "      <td>Protective-serv</td>\n",
       "      <td>White</td>\n",
       "      <td>Male</td>\n",
       "      <td>40</td>\n",
       "      <td>United-States</td>\n",
       "      <td>&gt;50K</td>\n",
       "    </tr>\n",
       "    <tr>\n",
       "      <th>3</th>\n",
       "      <td>44</td>\n",
       "      <td>Private</td>\n",
       "      <td>Some-college</td>\n",
       "      <td>Married-civ-spouse</td>\n",
       "      <td>Machine-op-inspct</td>\n",
       "      <td>Black</td>\n",
       "      <td>Male</td>\n",
       "      <td>40</td>\n",
       "      <td>United-States</td>\n",
       "      <td>&gt;50K</td>\n",
       "    </tr>\n",
       "    <tr>\n",
       "      <th>4</th>\n",
       "      <td>18</td>\n",
       "      <td>NaN</td>\n",
       "      <td>Some-college</td>\n",
       "      <td>Never-married</td>\n",
       "      <td>NaN</td>\n",
       "      <td>White</td>\n",
       "      <td>Female</td>\n",
       "      <td>30</td>\n",
       "      <td>United-States</td>\n",
       "      <td>&lt;=50K</td>\n",
       "    </tr>\n",
       "  </tbody>\n",
       "</table>\n",
       "</div>"
      ],
      "text/plain": [
       "   age  workclass     education      marital-status         occupation   race  \\\n",
       "0   25    Private          11th       Never-married  Machine-op-inspct  Black   \n",
       "1   38    Private       HS-grad  Married-civ-spouse    Farming-fishing  White   \n",
       "2   28  Local-gov    Assoc-acdm  Married-civ-spouse    Protective-serv  White   \n",
       "3   44    Private  Some-college  Married-civ-spouse  Machine-op-inspct  Black   \n",
       "4   18        NaN  Some-college       Never-married                NaN  White   \n",
       "\n",
       "   gender  hours-per-week native-country income  \n",
       "0    Male              40  United-States  <=50K  \n",
       "1    Male              50  United-States  <=50K  \n",
       "2    Male              40  United-States   >50K  \n",
       "3    Male              40  United-States   >50K  \n",
       "4  Female              30  United-States  <=50K  "
      ]
     },
     "execution_count": 12,
     "metadata": {},
     "output_type": "execute_result"
    }
   ],
   "source": [
    "#Заменим ? на Nan\n",
    "#создаем рабочий датафрейм:\n",
    "cleaned_data = data[['age','workclass','education','marital-status','occupation','race','gender','hours-per-week','native-country','income']]\n",
    "cleaned_data = cleaned_data.applymap(lambda x: np.nan if x == '?' else x)\n",
    "cleaned_data.head()"
   ]
  },
  {
   "cell_type": "markdown",
   "metadata": {},
   "source": [
    "#### Заменим пропуски"
   ]
  },
  {
   "cell_type": "code",
   "execution_count": 13,
   "metadata": {},
   "outputs": [],
   "source": [
    "#заполним значения, равные ? на основании мод столбцов education и native-country\n",
    "cleaned_data['workclass'] = cleaned_data.groupby(['education','native-country'])['workclass'].apply(lambda x: x.fillna(x.mode()[0] if len(x.mode()) else np.nan))\n",
    "#заполним значения, равные ? на основании мод столбцов education и native-country\n",
    "cleaned_data['occupation'] = cleaned_data.groupby(['education','native-country'])['occupation'].apply(lambda x: x.fillna(x.mode()[0] if len(x.mode()) else np.nan))\n",
    "#оставшиеся пропуски workclass заменим модой столбца education и native-country для столбца occupation\n",
    "cleaned_data['workclass'] = cleaned_data.groupby(['education'])['workclass'].apply(lambda x: x.fillna(x.mode()[0]))\n",
    "cleaned_data['occupation'] = cleaned_data.groupby(['native-country'])['occupation'].apply(lambda x: x.fillna(x.mode()[0]))\n",
    "#оставшиеся пропуски occupation заменим модой столбца race, education, gender\n",
    "cleaned_data['occupation'] = cleaned_data.groupby(['race','education','gender'])['occupation'].apply(lambda x: x.fillna(x.mode()[0]))\n",
    "#оставшиеся пропуски Native-country заменим модой столбца race, education, gender\n",
    "cleaned_data['native-country'] = cleaned_data.groupby(['race','education','gender','occupation'])['native-country'].apply(lambda x: x.fillna(x.mode()[0]))\n",
    "\n"
   ]
  },
  {
   "cell_type": "code",
   "execution_count": 14,
   "metadata": {},
   "outputs": [
    {
     "name": "stdout",
     "output_type": "stream",
     "text": [
      "Для Occupation Nan значения 0\n",
      "Для Workclass Nan значения 0\n",
      "Для Native-country Nan значения 0\n"
     ]
    }
   ],
   "source": [
    "print('Для Occupation Nan значения {}'.format(len(cleaned_data[pd.isnull( cleaned_data['occupation'])])))\n",
    "print('Для Workclass Nan значения {}'.format(len(cleaned_data[ pd.isnull( cleaned_data['workclass'])])))\n",
    "print('Для Native-country Nan значения {}'.format(len(cleaned_data[ pd.isnull( cleaned_data['native-country'])])))"
   ]
  },
  {
   "cell_type": "markdown",
   "metadata": {},
   "source": [
    "#### One-Hot-Encoding для целевой переменной"
   ]
  },
  {
   "cell_type": "code",
   "execution_count": 15,
   "metadata": {},
   "outputs": [
    {
     "data": {
      "text/plain": [
       "array(['<=50K', '>50K'], dtype=object)"
      ]
     },
     "execution_count": 15,
     "metadata": {},
     "output_type": "execute_result"
    }
   ],
   "source": [
    "#Обозначим целевую переменную и переведем в бинарный вид \n",
    "from sklearn.preprocessing import LabelEncoder\n",
    "le = LabelEncoder()\n",
    "le.fit(cleaned_data['income'])\n",
    "le.classes_"
   ]
  },
  {
   "cell_type": "code",
   "execution_count": 16,
   "metadata": {},
   "outputs": [
    {
     "data": {
      "text/plain": [
       "0    0\n",
       "1    0\n",
       "2    1\n",
       "3    1\n",
       "4    0\n",
       "dtype: int32"
      ]
     },
     "execution_count": 16,
     "metadata": {},
     "output_type": "execute_result"
    }
   ],
   "source": [
    "# записываем в переменную y преобразованный столбец income\n",
    "y = pd.Series(le.transform(cleaned_data['income'] ) )\n",
    "y.head()"
   ]
  },
  {
   "cell_type": "markdown",
   "metadata": {},
   "source": [
    "#### Стандартизируем числовые величины, применяем One-Hot-Encoding к категориальным"
   ]
  },
  {
   "cell_type": "code",
   "execution_count": 17,
   "metadata": {},
   "outputs": [],
   "source": [
    "from sklearn.compose import ColumnTransformer\n",
    "from sklearn.preprocessing import StandardScaler\n",
    "from sklearn.preprocessing import OneHotEncoder"
   ]
  },
  {
   "cell_type": "code",
   "execution_count": 18,
   "metadata": {},
   "outputs": [
    {
     "data": {
      "text/html": [
       "<div>\n",
       "<style scoped>\n",
       "    .dataframe tbody tr th:only-of-type {\n",
       "        vertical-align: middle;\n",
       "    }\n",
       "\n",
       "    .dataframe tbody tr th {\n",
       "        vertical-align: top;\n",
       "    }\n",
       "\n",
       "    .dataframe thead th {\n",
       "        text-align: right;\n",
       "    }\n",
       "</style>\n",
       "<table border=\"1\" class=\"dataframe\">\n",
       "  <thead>\n",
       "    <tr style=\"text-align: right;\">\n",
       "      <th></th>\n",
       "      <th>age</th>\n",
       "      <th>workclass</th>\n",
       "      <th>education</th>\n",
       "      <th>marital-status</th>\n",
       "      <th>occupation</th>\n",
       "      <th>race</th>\n",
       "      <th>native-country</th>\n",
       "      <th>gender</th>\n",
       "      <th>hours-per-week</th>\n",
       "    </tr>\n",
       "  </thead>\n",
       "  <tbody>\n",
       "    <tr>\n",
       "      <th>0</th>\n",
       "      <td>25</td>\n",
       "      <td>Private</td>\n",
       "      <td>11th</td>\n",
       "      <td>Never-married</td>\n",
       "      <td>Machine-op-inspct</td>\n",
       "      <td>Black</td>\n",
       "      <td>United-States</td>\n",
       "      <td>Male</td>\n",
       "      <td>40</td>\n",
       "    </tr>\n",
       "    <tr>\n",
       "      <th>1</th>\n",
       "      <td>38</td>\n",
       "      <td>Private</td>\n",
       "      <td>HS-grad</td>\n",
       "      <td>Married-civ-spouse</td>\n",
       "      <td>Farming-fishing</td>\n",
       "      <td>White</td>\n",
       "      <td>United-States</td>\n",
       "      <td>Male</td>\n",
       "      <td>50</td>\n",
       "    </tr>\n",
       "    <tr>\n",
       "      <th>2</th>\n",
       "      <td>28</td>\n",
       "      <td>Local-gov</td>\n",
       "      <td>Assoc-acdm</td>\n",
       "      <td>Married-civ-spouse</td>\n",
       "      <td>Protective-serv</td>\n",
       "      <td>White</td>\n",
       "      <td>United-States</td>\n",
       "      <td>Male</td>\n",
       "      <td>40</td>\n",
       "    </tr>\n",
       "    <tr>\n",
       "      <th>3</th>\n",
       "      <td>44</td>\n",
       "      <td>Private</td>\n",
       "      <td>Some-college</td>\n",
       "      <td>Married-civ-spouse</td>\n",
       "      <td>Machine-op-inspct</td>\n",
       "      <td>Black</td>\n",
       "      <td>United-States</td>\n",
       "      <td>Male</td>\n",
       "      <td>40</td>\n",
       "    </tr>\n",
       "    <tr>\n",
       "      <th>4</th>\n",
       "      <td>18</td>\n",
       "      <td>Private</td>\n",
       "      <td>Some-college</td>\n",
       "      <td>Never-married</td>\n",
       "      <td>Adm-clerical</td>\n",
       "      <td>White</td>\n",
       "      <td>United-States</td>\n",
       "      <td>Female</td>\n",
       "      <td>30</td>\n",
       "    </tr>\n",
       "  </tbody>\n",
       "</table>\n",
       "</div>"
      ],
      "text/plain": [
       "   age  workclass     education      marital-status         occupation   race  \\\n",
       "0   25    Private          11th       Never-married  Machine-op-inspct  Black   \n",
       "1   38    Private       HS-grad  Married-civ-spouse    Farming-fishing  White   \n",
       "2   28  Local-gov    Assoc-acdm  Married-civ-spouse    Protective-serv  White   \n",
       "3   44    Private  Some-college  Married-civ-spouse  Machine-op-inspct  Black   \n",
       "4   18    Private  Some-college       Never-married       Adm-clerical  White   \n",
       "\n",
       "  native-country  gender  hours-per-week  \n",
       "0  United-States    Male              40  \n",
       "1  United-States    Male              50  \n",
       "2  United-States    Male              40  \n",
       "3  United-States    Male              40  \n",
       "4  United-States  Female              30  "
      ]
     },
     "execution_count": 18,
     "metadata": {},
     "output_type": "execute_result"
    }
   ],
   "source": [
    "X = cleaned_data[['age','workclass', 'education','marital-status','occupation','race','native-country','gender','hours-per-week']]\n",
    "X.head()"
   ]
  },
  {
   "cell_type": "code",
   "execution_count": 19,
   "metadata": {},
   "outputs": [
    {
     "data": {
      "text/plain": [
       "[['Private',\n",
       "  'Local-gov',\n",
       "  'Self-emp-not-inc',\n",
       "  'Federal-gov',\n",
       "  'State-gov',\n",
       "  'Self-emp-inc',\n",
       "  'Without-pay',\n",
       "  'Never-worked'],\n",
       " ['11th',\n",
       "  'HS-grad',\n",
       "  'Assoc-acdm',\n",
       "  'Some-college',\n",
       "  '10th',\n",
       "  'Prof-school',\n",
       "  '7th-8th',\n",
       "  'Bachelors',\n",
       "  'Masters',\n",
       "  'Doctorate',\n",
       "  '5th-6th',\n",
       "  'Assoc-voc',\n",
       "  '9th',\n",
       "  '12th',\n",
       "  '1st-4th',\n",
       "  'Preschool'],\n",
       " ['Never-married',\n",
       "  'Married-civ-spouse',\n",
       "  'Widowed',\n",
       "  'Divorced',\n",
       "  'Separated',\n",
       "  'Married-spouse-absent',\n",
       "  'Married-AF-spouse'],\n",
       " ['Machine-op-inspct',\n",
       "  'Farming-fishing',\n",
       "  'Protective-serv',\n",
       "  'Adm-clerical',\n",
       "  'Other-service',\n",
       "  'Craft-repair',\n",
       "  'Prof-specialty',\n",
       "  'Exec-managerial',\n",
       "  'Tech-support',\n",
       "  'Sales',\n",
       "  'Priv-house-serv',\n",
       "  'Transport-moving',\n",
       "  'Handlers-cleaners',\n",
       "  'Armed-Forces'],\n",
       " ['Black', 'White', 'Asian-Pac-Islander', 'Other', 'Amer-Indian-Eskimo'],\n",
       " ['United-States',\n",
       "  'China',\n",
       "  'Peru',\n",
       "  'Guatemala',\n",
       "  'Mexico',\n",
       "  'Dominican-Republic',\n",
       "  'Ireland',\n",
       "  'Germany',\n",
       "  'Philippines',\n",
       "  'Thailand',\n",
       "  'Haiti',\n",
       "  'El-Salvador',\n",
       "  'Puerto-Rico',\n",
       "  'Vietnam',\n",
       "  'South',\n",
       "  'Columbia',\n",
       "  'Japan',\n",
       "  'India',\n",
       "  'Cambodia',\n",
       "  'Poland',\n",
       "  'Laos',\n",
       "  'England',\n",
       "  'Cuba',\n",
       "  'Taiwan',\n",
       "  'Italy',\n",
       "  'Canada',\n",
       "  'Portugal',\n",
       "  'Nicaragua',\n",
       "  'Honduras',\n",
       "  'Iran',\n",
       "  'Scotland',\n",
       "  'Jamaica',\n",
       "  'Ecuador',\n",
       "  'Yugoslavia',\n",
       "  'Hungary',\n",
       "  'Hong',\n",
       "  'Greece',\n",
       "  'Trinadad&Tobago',\n",
       "  'Outlying-US(Guam-USVI-etc)',\n",
       "  'France',\n",
       "  'Holand-Netherlands'],\n",
       " ['Male', 'Female']]"
      ]
     },
     "execution_count": 19,
     "metadata": {},
     "output_type": "execute_result"
    }
   ],
   "source": [
    "#получим список категорий\n",
    "columns_cat = [ 'workclass', 'education','marital-status','occupation','race','native-country','gender']\n",
    "def categories(df, columns_cat):\n",
    "    cat = []\n",
    "    for column in columns_cat:\n",
    "        cat.append(list(df[column].unique()))\n",
    "    return cat\n",
    "cat = categories(cleaned_data,columns_cat)\n",
    "cat"
   ]
  },
  {
   "cell_type": "code",
   "execution_count": 20,
   "metadata": {},
   "outputs": [],
   "source": [
    "columns_num = ['age','hours-per-week'] #Список числовых величин\n",
    "# Трансформируем колонки: числовые стандартизируем, категориальные - применяем One-Hot-Encoding\n",
    "ct = ColumnTransformer(transformers = [\n",
    "    ('one_hot', OneHotEncoder(categories = cat),columns_cat),\n",
    "    ('st_sc', StandardScaler(), columns_num)\n",
    "],\n",
    "sparse_threshold = 0,\n",
    "remainder = 'drop')"
   ]
  },
  {
   "cell_type": "markdown",
   "metadata": {},
   "source": [
    "### Разделим выборку"
   ]
  },
  {
   "cell_type": "code",
   "execution_count": 21,
   "metadata": {},
   "outputs": [],
   "source": [
    "from sklearn.model_selection import train_test_split\n",
    "X_train, X_test, y_train, y_test = train_test_split(X, y, test_size=0.3, random_state=42)"
   ]
  },
  {
   "cell_type": "markdown",
   "metadata": {},
   "source": [
    "### Строим логистическую регрессию"
   ]
  },
  {
   "cell_type": "code",
   "execution_count": 22,
   "metadata": {},
   "outputs": [],
   "source": [
    "from sklearn.linear_model import LogisticRegression\n",
    "from sklearn.pipeline import Pipeline"
   ]
  },
  {
   "cell_type": "code",
   "execution_count": 23,
   "metadata": {},
   "outputs": [],
   "source": [
    "# Зададим значения lambda_:\n",
    "lambda_ = [0.001,0.01,0.1,1,10,100,1000]\n",
    "penalties = ['l1', 'l2']\n",
    "results = {}"
   ]
  },
  {
   "cell_type": "code",
   "execution_count": 24,
   "metadata": {},
   "outputs": [],
   "source": [
    "#запускаем лог регрессию для всех вариантов penalty и lambda_\n",
    "for penalty in penalties:\n",
    "    for C in lambda_:\n",
    "        model = Pipeline(steps = [('ct', ct),\n",
    "                            ('logreg', LogisticRegression(penalty = penalty, C = C, solver='liblinear'))])\n",
    "        model.fit(X_train,y_train)\n",
    "        y_pred = model.predict_proba(X_test)[:,1]\n",
    "        results[penalty,C] = y_pred"
   ]
  },
  {
   "cell_type": "markdown",
   "metadata": {},
   "source": [
    "### Находим tpr, fpr, строим ROC"
   ]
  },
  {
   "cell_type": "code",
   "execution_count": 25,
   "metadata": {},
   "outputs": [],
   "source": [
    "from sklearn.metrics import roc_auc_score, roc_curve, precision_recall_curve\n",
    "import matplotlib.pyplot as plt"
   ]
  },
  {
   "cell_type": "code",
   "execution_count": 26,
   "metadata": {},
   "outputs": [
    {
     "data": {
      "image/png": "[encoded data removed]",
      "text/plain": [
       "<Figure size 576x432 with 1 Axes>"
      ]
     },
     "metadata": {
      "needs_background": "light"
     },
     "output_type": "display_data"
    }
   ],
   "source": [
    "score = {}\n",
    "plt.figure(figsize=(8, 6))\n",
    "for (penalty,C), value in results.items():\n",
    "    score[penalty,C] = roc_auc_score( y_test, value )\n",
    "    fpr, tpr, thres = roc_curve(y_test, value)\n",
    "    plt.plot( fpr, tpr, label = f'{penalty},{C}' )\n",
    "plt.plot([0, 1], [0, 1], '--', color=(0.6, 0.6, 0.6))\n",
    "plt.xlabel('False Positive Rate')\n",
    "plt.ylabel('True Positive Rate')\n",
    "plt.legend(loc='lower right')\n",
    "plt.show()"
   ]
  },
  {
   "cell_type": "markdown",
   "metadata": {},
   "source": [
    "### Построим график Precision-Recall"
   ]
  },
  {
   "cell_type": "code",
   "execution_count": 27,
   "metadata": {},
   "outputs": [
    {
     "data": {
      "image/png": "[encoded data removed]",
      "text/plain": [
       "<Figure size 576x576 with 1 Axes>"
      ]
     },
     "metadata": {
      "needs_background": "light"
     },
     "output_type": "display_data"
    }
   ],
   "source": [
    "plt.figure(figsize=(8, 8))\n",
    "for (penalty,C), value in results.items():\n",
    "    precision, recall, thres = precision_recall_curve(y_test, value)\n",
    "    plt.plot( recall, precision, label = f'{penalty},{C}' )\n",
    "plt.xlabel('recall')\n",
    "plt.ylabel('precision')\n",
    "plt.legend(loc='lower left')\n",
    "plt.show()"
   ]
  },
  {
   "cell_type": "markdown",
   "metadata": {},
   "source": [
    "### Найдем, какой вариант регресии наиболее оптимален (самая большая площадь под кривой)"
   ]
  },
  {
   "cell_type": "code",
   "execution_count": 28,
   "metadata": {},
   "outputs": [
    {
     "data": {
      "text/plain": [
       "{('l2', 1): 0.8847954778188536}"
      ]
     },
     "execution_count": 28,
     "metadata": {},
     "output_type": "execute_result"
    }
   ],
   "source": [
    "{x: y for x, y in filter(lambda x: score[x[0]] == max(score.values()), score.items())}"
   ]
  },
  {
   "cell_type": "markdown",
   "metadata": {},
   "source": [
    "### Убедиться, что график ROC AUC получается таким же, как и автоматом (для гиперпараметров penalty 'l2', С=1)"
   ]
  },
  {
   "cell_type": "code",
   "execution_count": 30,
   "metadata": {},
   "outputs": [
    {
     "data": {
      "text/plain": [
       "array([1.        , 0.94736842, 0.89473684, 0.84210526, 0.78947368,\n",
       "       0.73684211, 0.68421053, 0.63157895, 0.57894737, 0.52631579,\n",
       "       0.47368421, 0.42105263, 0.36842105, 0.31578947, 0.26315789,\n",
       "       0.21052632, 0.15789474, 0.10526316, 0.05263158, 0.        ])"
      ]
     },
     "execution_count": 30,
     "metadata": {},
     "output_type": "execute_result"
    }
   ],
   "source": [
    "import numpy as np\n",
    "tres = np.linspace(1, 0, 20)\n",
    "tres"
   ]
  },
  {
   "cell_type": "code",
   "execution_count": 43,
   "metadata": {},
   "outputs": [],
   "source": [
    "#Модель логистической регрессии для получения tpr и fpr вручную\n",
    "model2 = Pipeline(steps = [('ct', ct),\n",
    "                            ('logreg', LogisticRegression(penalty = 'l2', C = 1, solver='liblinear'))])"
   ]
  },
  {
   "cell_type": "code",
   "execution_count": 44,
   "metadata": {},
   "outputs": [
    {
     "data": {
      "text/plain": [
       "Pipeline(steps=[('ct',\n",
       "                 ColumnTransformer(sparse_threshold=0,\n",
       "                                   transformers=[('one_hot',\n",
       "                                                  OneHotEncoder(categories=[['Private',\n",
       "                                                                             'Local-gov',\n",
       "                                                                             'Self-emp-not-inc',\n",
       "                                                                             'Federal-gov',\n",
       "                                                                             'State-gov',\n",
       "                                                                             'Self-emp-inc',\n",
       "                                                                             'Without-pay',\n",
       "                                                                             'Never-worked'],\n",
       "                                                                            ['11th',\n",
       "                                                                             'HS-grad',\n",
       "                                                                             'Assoc-acdm',\n",
       "                                                                             'Some-college',\n",
       "                                                                             '10th',\n",
       "                                                                             'Prof-school',\n",
       "                                                                             '7th-8th',\n",
       "                                                                             'Bachelors',\n",
       "                                                                             'Masters',\n",
       "                                                                             'Doctorate',\n",
       "                                                                             '5th-6th',\n",
       "                                                                             'Assoc...\n",
       "                                                                             'Japan',\n",
       "                                                                             'India',\n",
       "                                                                             'Cambodia',\n",
       "                                                                             'Poland',\n",
       "                                                                             'Laos',\n",
       "                                                                             'England',\n",
       "                                                                             'Cuba',\n",
       "                                                                             'Taiwan',\n",
       "                                                                             'Italy',\n",
       "                                                                             'Canada',\n",
       "                                                                             'Portugal',\n",
       "                                                                             'Nicaragua',\n",
       "                                                                             'Honduras',\n",
       "                                                                             'Iran', ...],\n",
       "                                                                            ['Male',\n",
       "                                                                             'Female']]),\n",
       "                                                  ['workclass', 'education',\n",
       "                                                   'marital-status',\n",
       "                                                   'occupation', 'race',\n",
       "                                                   'native-country',\n",
       "                                                   'gender']),\n",
       "                                                 ('st_sc', StandardScaler(),\n",
       "                                                  ['age', 'hours-per-week'])])),\n",
       "                ('logreg', LogisticRegression(C=1, solver='liblinear'))])"
      ]
     },
     "execution_count": 44,
     "metadata": {},
     "output_type": "execute_result"
    }
   ],
   "source": [
    "model2.fit(X_train, y_train)"
   ]
  },
  {
   "cell_type": "code",
   "execution_count": 47,
   "metadata": {},
   "outputs": [],
   "source": [
    "tpr_hand = []\n",
    "fpr_hand = []\n",
    "for treshold in tres:\n",
    "    tp = 0 # True positive\n",
    "    fp = 0 # False positive\n",
    "    fn = 0 # False negative\n",
    "    tn = 0 # True negative\n",
    "    \n",
    "    predictions = model2.predict_proba( X_test )\n",
    "    for predicted_prob, actual in zip( predictions[:, 1], y_test ):    \n",
    "        if predicted_prob >= treshold:\n",
    "            predicted = 1\n",
    "        else:\n",
    "            predicted = 0\n",
    "    \n",
    "        if predicted == 1:\n",
    "            if actual == 1:\n",
    "                tp += 1\n",
    "            else:\n",
    "                fp += 1\n",
    "    \n",
    "        else:\n",
    "            if actual == 1:\n",
    "                fn += 1\n",
    "            else:\n",
    "                tn += 1\n",
    "    fpr_ = fp / (fp + tn)\n",
    "    recall = tp / (tp + fn)\n",
    "    tpr_hand.append(recall)\n",
    "    fpr_hand.append(fpr_)"
   ]
  },
  {
   "cell_type": "code",
   "execution_count": 54,
   "metadata": {},
   "outputs": [
    {
     "data": {
      "image/png": "[encoded data removed]",
      "text/plain": [
       "<Figure size 576x432 with 1 Axes>"
      ]
     },
     "metadata": {
      "needs_background": "light"
     },
     "output_type": "display_data"
    }
   ],
   "source": [
    "plt.figure(figsize=(8, 6))\n",
    "value = results[('l2',1)] #оптимальный вариант, roc curve автоматом\n",
    "fpr, tpr, thres = roc_curve(y_test, value)\n",
    "plt.plot( fpr, tpr, label = 'auto' )\n",
    "plt.plot(fpr_hand, tpr_hand, label = 'hand') \n",
    "plt.plot([0, 1], [0, 1], '--', color=(0.6, 0.6, 0.6))\n",
    "plt.xlabel('False Positive Rate')\n",
    "plt.ylabel('True Positive Rate')\n",
    "plt.legend(loc='lower right')\n",
    "plt.show()"
   ]
  },
  {
   "cell_type": "markdown",
   "metadata": {},
   "source": [
    "#### Кривые совпали"
   ]
  },
  {
   "cell_type": "code",
   "execution_count": null,
   "metadata": {},
   "outputs": [],
   "source": []
  }
 ],
 "metadata": {
  "kernelspec": {
   "display_name": "Python 3",
   "language": "python",
   "name": "python3"
  },
  "language_info": {
   "codemirror_mode": {
    "name": "ipython",
    "version": 3
   },
   "file_extension": ".py",
   "mimetype": "text/x-python",
   "name": "python",
   "nbconvert_exporter": "python",
   "pygments_lexer": "ipython3",
   "version": "3.8.3"
  }
 },
 "nbformat": 4,
 "nbformat_minor": 4
}
