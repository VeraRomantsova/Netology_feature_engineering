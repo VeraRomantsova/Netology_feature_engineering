{
 "cells": [
  {
   "cell_type": "code",
   "execution_count": 1,
   "metadata": {},
   "outputs": [],
   "source": [
    "import numpy as np\n",
    "import pandas as pd\n",
    "import seaborn as sns\n",
    "import random\n",
    "from sklearn.linear_model import LinearRegression"
   ]
  },
  {
   "cell_type": "markdown",
   "metadata": {},
   "source": [
    "### Создаем искусственный сэмпл "
   ]
  },
  {
   "cell_type": "markdown",
   "metadata": {},
   "source": [
    "Необходимо запустить практическую часть занятия, и посмотреть самому то, о чём говорили на лекции. \n",
    "По образу практики, попробуйте создать искусственный датасет с лишними столбцами. \n",
    "Целевую метку, при правильной обработке данных, формируйте таким образом, чтобы без затруднений её смогла описать линейная модель. \n",
    "Ориентируйтесь на то, что было показано во время занятия, и каждый шаг описывайте в markdown. \n",
    "Здесь важно видеть ваш ход мысли. Не бойтесь ошибиться или написать не то. \n",
    "Данное задание не имеет какого-то “правильного” решения. \n",
    "Цель - достичь базового понимания проблемы. \n",
    "Чем больше вы фантазируете, тем лучше :) \n",
    "Тем не менее, старайтесь представить те ситуации, которые по-вашему мнению могли бы быть в реальных данных. Успеха!"
   ]
  },
  {
   "cell_type": "markdown",
   "metadata": {},
   "source": [
    "#### создадим датасет пациентов и параметров их здоровья. \n",
    "В качестве целевой переменной будем использовать верхнее артериальное давление.\n",
    "Создадим функцию определяющую верхнее артериальное давление в зависимости от пола (мужской пол более предрасположен к повышенному АД), роста и веса (по индексу массы тела = вес/рост в м**2), а также возраста (чем человек старше, тем выше давление)\n",
    "При этом частота дыхания в генерируемом датасете есть, но по частоте дыхания верхнее АД не зависит (наше допущение)"
   ]
  },
  {
   "cell_type": "code",
   "execution_count": 2,
   "metadata": {},
   "outputs": [
    {
     "data": {
      "text/html": [
       "<div>\n",
       "<style scoped>\n",
       "    .dataframe tbody tr th:only-of-type {\n",
       "        vertical-align: middle;\n",
       "    }\n",
       "\n",
       "    .dataframe tbody tr th {\n",
       "        vertical-align: top;\n",
       "    }\n",
       "\n",
       "    .dataframe thead th {\n",
       "        text-align: right;\n",
       "    }\n",
       "</style>\n",
       "<table border=\"1\" class=\"dataframe\">\n",
       "  <thead>\n",
       "    <tr style=\"text-align: right;\">\n",
       "      <th></th>\n",
       "      <th>age_patient</th>\n",
       "      <th>weight_patient</th>\n",
       "      <th>growth_patient</th>\n",
       "      <th>breathing_rate</th>\n",
       "      <th>sex_patient</th>\n",
       "      <th>upper_pressure</th>\n",
       "    </tr>\n",
       "  </thead>\n",
       "  <tbody>\n",
       "    <tr>\n",
       "      <th>0</th>\n",
       "      <td>70</td>\n",
       "      <td>142</td>\n",
       "      <td>163</td>\n",
       "      <td>14</td>\n",
       "      <td>0</td>\n",
       "      <td>147.445745</td>\n",
       "    </tr>\n",
       "    <tr>\n",
       "      <th>1</th>\n",
       "      <td>47</td>\n",
       "      <td>108</td>\n",
       "      <td>180</td>\n",
       "      <td>14</td>\n",
       "      <td>0</td>\n",
       "      <td>122.733333</td>\n",
       "    </tr>\n",
       "    <tr>\n",
       "      <th>2</th>\n",
       "      <td>69</td>\n",
       "      <td>99</td>\n",
       "      <td>194</td>\n",
       "      <td>11</td>\n",
       "      <td>1</td>\n",
       "      <td>125.104602</td>\n",
       "    </tr>\n",
       "    <tr>\n",
       "      <th>3</th>\n",
       "      <td>55</td>\n",
       "      <td>139</td>\n",
       "      <td>174</td>\n",
       "      <td>15</td>\n",
       "      <td>1</td>\n",
       "      <td>141.910953</td>\n",
       "    </tr>\n",
       "    <tr>\n",
       "      <th>4</th>\n",
       "      <td>92</td>\n",
       "      <td>109</td>\n",
       "      <td>201</td>\n",
       "      <td>17</td>\n",
       "      <td>0</td>\n",
       "      <td>125.379530</td>\n",
       "    </tr>\n",
       "    <tr>\n",
       "      <th>5</th>\n",
       "      <td>45</td>\n",
       "      <td>171</td>\n",
       "      <td>158</td>\n",
       "      <td>15</td>\n",
       "      <td>1</td>\n",
       "      <td>162.498638</td>\n",
       "    </tr>\n",
       "    <tr>\n",
       "      <th>6</th>\n",
       "      <td>65</td>\n",
       "      <td>119</td>\n",
       "      <td>207</td>\n",
       "      <td>17</td>\n",
       "      <td>0</td>\n",
       "      <td>120.771943</td>\n",
       "    </tr>\n",
       "    <tr>\n",
       "      <th>7</th>\n",
       "      <td>92</td>\n",
       "      <td>157</td>\n",
       "      <td>189</td>\n",
       "      <td>15</td>\n",
       "      <td>1</td>\n",
       "      <td>147.351737</td>\n",
       "    </tr>\n",
       "    <tr>\n",
       "      <th>8</th>\n",
       "      <td>71</td>\n",
       "      <td>94</td>\n",
       "      <td>210</td>\n",
       "      <td>16</td>\n",
       "      <td>1</td>\n",
       "      <td>120.515193</td>\n",
       "    </tr>\n",
       "    <tr>\n",
       "      <th>9</th>\n",
       "      <td>37</td>\n",
       "      <td>87</td>\n",
       "      <td>155</td>\n",
       "      <td>12</td>\n",
       "      <td>0</td>\n",
       "      <td>123.612279</td>\n",
       "    </tr>\n",
       "  </tbody>\n",
       "</table>\n",
       "</div>"
      ],
      "text/plain": [
       "   age_patient  weight_patient  growth_patient  breathing_rate  sex_patient  \\\n",
       "0           70             142             163              14            0   \n",
       "1           47             108             180              14            0   \n",
       "2           69              99             194              11            1   \n",
       "3           55             139             174              15            1   \n",
       "4           92             109             201              17            0   \n",
       "5           45             171             158              15            1   \n",
       "6           65             119             207              17            0   \n",
       "7           92             157             189              15            1   \n",
       "8           71              94             210              16            1   \n",
       "9           37              87             155              12            0   \n",
       "\n",
       "   upper_pressure  \n",
       "0      147.445745  \n",
       "1      122.733333  \n",
       "2      125.104602  \n",
       "3      141.910953  \n",
       "4      125.379530  \n",
       "5      162.498638  \n",
       "6      120.771943  \n",
       "7      147.351737  \n",
       "8      120.515193  \n",
       "9      123.612279  "
      ]
     },
     "execution_count": 2,
     "metadata": {},
     "output_type": "execute_result"
    }
   ],
   "source": [
    "n_samples = 1000 #кол-во примеров в датасете\n",
    "weight = list(range(50,151,1))\n",
    "growth = list(range(140,201,1))\n",
    "breathing_rate = list(range(10,31,1))\n",
    "age = list(range(18,81,1))\n",
    "age_patient = np.random.choice(age, n_samples) + 18 #возраст пациента\n",
    "weight_patient = np.random.choice(weight, n_samples) + 30 #вес пациента\n",
    "growth_patient = np.random.choice(growth, n_samples) + 10 #рост пациента\n",
    "breathing_rate = np.random.choice(breathing_rate, n_samples, p=[0.02, 0.022, 0.025, 0.05, 0.1, 0.125, 0.15, 0.125, 0.1,0.075,0.05, 0.05,0.025, 0.025, 0.01,0.01,0.01,0.01,0.01,0.004,0.004]) #частота дыхания\n",
    "sex_patient = np.random.choice([0,1], n_samples, p=[0.5, 0.5]) #пол пациента, 1 - мужской, 0 - женский\n",
    "\n",
    "upper_pressure = weight_patient/((growth_patient/100)**2) + age_patient/5 + sex_patient*5 + 80 #прописываем ф-лу зависимости верхнего артериального давления\n",
    "#генерируем датасет \n",
    "data = pd.DataFrame({'age_patient': age_patient, 'weight_patient': weight_patient, 'growth_patient': growth_patient, 'breathing_rate': breathing_rate, 'sex_patient': sex_patient,'upper_pressure': upper_pressure})\n",
    "data.head(10)"
   ]
  },
  {
   "cell_type": "markdown",
   "metadata": {},
   "source": [
    "#### На основании полученного датасета попробуем спрогнозировать целевую переменную upper_pressure, используя линейную регрессию и набор всех параметров ['age_patient', 'weight_patient', 'growth_patient','breathing_rate', 'sex_patient']"
   ]
  },
  {
   "cell_type": "code",
   "execution_count": 3,
   "metadata": {},
   "outputs": [
    {
     "name": "stdout",
     "output_type": "stream",
     "text": [
      "Weights: [ 0.20162032  0.3181277  -0.4662078   0.01947924  4.99931016]\n",
      "Bias: 163.4399695838024\n",
      "Error: 1.6847074028438702\n"
     ]
    }
   ],
   "source": [
    "from sklearn.metrics import mean_absolute_error\n",
    "\n",
    "X = data[['age_patient', 'weight_patient', 'growth_patient','breathing_rate', 'sex_patient']]\n",
    "y = data['upper_pressure']\n",
    "reg = LinearRegression().fit(X, y)\n",
    "print('Weights: {}'.format(reg.coef_))\n",
    "print('Bias: {}'.format(reg.intercept_))\n",
    "\n",
    "pred_values = reg.predict(data[['age_patient', 'weight_patient', 'growth_patient','breathing_rate', 'sex_patient']])\n",
    "print('Error: {}'.format(mean_absolute_error(pred_values, y)))"
   ]
  },
  {
   "cell_type": "markdown",
   "metadata": {},
   "source": [
    "Мы видим, что ошибка не такая большая, но все же есть, при этом bias переоценен, попробуем в следующем шаге убрать breathing_rate"
   ]
  },
  {
   "cell_type": "code",
   "execution_count": 4,
   "metadata": {},
   "outputs": [
    {
     "name": "stdout",
     "output_type": "stream",
     "text": [
      "Weights: [ 0.20158747  0.3180256  -0.46626363  5.00307343]\n",
      "Bias: 163.80004534092853\n",
      "Error: 1.6854509990410953\n"
     ]
    }
   ],
   "source": [
    "X1 = data[['age_patient', 'weight_patient', 'growth_patient', 'sex_patient']]\n",
    "y1 = data['upper_pressure']\n",
    "reg1 = LinearRegression().fit(X1, y1)\n",
    "print('Weights: {}'.format(reg1.coef_))\n",
    "print('Bias: {}'.format(reg1.intercept_))\n",
    "\n",
    "pred_values1 = reg1.predict(data[['age_patient', 'weight_patient', 'growth_patient', 'sex_patient']])\n",
    "print('Error: {}'.format(mean_absolute_error(pred_values1, y1)))"
   ]
  },
  {
   "cell_type": "markdown",
   "metadata": {},
   "source": [
    "Bias почти не снизился, ошибка на том же уровне, пробуем создать новый признак. Т.к. для weight_patient вес > 0, а для growth_patient < 0 - пробуем разделить weight_patient/growth_patient (у growth_patient отрицательная зависимость)"
   ]
  },
  {
   "cell_type": "code",
   "execution_count": 5,
   "metadata": {},
   "outputs": [
    {
     "data": {
      "text/html": [
       "<div>\n",
       "<style scoped>\n",
       "    .dataframe tbody tr th:only-of-type {\n",
       "        vertical-align: middle;\n",
       "    }\n",
       "\n",
       "    .dataframe tbody tr th {\n",
       "        vertical-align: top;\n",
       "    }\n",
       "\n",
       "    .dataframe thead th {\n",
       "        text-align: right;\n",
       "    }\n",
       "</style>\n",
       "<table border=\"1\" class=\"dataframe\">\n",
       "  <thead>\n",
       "    <tr style=\"text-align: right;\">\n",
       "      <th></th>\n",
       "      <th>age_patient</th>\n",
       "      <th>weight_patient</th>\n",
       "      <th>growth_patient</th>\n",
       "      <th>breathing_rate</th>\n",
       "      <th>sex_patient</th>\n",
       "      <th>upper_pressure</th>\n",
       "      <th>growth_patient-1</th>\n",
       "      <th>mult</th>\n",
       "    </tr>\n",
       "  </thead>\n",
       "  <tbody>\n",
       "    <tr>\n",
       "      <th>0</th>\n",
       "      <td>70</td>\n",
       "      <td>142</td>\n",
       "      <td>163</td>\n",
       "      <td>14</td>\n",
       "      <td>0</td>\n",
       "      <td>147.445745</td>\n",
       "      <td>0.006135</td>\n",
       "      <td>0.871166</td>\n",
       "    </tr>\n",
       "    <tr>\n",
       "      <th>1</th>\n",
       "      <td>47</td>\n",
       "      <td>108</td>\n",
       "      <td>180</td>\n",
       "      <td>14</td>\n",
       "      <td>0</td>\n",
       "      <td>122.733333</td>\n",
       "      <td>0.005556</td>\n",
       "      <td>0.600000</td>\n",
       "    </tr>\n",
       "    <tr>\n",
       "      <th>2</th>\n",
       "      <td>69</td>\n",
       "      <td>99</td>\n",
       "      <td>194</td>\n",
       "      <td>11</td>\n",
       "      <td>1</td>\n",
       "      <td>125.104602</td>\n",
       "      <td>0.005155</td>\n",
       "      <td>0.510309</td>\n",
       "    </tr>\n",
       "    <tr>\n",
       "      <th>3</th>\n",
       "      <td>55</td>\n",
       "      <td>139</td>\n",
       "      <td>174</td>\n",
       "      <td>15</td>\n",
       "      <td>1</td>\n",
       "      <td>141.910953</td>\n",
       "      <td>0.005747</td>\n",
       "      <td>0.798851</td>\n",
       "    </tr>\n",
       "    <tr>\n",
       "      <th>4</th>\n",
       "      <td>92</td>\n",
       "      <td>109</td>\n",
       "      <td>201</td>\n",
       "      <td>17</td>\n",
       "      <td>0</td>\n",
       "      <td>125.379530</td>\n",
       "      <td>0.004975</td>\n",
       "      <td>0.542289</td>\n",
       "    </tr>\n",
       "  </tbody>\n",
       "</table>\n",
       "</div>"
      ],
      "text/plain": [
       "   age_patient  weight_patient  growth_patient  breathing_rate  sex_patient  \\\n",
       "0           70             142             163              14            0   \n",
       "1           47             108             180              14            0   \n",
       "2           69              99             194              11            1   \n",
       "3           55             139             174              15            1   \n",
       "4           92             109             201              17            0   \n",
       "\n",
       "   upper_pressure  growth_patient-1      mult  \n",
       "0      147.445745          0.006135  0.871166  \n",
       "1      122.733333          0.005556  0.600000  \n",
       "2      125.104602          0.005155  0.510309  \n",
       "3      141.910953          0.005747  0.798851  \n",
       "4      125.379530          0.004975  0.542289  "
      ]
     },
     "execution_count": 5,
     "metadata": {},
     "output_type": "execute_result"
    }
   ],
   "source": [
    "# Создаем новый признак\n",
    "data['growth_patient-1'] = 1 / data['growth_patient'] # т.к. по коэф зависимость сильная но отрицательная\n",
    "data['mult'] = data['weight_patient'] * data['growth_patient-1'] # Создаем новый признак\n",
    "data.head(5)"
   ]
  },
  {
   "cell_type": "code",
   "execution_count": 27,
   "metadata": {},
   "outputs": [
    {
     "name": "stdout",
     "output_type": "stream",
     "text": [
      "Weights: [ 1.99233291e-01 -3.62901100e-01  3.34099842e-02  4.99766229e+00\n",
      "  1.21369225e+02]\n",
      "Bias: 74.01234736460945\n",
      "Error: 0.27465276737532757\n"
     ]
    }
   ],
   "source": [
    "X2 = data[['age_patient', 'weight_patient', 'growth_patient', 'sex_patient','mult']]\n",
    "y2 = data['upper_pressure']\n",
    "reg2 = LinearRegression().fit(X2, y2)\n",
    "print('Weights: {}'.format(reg2.coef_))\n",
    "print('Bias: {}'.format(reg2.intercept_))\n",
    "\n",
    "pred_values2 = reg2.predict(data[['age_patient', 'weight_patient', 'growth_patient', 'sex_patient','mult']])\n",
    "print('Error: {}'.format(mean_absolute_error(pred_values2, y2)))"
   ]
  },
  {
   "cell_type": "markdown",
   "metadata": {},
   "source": [
    "Ошибка значительно снизилась, bias значительно снизился.\n",
    "\n",
    "Но мы можем добавить мощности оригинальных функций в качестве новых, сгенериров уравнение еще более высокого порядка"
   ]
  },
  {
   "cell_type": "code",
   "execution_count": 9,
   "metadata": {},
   "outputs": [],
   "source": [
    "from sklearn.preprocessing import PolynomialFeatures"
   ]
  },
  {
   "cell_type": "code",
   "execution_count": 10,
   "metadata": {},
   "outputs": [],
   "source": [
    "poly = PolynomialFeatures(2)"
   ]
  },
  {
   "cell_type": "code",
   "execution_count": 19,
   "metadata": {},
   "outputs": [],
   "source": [
    "X_p = poly.fit_transform(data[['age_patient', 'weight_patient','breathing_rate', 'sex_patient', 'growth_patient-1']])"
   ]
  },
  {
   "cell_type": "code",
   "execution_count": 20,
   "metadata": {},
   "outputs": [
    {
     "data": {
      "text/plain": [
       "['1',\n",
       " 'x0',\n",
       " 'x1',\n",
       " 'x2',\n",
       " 'x3',\n",
       " 'x4',\n",
       " 'x0^2',\n",
       " 'x0 x1',\n",
       " 'x0 x2',\n",
       " 'x0 x3',\n",
       " 'x0 x4',\n",
       " 'x1^2',\n",
       " 'x1 x2',\n",
       " 'x1 x3',\n",
       " 'x1 x4',\n",
       " 'x2^2',\n",
       " 'x2 x3',\n",
       " 'x2 x4',\n",
       " 'x3^2',\n",
       " 'x3 x4',\n",
       " 'x4^2']"
      ]
     },
     "execution_count": 20,
     "metadata": {},
     "output_type": "execute_result"
    }
   ],
   "source": [
    "poly.get_feature_names()"
   ]
  },
  {
   "cell_type": "code",
   "execution_count": 21,
   "metadata": {},
   "outputs": [],
   "source": [
    "reg = LinearRegression().fit(X_p,y)"
   ]
  },
  {
   "cell_type": "code",
   "execution_count": 22,
   "metadata": {},
   "outputs": [
    {
     "name": "stdout",
     "output_type": "stream",
     "text": [
      "Weights: [ 0.00000000e+00  2.00897309e-01 -3.17870121e-01 -1.57949503e-02\n",
      "  2.53445863e+00 -1.47579327e+04 -1.44777456e-06 -6.55470073e-06\n",
      "  2.68143440e-06 -7.42363123e-04  8.13684201e-02  6.53902915e-07\n",
      " -1.01889490e-05 -1.37491959e-04  1.13432583e+02  2.11021053e-04\n",
      " -2.20152972e-04  1.77939235e+00  2.53449072e+00 -4.31304412e-01\n",
      "  1.29820317e+06]\n",
      "Bias: 121.46416824586963\n",
      "Error: 0.056840373506231556\n"
     ]
    }
   ],
   "source": [
    "print('Weights: {}'.format(reg.coef_))\n",
    "print('Bias: {}'.format(reg.intercept_))\n",
    "pred_values = reg.predict(X_p)\n",
    "print('Error: {}'.format(mean_absolute_error(pred_values, y)))"
   ]
  },
  {
   "cell_type": "markdown",
   "metadata": {},
   "source": [
    " * x0 = 2.00897309e-01 age_patient\n",
    " * x1= -3.17870121e-01 weight_patient\n",
    " * x3 = 2.53445863e+00 sex_patient\n",
    " * x4 = -1.47579327e+04 growth_patient-1\n",
    " * x1 x4 1.13432583e+02\n",
    " * x2 x4 1.77939235e+00 #выкидываем т.к. выкинули x2\n",
    " * x3^2 2.53449072e+00\n",
    " * x4^2 1.29820317e+06\n",
    " только эти коэф вносят сущест вклад в модель (это как раз частота дыхания)\n",
    " \n",
    " x2 = -1.57949503e-02 - существенный вклад не вносит breathing_rate"
   ]
  },
  {
   "cell_type": "code",
   "execution_count": 25,
   "metadata": {},
   "outputs": [
    {
     "data": {
      "text/html": [
       "<div>\n",
       "<style scoped>\n",
       "    .dataframe tbody tr th:only-of-type {\n",
       "        vertical-align: middle;\n",
       "    }\n",
       "\n",
       "    .dataframe tbody tr th {\n",
       "        vertical-align: top;\n",
       "    }\n",
       "\n",
       "    .dataframe thead th {\n",
       "        text-align: right;\n",
       "    }\n",
       "</style>\n",
       "<table border=\"1\" class=\"dataframe\">\n",
       "  <thead>\n",
       "    <tr style=\"text-align: right;\">\n",
       "      <th></th>\n",
       "      <th>age_patient</th>\n",
       "      <th>weight_patient</th>\n",
       "      <th>growth_patient</th>\n",
       "      <th>breathing_rate</th>\n",
       "      <th>sex_patient</th>\n",
       "      <th>upper_pressure</th>\n",
       "      <th>growth_patient-1</th>\n",
       "      <th>mult</th>\n",
       "      <th>mult_1</th>\n",
       "      <th>mult_2</th>\n",
       "      <th>mult_3</th>\n",
       "    </tr>\n",
       "  </thead>\n",
       "  <tbody>\n",
       "    <tr>\n",
       "      <th>0</th>\n",
       "      <td>70</td>\n",
       "      <td>142</td>\n",
       "      <td>163</td>\n",
       "      <td>14</td>\n",
       "      <td>0</td>\n",
       "      <td>147.445745</td>\n",
       "      <td>0.006135</td>\n",
       "      <td>0.871166</td>\n",
       "      <td>0.871166</td>\n",
       "      <td>0</td>\n",
       "      <td>0.000038</td>\n",
       "    </tr>\n",
       "    <tr>\n",
       "      <th>1</th>\n",
       "      <td>47</td>\n",
       "      <td>108</td>\n",
       "      <td>180</td>\n",
       "      <td>14</td>\n",
       "      <td>0</td>\n",
       "      <td>122.733333</td>\n",
       "      <td>0.005556</td>\n",
       "      <td>0.600000</td>\n",
       "      <td>0.600000</td>\n",
       "      <td>0</td>\n",
       "      <td>0.000031</td>\n",
       "    </tr>\n",
       "    <tr>\n",
       "      <th>2</th>\n",
       "      <td>69</td>\n",
       "      <td>99</td>\n",
       "      <td>194</td>\n",
       "      <td>11</td>\n",
       "      <td>1</td>\n",
       "      <td>125.104602</td>\n",
       "      <td>0.005155</td>\n",
       "      <td>0.510309</td>\n",
       "      <td>0.510309</td>\n",
       "      <td>1</td>\n",
       "      <td>0.000027</td>\n",
       "    </tr>\n",
       "    <tr>\n",
       "      <th>3</th>\n",
       "      <td>55</td>\n",
       "      <td>139</td>\n",
       "      <td>174</td>\n",
       "      <td>15</td>\n",
       "      <td>1</td>\n",
       "      <td>141.910953</td>\n",
       "      <td>0.005747</td>\n",
       "      <td>0.798851</td>\n",
       "      <td>0.798851</td>\n",
       "      <td>1</td>\n",
       "      <td>0.000033</td>\n",
       "    </tr>\n",
       "    <tr>\n",
       "      <th>4</th>\n",
       "      <td>92</td>\n",
       "      <td>109</td>\n",
       "      <td>201</td>\n",
       "      <td>17</td>\n",
       "      <td>0</td>\n",
       "      <td>125.379530</td>\n",
       "      <td>0.004975</td>\n",
       "      <td>0.542289</td>\n",
       "      <td>0.542289</td>\n",
       "      <td>0</td>\n",
       "      <td>0.000025</td>\n",
       "    </tr>\n",
       "  </tbody>\n",
       "</table>\n",
       "</div>"
      ],
      "text/plain": [
       "   age_patient  weight_patient  growth_patient  breathing_rate  sex_patient  \\\n",
       "0           70             142             163              14            0   \n",
       "1           47             108             180              14            0   \n",
       "2           69              99             194              11            1   \n",
       "3           55             139             174              15            1   \n",
       "4           92             109             201              17            0   \n",
       "\n",
       "   upper_pressure  growth_patient-1      mult    mult_1  mult_2    mult_3  \n",
       "0      147.445745          0.006135  0.871166  0.871166       0  0.000038  \n",
       "1      122.733333          0.005556  0.600000  0.600000       0  0.000031  \n",
       "2      125.104602          0.005155  0.510309  0.510309       1  0.000027  \n",
       "3      141.910953          0.005747  0.798851  0.798851       1  0.000033  \n",
       "4      125.379530          0.004975  0.542289  0.542289       0  0.000025  "
      ]
     },
     "execution_count": 25,
     "metadata": {},
     "output_type": "execute_result"
    }
   ],
   "source": [
    "# Создаем новые признаки, которые вносят существенный вклад в модель\n",
    "data['mult_1'] = data['weight_patient'] * data['growth_patient-1'] #x1 x4 1.13432583e+02\n",
    "data['mult_2'] = data['sex_patient'] * data['sex_patient'] #x3^2 2.53449072e+00\n",
    "data['mult_3'] = data['growth_patient-1'] * data['growth_patient-1'] #x4^2 1.29820317e+06\n",
    "data.head(5)"
   ]
  },
  {
   "cell_type": "code",
   "execution_count": 26,
   "metadata": {},
   "outputs": [
    {
     "name": "stdout",
     "output_type": "stream",
     "text": [
      "Weights: [ 2.00018569e-01 -3.18510317e-01 -1.47416930e+04  2.49814830e+00\n",
      "  1.13460129e+02  2.49812791e+00  1.29964768e+06]\n",
      "Bias: 121.3720044385644\n",
      "Error: 0.05709249874225985\n"
     ]
    }
   ],
   "source": [
    "#Предсказываем значение и смотрим ошибку на выбранных нами переменных\n",
    "X_poly2 = data[['age_patient', 'weight_patient', 'growth_patient-1', 'sex_patient','mult_1','mult_2','mult_3']]\n",
    "y_poly2 = data['upper_pressure']\n",
    "reg_poly2 = LinearRegression().fit(X_poly2, y_poly2)\n",
    "print('Weights: {}'.format(reg_poly2.coef_))\n",
    "print('Bias: {}'.format(reg_poly2.intercept_))\n",
    "\n",
    "pred_values_poly2 = reg_poly2.predict(data[['age_patient', 'weight_patient', 'growth_patient-1', 'sex_patient','mult_1','mult_2','mult_3']])\n",
    "print('Error: {}'.format(mean_absolute_error(pred_values_poly2, y_poly2)))"
   ]
  },
  {
   "cell_type": "markdown",
   "metadata": {},
   "source": [
    "#### Наименьшую ошибку дала последняя модель reg_poly2\n",
    "* reg ('age_patient', 'weight_patient', 'growth_patient', 'sex_patient','mult') Bias: 163.4399695838024 Error: 1.6847074028438702\n",
    "* reg1 ('age_patient', 'weight_patient', 'growth_patient', 'sex_patient') Bias: 163.80004534092853 Error: 1.6854509990410953\n",
    "* reg2 ('age_patient', 'weight_patient', 'growth_patient', 'sex_patient','mult') Bias: 74.01234736460945 Error: 0.27465276737532757\n",
    "* reg_poly2 ('age_patient', 'weight_patient', 'growth_patient-1', 'sex_patient','mult_1','mult_2','mult_3') Bias: 121.3720044385644 Error: 0.05709249874225985"
   ]
  },
  {
   "cell_type": "code",
   "execution_count": null,
   "metadata": {},
   "outputs": [],
   "source": []
  }
 ],
 "metadata": {
  "kernelspec": {
   "display_name": "Python 3",
   "language": "python",
   "name": "python3"
  },
  "language_info": {
   "codemirror_mode": {
    "name": "ipython",
    "version": 3
   },
   "file_extension": ".py",
   "mimetype": "text/x-python",
   "name": "python",
   "nbconvert_exporter": "python",
   "pygments_lexer": "ipython3",
   "version": "3.8.3"
  }
 },
 "nbformat": 4,
 "nbformat_minor": 4
}
