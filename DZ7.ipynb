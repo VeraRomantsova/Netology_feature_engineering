{
 "cells": [
  {
   "cell_type": "markdown",
   "metadata": {},
   "source": [
    "### Домашняя работа\n",
    "Теперь решаем задачу регрессии - предскажем цены на недвижимость. Использовать датасет https://www.kaggle.com/c/house-prices-advanced-regression-techniques/data (train.csv)\n",
    "\n",
    "Построить случайный лес, вывести важность признаков\n",
    "\n",
    "Обучить стекинг как минимум 3х моделей, использовать хотя бы 1 линейную модель и 1 нелинейную\n",
    "\n",
    "В качестве решения: Jupyter notebook с кодом, комментариями и графиками"
   ]
  },
  {
   "cell_type": "code",
   "execution_count": 1,
   "metadata": {},
   "outputs": [],
   "source": [
    "import pandas as pd\n",
    "import matplotlib.pyplot as plt\n",
    "import numpy as np\n",
    "from sklearn.metrics import r2_score"
   ]
  },
  {
   "cell_type": "code",
   "execution_count": 2,
   "metadata": {},
   "outputs": [],
   "source": [
    "data = pd.read_csv('train_house.csv')"
   ]
  },
  {
   "cell_type": "code",
   "execution_count": 3,
   "metadata": {},
   "outputs": [
    {
     "data": {
      "text/html": [
       "<div>\n",
       "<style scoped>\n",
       "    .dataframe tbody tr th:only-of-type {\n",
       "        vertical-align: middle;\n",
       "    }\n",
       "\n",
       "    .dataframe tbody tr th {\n",
       "        vertical-align: top;\n",
       "    }\n",
       "\n",
       "    .dataframe thead th {\n",
       "        text-align: right;\n",
       "    }\n",
       "</style>\n",
       "<table border=\"1\" class=\"dataframe\">\n",
       "  <thead>\n",
       "    <tr style=\"text-align: right;\">\n",
       "      <th></th>\n",
       "      <th>Id</th>\n",
       "      <th>MSSubClass</th>\n",
       "      <th>MSZoning</th>\n",
       "      <th>LotFrontage</th>\n",
       "      <th>LotArea</th>\n",
       "      <th>Street</th>\n",
       "      <th>Alley</th>\n",
       "      <th>LotShape</th>\n",
       "      <th>LandContour</th>\n",
       "      <th>Utilities</th>\n",
       "      <th>...</th>\n",
       "      <th>PoolArea</th>\n",
       "      <th>PoolQC</th>\n",
       "      <th>Fence</th>\n",
       "      <th>MiscFeature</th>\n",
       "      <th>MiscVal</th>\n",
       "      <th>MoSold</th>\n",
       "      <th>YrSold</th>\n",
       "      <th>SaleType</th>\n",
       "      <th>SaleCondition</th>\n",
       "      <th>SalePrice</th>\n",
       "    </tr>\n",
       "  </thead>\n",
       "  <tbody>\n",
       "    <tr>\n",
       "      <th>0</th>\n",
       "      <td>1</td>\n",
       "      <td>60</td>\n",
       "      <td>RL</td>\n",
       "      <td>65.0</td>\n",
       "      <td>8450</td>\n",
       "      <td>Pave</td>\n",
       "      <td>NaN</td>\n",
       "      <td>Reg</td>\n",
       "      <td>Lvl</td>\n",
       "      <td>AllPub</td>\n",
       "      <td>...</td>\n",
       "      <td>0</td>\n",
       "      <td>NaN</td>\n",
       "      <td>NaN</td>\n",
       "      <td>NaN</td>\n",
       "      <td>0</td>\n",
       "      <td>2</td>\n",
       "      <td>2008</td>\n",
       "      <td>WD</td>\n",
       "      <td>Normal</td>\n",
       "      <td>208500</td>\n",
       "    </tr>\n",
       "    <tr>\n",
       "      <th>1</th>\n",
       "      <td>2</td>\n",
       "      <td>20</td>\n",
       "      <td>RL</td>\n",
       "      <td>80.0</td>\n",
       "      <td>9600</td>\n",
       "      <td>Pave</td>\n",
       "      <td>NaN</td>\n",
       "      <td>Reg</td>\n",
       "      <td>Lvl</td>\n",
       "      <td>AllPub</td>\n",
       "      <td>...</td>\n",
       "      <td>0</td>\n",
       "      <td>NaN</td>\n",
       "      <td>NaN</td>\n",
       "      <td>NaN</td>\n",
       "      <td>0</td>\n",
       "      <td>5</td>\n",
       "      <td>2007</td>\n",
       "      <td>WD</td>\n",
       "      <td>Normal</td>\n",
       "      <td>181500</td>\n",
       "    </tr>\n",
       "    <tr>\n",
       "      <th>2</th>\n",
       "      <td>3</td>\n",
       "      <td>60</td>\n",
       "      <td>RL</td>\n",
       "      <td>68.0</td>\n",
       "      <td>11250</td>\n",
       "      <td>Pave</td>\n",
       "      <td>NaN</td>\n",
       "      <td>IR1</td>\n",
       "      <td>Lvl</td>\n",
       "      <td>AllPub</td>\n",
       "      <td>...</td>\n",
       "      <td>0</td>\n",
       "      <td>NaN</td>\n",
       "      <td>NaN</td>\n",
       "      <td>NaN</td>\n",
       "      <td>0</td>\n",
       "      <td>9</td>\n",
       "      <td>2008</td>\n",
       "      <td>WD</td>\n",
       "      <td>Normal</td>\n",
       "      <td>223500</td>\n",
       "    </tr>\n",
       "    <tr>\n",
       "      <th>3</th>\n",
       "      <td>4</td>\n",
       "      <td>70</td>\n",
       "      <td>RL</td>\n",
       "      <td>60.0</td>\n",
       "      <td>9550</td>\n",
       "      <td>Pave</td>\n",
       "      <td>NaN</td>\n",
       "      <td>IR1</td>\n",
       "      <td>Lvl</td>\n",
       "      <td>AllPub</td>\n",
       "      <td>...</td>\n",
       "      <td>0</td>\n",
       "      <td>NaN</td>\n",
       "      <td>NaN</td>\n",
       "      <td>NaN</td>\n",
       "      <td>0</td>\n",
       "      <td>2</td>\n",
       "      <td>2006</td>\n",
       "      <td>WD</td>\n",
       "      <td>Abnorml</td>\n",
       "      <td>140000</td>\n",
       "    </tr>\n",
       "    <tr>\n",
       "      <th>4</th>\n",
       "      <td>5</td>\n",
       "      <td>60</td>\n",
       "      <td>RL</td>\n",
       "      <td>84.0</td>\n",
       "      <td>14260</td>\n",
       "      <td>Pave</td>\n",
       "      <td>NaN</td>\n",
       "      <td>IR1</td>\n",
       "      <td>Lvl</td>\n",
       "      <td>AllPub</td>\n",
       "      <td>...</td>\n",
       "      <td>0</td>\n",
       "      <td>NaN</td>\n",
       "      <td>NaN</td>\n",
       "      <td>NaN</td>\n",
       "      <td>0</td>\n",
       "      <td>12</td>\n",
       "      <td>2008</td>\n",
       "      <td>WD</td>\n",
       "      <td>Normal</td>\n",
       "      <td>250000</td>\n",
       "    </tr>\n",
       "  </tbody>\n",
       "</table>\n",
       "<p>5 rows × 81 columns</p>\n",
       "</div>"
      ],
      "text/plain": [
       "   Id  MSSubClass MSZoning  LotFrontage  LotArea Street Alley LotShape  \\\n",
       "0   1          60       RL         65.0     8450   Pave   NaN      Reg   \n",
       "1   2          20       RL         80.0     9600   Pave   NaN      Reg   \n",
       "2   3          60       RL         68.0    11250   Pave   NaN      IR1   \n",
       "3   4          70       RL         60.0     9550   Pave   NaN      IR1   \n",
       "4   5          60       RL         84.0    14260   Pave   NaN      IR1   \n",
       "\n",
       "  LandContour Utilities  ... PoolArea PoolQC Fence MiscFeature MiscVal MoSold  \\\n",
       "0         Lvl    AllPub  ...        0    NaN   NaN         NaN       0      2   \n",
       "1         Lvl    AllPub  ...        0    NaN   NaN         NaN       0      5   \n",
       "2         Lvl    AllPub  ...        0    NaN   NaN         NaN       0      9   \n",
       "3         Lvl    AllPub  ...        0    NaN   NaN         NaN       0      2   \n",
       "4         Lvl    AllPub  ...        0    NaN   NaN         NaN       0     12   \n",
       "\n",
       "  YrSold  SaleType  SaleCondition  SalePrice  \n",
       "0   2008        WD         Normal     208500  \n",
       "1   2007        WD         Normal     181500  \n",
       "2   2008        WD         Normal     223500  \n",
       "3   2006        WD        Abnorml     140000  \n",
       "4   2008        WD         Normal     250000  \n",
       "\n",
       "[5 rows x 81 columns]"
      ]
     },
     "execution_count": 3,
     "metadata": {},
     "output_type": "execute_result"
    }
   ],
   "source": [
    "data.head()"
   ]
  },
  {
   "cell_type": "code",
   "execution_count": 4,
   "metadata": {
    "scrolled": true
   },
   "outputs": [
    {
     "name": "stdout",
     "output_type": "stream",
     "text": [
      "<class 'pandas.core.frame.DataFrame'>\n",
      "RangeIndex: 1460 entries, 0 to 1459\n",
      "Data columns (total 81 columns):\n",
      " #   Column         Non-Null Count  Dtype  \n",
      "---  ------         --------------  -----  \n",
      " 0   Id             1460 non-null   int64  \n",
      " 1   MSSubClass     1460 non-null   int64  \n",
      " 2   MSZoning       1460 non-null   object \n",
      " 3   LotFrontage    1201 non-null   float64\n",
      " 4   LotArea        1460 non-null   int64  \n",
      " 5   Street         1460 non-null   object \n",
      " 6   Alley          91 non-null     object \n",
      " 7   LotShape       1460 non-null   object \n",
      " 8   LandContour    1460 non-null   object \n",
      " 9   Utilities      1460 non-null   object \n",
      " 10  LotConfig      1460 non-null   object \n",
      " 11  LandSlope      1460 non-null   object \n",
      " 12  Neighborhood   1460 non-null   object \n",
      " 13  Condition1     1460 non-null   object \n",
      " 14  Condition2     1460 non-null   object \n",
      " 15  BldgType       1460 non-null   object \n",
      " 16  HouseStyle     1460 non-null   object \n",
      " 17  OverallQual    1460 non-null   int64  \n",
      " 18  OverallCond    1460 non-null   int64  \n",
      " 19  YearBuilt      1460 non-null   int64  \n",
      " 20  YearRemodAdd   1460 non-null   int64  \n",
      " 21  RoofStyle      1460 non-null   object \n",
      " 22  RoofMatl       1460 non-null   object \n",
      " 23  Exterior1st    1460 non-null   object \n",
      " 24  Exterior2nd    1460 non-null   object \n",
      " 25  MasVnrType     1452 non-null   object \n",
      " 26  MasVnrArea     1452 non-null   float64\n",
      " 27  ExterQual      1460 non-null   object \n",
      " 28  ExterCond      1460 non-null   object \n",
      " 29  Foundation     1460 non-null   object \n",
      " 30  BsmtQual       1423 non-null   object \n",
      " 31  BsmtCond       1423 non-null   object \n",
      " 32  BsmtExposure   1422 non-null   object \n",
      " 33  BsmtFinType1   1423 non-null   object \n",
      " 34  BsmtFinSF1     1460 non-null   int64  \n",
      " 35  BsmtFinType2   1422 non-null   object \n",
      " 36  BsmtFinSF2     1460 non-null   int64  \n",
      " 37  BsmtUnfSF      1460 non-null   int64  \n",
      " 38  TotalBsmtSF    1460 non-null   int64  \n",
      " 39  Heating        1460 non-null   object \n",
      " 40  HeatingQC      1460 non-null   object \n",
      " 41  CentralAir     1460 non-null   object \n",
      " 42  Electrical     1459 non-null   object \n",
      " 43  1stFlrSF       1460 non-null   int64  \n",
      " 44  2ndFlrSF       1460 non-null   int64  \n",
      " 45  LowQualFinSF   1460 non-null   int64  \n",
      " 46  GrLivArea      1460 non-null   int64  \n",
      " 47  BsmtFullBath   1460 non-null   int64  \n",
      " 48  BsmtHalfBath   1460 non-null   int64  \n",
      " 49  FullBath       1460 non-null   int64  \n",
      " 50  HalfBath       1460 non-null   int64  \n",
      " 51  BedroomAbvGr   1460 non-null   int64  \n",
      " 52  KitchenAbvGr   1460 non-null   int64  \n",
      " 53  KitchenQual    1460 non-null   object \n",
      " 54  TotRmsAbvGrd   1460 non-null   int64  \n",
      " 55  Functional     1460 non-null   object \n",
      " 56  Fireplaces     1460 non-null   int64  \n",
      " 57  FireplaceQu    770 non-null    object \n",
      " 58  GarageType     1379 non-null   object \n",
      " 59  GarageYrBlt    1379 non-null   float64\n",
      " 60  GarageFinish   1379 non-null   object \n",
      " 61  GarageCars     1460 non-null   int64  \n",
      " 62  GarageArea     1460 non-null   int64  \n",
      " 63  GarageQual     1379 non-null   object \n",
      " 64  GarageCond     1379 non-null   object \n",
      " 65  PavedDrive     1460 non-null   object \n",
      " 66  WoodDeckSF     1460 non-null   int64  \n",
      " 67  OpenPorchSF    1460 non-null   int64  \n",
      " 68  EnclosedPorch  1460 non-null   int64  \n",
      " 69  3SsnPorch      1460 non-null   int64  \n",
      " 70  ScreenPorch    1460 non-null   int64  \n",
      " 71  PoolArea       1460 non-null   int64  \n",
      " 72  PoolQC         7 non-null      object \n",
      " 73  Fence          281 non-null    object \n",
      " 74  MiscFeature    54 non-null     object \n",
      " 75  MiscVal        1460 non-null   int64  \n",
      " 76  MoSold         1460 non-null   int64  \n",
      " 77  YrSold         1460 non-null   int64  \n",
      " 78  SaleType       1460 non-null   object \n",
      " 79  SaleCondition  1460 non-null   object \n",
      " 80  SalePrice      1460 non-null   int64  \n",
      "dtypes: float64(3), int64(35), object(43)\n",
      "memory usage: 924.0+ KB\n"
     ]
    }
   ],
   "source": [
    "data.info()"
   ]
  },
  {
   "cell_type": "code",
   "execution_count": 5,
   "metadata": {},
   "outputs": [],
   "source": [
    "y = data['SalePrice']\n",
    "X = data.drop(['SalePrice','Id'], axis =1) #также удалим айдишники, не несут смысловой нагрузки в датасете и целевую переменную\n",
    "X = X.drop(['Alley','PoolQC','Fence','MiscFeature'],axis=1) #удалим те признаки, значений которых мало в датасете"
   ]
  },
  {
   "cell_type": "code",
   "execution_count": 6,
   "metadata": {},
   "outputs": [],
   "source": [
    "#Заменим пропуски в части категориальных признаков\n",
    "X_regr = X\n",
    "X_regr['MasVnrType'].fillna('None', inplace=True)\n",
    "X_regr['BsmtQual'].fillna('NB', inplace=True)\n",
    "X_regr['BsmtCond'].fillna('NB', inplace=True) \n",
    "X_regr['BsmtExposure'].fillna('NB', inplace=True) \n",
    "X_regr['BsmtFinType1'].fillna('NB', inplace=True)\n",
    "X_regr['BsmtFinType2'].fillna('NB', inplace=True)\n",
    "X_regr['Electrical'].fillna('SBrkr', inplace=True)\n",
    "X_regr['FireplaceQu'].fillna('NB', inplace=True)\n",
    "X_regr['GarageType'].fillna('NB', inplace=True)\n",
    "X_regr['GarageFinish'].fillna('NB', inplace=True)\n",
    "X_regr['GarageQual'].fillna('NB', inplace=True)\n",
    "X_regr['GarageCond'].fillna('NB', inplace=True)\n",
    "# сформируем перечень категориальных признаков\n",
    "cat_feat = list(X_regr.dtypes[X_regr.dtypes == object].index)"
   ]
  },
  {
   "cell_type": "code",
   "execution_count": 7,
   "metadata": {},
   "outputs": [],
   "source": [
    "#Заменим модой пропущенные значения категориальных переменных (для линейной модели)\n",
    "for category in cat_feat:\n",
    "    X_regr[category].fillna(X_regr[category].mode, inplace=True)"
   ]
  },
  {
   "cell_type": "code",
   "execution_count": 8,
   "metadata": {},
   "outputs": [],
   "source": [
    "#отфильтруем непрерывные признаки\n",
    "num_feat = [f for f in X_regr if f not in cat_feat]"
   ]
  },
  {
   "cell_type": "code",
   "execution_count": 9,
   "metadata": {},
   "outputs": [],
   "source": [
    "#Заменим средним пропущенные значения для числовых переменных\n",
    "for category in num_feat:\n",
    "    X_regr[category].fillna(X_regr[category].mean(),inplace=True)"
   ]
  },
  {
   "cell_type": "code",
   "execution_count": 10,
   "metadata": {},
   "outputs": [
    {
     "name": "stdout",
     "output_type": "stream",
     "text": [
      "MSZoning          5\n",
      "Street            2\n",
      "LotShape          4\n",
      "LandContour       4\n",
      "Utilities         2\n",
      "LotConfig         5\n",
      "LandSlope         3\n",
      "Neighborhood     25\n",
      "Condition1        9\n",
      "Condition2        8\n",
      "BldgType          5\n",
      "HouseStyle        8\n",
      "RoofStyle         6\n",
      "RoofMatl          8\n",
      "Exterior1st      15\n",
      "Exterior2nd      16\n",
      "MasVnrType        4\n",
      "ExterQual         4\n",
      "ExterCond         5\n",
      "Foundation        6\n",
      "BsmtQual          5\n",
      "BsmtCond          5\n",
      "BsmtExposure      5\n",
      "BsmtFinType1      7\n",
      "BsmtFinType2      7\n",
      "Heating           6\n",
      "HeatingQC         5\n",
      "CentralAir        2\n",
      "Electrical        5\n",
      "KitchenQual       4\n",
      "Functional        7\n",
      "FireplaceQu       6\n",
      "GarageType        7\n",
      "GarageFinish      4\n",
      "GarageQual        6\n",
      "GarageCond        6\n",
      "PavedDrive        3\n",
      "SaleType          9\n",
      "SaleCondition     6\n",
      "dtype: int64\n"
     ]
    }
   ],
   "source": [
    "cat_nunique = X_regr[cat_feat].nunique()\n",
    "print(cat_nunique)"
   ]
  },
  {
   "cell_type": "code",
   "execution_count": 11,
   "metadata": {},
   "outputs": [],
   "source": [
    "#Чтобы в разы не увеличивать число признаков при построении dummy,\n",
    "#будем использовать категориальные признаки с < 10 уникальных значений\n",
    "X_regr = X_regr.drop(['Neighborhood','Exterior1st','Exterior2nd'],axis=1)"
   ]
  },
  {
   "cell_type": "code",
   "execution_count": 12,
   "metadata": {},
   "outputs": [],
   "source": [
    "#Находим категориальные признаки\n",
    "cat_feat = list(X_regr.dtypes[X_regr.dtypes == object].index)"
   ]
  },
  {
   "cell_type": "code",
   "execution_count": 13,
   "metadata": {},
   "outputs": [
    {
     "name": "stdout",
     "output_type": "stream",
     "text": [
      "MSZoning has been label encoded\n",
      "Street has been label encoded\n",
      "LotShape has been label encoded\n",
      "LandContour has been label encoded\n",
      "Utilities has been label encoded\n",
      "LotConfig has been label encoded\n",
      "LandSlope has been label encoded\n",
      "Condition1 has been label encoded\n",
      "Condition2 has been label encoded\n",
      "BldgType has been label encoded\n",
      "HouseStyle has been label encoded\n",
      "RoofStyle has been label encoded\n",
      "RoofMatl has been label encoded\n",
      "MasVnrType has been label encoded\n",
      "ExterQual has been label encoded\n",
      "ExterCond has been label encoded\n",
      "Foundation has been label encoded\n",
      "BsmtQual has been label encoded\n",
      "BsmtCond has been label encoded\n",
      "BsmtExposure has been label encoded\n",
      "BsmtFinType1 has been label encoded\n",
      "BsmtFinType2 has been label encoded\n",
      "Heating has been label encoded\n",
      "HeatingQC has been label encoded\n",
      "CentralAir has been label encoded\n",
      "Electrical has been label encoded\n",
      "KitchenQual has been label encoded\n",
      "Functional has been label encoded\n",
      "FireplaceQu has been label encoded\n",
      "GarageType has been label encoded\n",
      "GarageFinish has been label encoded\n",
      "GarageQual has been label encoded\n",
      "GarageCond has been label encoded\n",
      "PavedDrive has been label encoded\n",
      "SaleType has been label encoded\n",
      "SaleCondition has been label encoded\n"
     ]
    }
   ],
   "source": [
    "from sklearn.preprocessing import LabelEncoder\n",
    "from sklearn.preprocessing import OneHotEncoder\n",
    "\n",
    "#initialize label endoce as first step.\n",
    "le = LabelEncoder()\n",
    "\n",
    "for i in X_regr[cat_feat]:\n",
    "    if X_regr[i].dtype:\n",
    "        X_regr[i] = le.fit_transform(X_regr[i].values)\n",
    "        print(i + ' has been label encoded')"
   ]
  },
  {
   "cell_type": "code",
   "execution_count": 15,
   "metadata": {},
   "outputs": [
    {
     "data": {
      "text/html": [
       "<div>\n",
       "<style scoped>\n",
       "    .dataframe tbody tr th:only-of-type {\n",
       "        vertical-align: middle;\n",
       "    }\n",
       "\n",
       "    .dataframe tbody tr th {\n",
       "        vertical-align: top;\n",
       "    }\n",
       "\n",
       "    .dataframe thead th {\n",
       "        text-align: right;\n",
       "    }\n",
       "</style>\n",
       "<table border=\"1\" class=\"dataframe\">\n",
       "  <thead>\n",
       "    <tr style=\"text-align: right;\">\n",
       "      <th></th>\n",
       "      <th>MSZoning_0</th>\n",
       "      <th>MSZoning_1</th>\n",
       "      <th>MSZoning_2</th>\n",
       "      <th>MSZoning_3</th>\n",
       "      <th>MSZoning_4</th>\n",
       "      <th>Street_0</th>\n",
       "      <th>Street_1</th>\n",
       "      <th>LotShape_0</th>\n",
       "      <th>LotShape_1</th>\n",
       "      <th>LotShape_2</th>\n",
       "      <th>...</th>\n",
       "      <th>SaleType_5</th>\n",
       "      <th>SaleType_6</th>\n",
       "      <th>SaleType_7</th>\n",
       "      <th>SaleType_8</th>\n",
       "      <th>SaleCondition_0</th>\n",
       "      <th>SaleCondition_1</th>\n",
       "      <th>SaleCondition_2</th>\n",
       "      <th>SaleCondition_3</th>\n",
       "      <th>SaleCondition_4</th>\n",
       "      <th>SaleCondition_5</th>\n",
       "    </tr>\n",
       "  </thead>\n",
       "  <tbody>\n",
       "    <tr>\n",
       "      <th>0</th>\n",
       "      <td>0</td>\n",
       "      <td>0</td>\n",
       "      <td>0</td>\n",
       "      <td>1</td>\n",
       "      <td>0</td>\n",
       "      <td>0</td>\n",
       "      <td>1</td>\n",
       "      <td>0</td>\n",
       "      <td>0</td>\n",
       "      <td>0</td>\n",
       "      <td>...</td>\n",
       "      <td>0</td>\n",
       "      <td>0</td>\n",
       "      <td>0</td>\n",
       "      <td>1</td>\n",
       "      <td>0</td>\n",
       "      <td>0</td>\n",
       "      <td>0</td>\n",
       "      <td>0</td>\n",
       "      <td>1</td>\n",
       "      <td>0</td>\n",
       "    </tr>\n",
       "    <tr>\n",
       "      <th>1</th>\n",
       "      <td>0</td>\n",
       "      <td>0</td>\n",
       "      <td>0</td>\n",
       "      <td>1</td>\n",
       "      <td>0</td>\n",
       "      <td>0</td>\n",
       "      <td>1</td>\n",
       "      <td>0</td>\n",
       "      <td>0</td>\n",
       "      <td>0</td>\n",
       "      <td>...</td>\n",
       "      <td>0</td>\n",
       "      <td>0</td>\n",
       "      <td>0</td>\n",
       "      <td>1</td>\n",
       "      <td>0</td>\n",
       "      <td>0</td>\n",
       "      <td>0</td>\n",
       "      <td>0</td>\n",
       "      <td>1</td>\n",
       "      <td>0</td>\n",
       "    </tr>\n",
       "    <tr>\n",
       "      <th>2</th>\n",
       "      <td>0</td>\n",
       "      <td>0</td>\n",
       "      <td>0</td>\n",
       "      <td>1</td>\n",
       "      <td>0</td>\n",
       "      <td>0</td>\n",
       "      <td>1</td>\n",
       "      <td>1</td>\n",
       "      <td>0</td>\n",
       "      <td>0</td>\n",
       "      <td>...</td>\n",
       "      <td>0</td>\n",
       "      <td>0</td>\n",
       "      <td>0</td>\n",
       "      <td>1</td>\n",
       "      <td>0</td>\n",
       "      <td>0</td>\n",
       "      <td>0</td>\n",
       "      <td>0</td>\n",
       "      <td>1</td>\n",
       "      <td>0</td>\n",
       "    </tr>\n",
       "    <tr>\n",
       "      <th>3</th>\n",
       "      <td>0</td>\n",
       "      <td>0</td>\n",
       "      <td>0</td>\n",
       "      <td>1</td>\n",
       "      <td>0</td>\n",
       "      <td>0</td>\n",
       "      <td>1</td>\n",
       "      <td>1</td>\n",
       "      <td>0</td>\n",
       "      <td>0</td>\n",
       "      <td>...</td>\n",
       "      <td>0</td>\n",
       "      <td>0</td>\n",
       "      <td>0</td>\n",
       "      <td>1</td>\n",
       "      <td>1</td>\n",
       "      <td>0</td>\n",
       "      <td>0</td>\n",
       "      <td>0</td>\n",
       "      <td>0</td>\n",
       "      <td>0</td>\n",
       "    </tr>\n",
       "    <tr>\n",
       "      <th>4</th>\n",
       "      <td>0</td>\n",
       "      <td>0</td>\n",
       "      <td>0</td>\n",
       "      <td>1</td>\n",
       "      <td>0</td>\n",
       "      <td>0</td>\n",
       "      <td>1</td>\n",
       "      <td>1</td>\n",
       "      <td>0</td>\n",
       "      <td>0</td>\n",
       "      <td>...</td>\n",
       "      <td>0</td>\n",
       "      <td>0</td>\n",
       "      <td>0</td>\n",
       "      <td>1</td>\n",
       "      <td>0</td>\n",
       "      <td>0</td>\n",
       "      <td>0</td>\n",
       "      <td>0</td>\n",
       "      <td>1</td>\n",
       "      <td>0</td>\n",
       "    </tr>\n",
       "  </tbody>\n",
       "</table>\n",
       "<p>5 rows × 41 columns</p>\n",
       "</div>"
      ],
      "text/plain": [
       "   MSZoning_0  MSZoning_1  MSZoning_2  MSZoning_3  MSZoning_4  Street_0  \\\n",
       "0           0           0           0           1           0         0   \n",
       "1           0           0           0           1           0         0   \n",
       "2           0           0           0           1           0         0   \n",
       "3           0           0           0           1           0         0   \n",
       "4           0           0           0           1           0         0   \n",
       "\n",
       "   Street_1  LotShape_0  LotShape_1  LotShape_2  ...  SaleType_5  SaleType_6  \\\n",
       "0         1           0           0           0  ...           0           0   \n",
       "1         1           0           0           0  ...           0           0   \n",
       "2         1           1           0           0  ...           0           0   \n",
       "3         1           1           0           0  ...           0           0   \n",
       "4         1           1           0           0  ...           0           0   \n",
       "\n",
       "   SaleType_7  SaleType_8  SaleCondition_0  SaleCondition_1  SaleCondition_2  \\\n",
       "0           0           1                0                0                0   \n",
       "1           0           1                0                0                0   \n",
       "2           0           1                0                0                0   \n",
       "3           0           1                1                0                0   \n",
       "4           0           1                0                0                0   \n",
       "\n",
       "   SaleCondition_3  SaleCondition_4  SaleCondition_5  \n",
       "0                0                1                0  \n",
       "1                0                1                0  \n",
       "2                0                1                0  \n",
       "3                0                0                0  \n",
       "4                0                1                0  \n",
       "\n",
       "[5 rows x 41 columns]"
      ]
     },
     "execution_count": 15,
     "metadata": {},
     "output_type": "execute_result"
    }
   ],
   "source": [
    "# для части признаков (там, где были категориальные номинальные переменные) делаем dummy\n",
    "features = ['MSZoning','Street','LotShape','LandContour','Utilities','GarageQual','LandSlope','SaleType','SaleCondition']\n",
    "X_dummy = pd.get_dummies(X_regr[features], columns=features)\n",
    "X_dummy.head()"
   ]
  },
  {
   "cell_type": "code",
   "execution_count": 17,
   "metadata": {},
   "outputs": [
    {
     "data": {
      "text/html": [
       "<div>\n",
       "<style scoped>\n",
       "    .dataframe tbody tr th:only-of-type {\n",
       "        vertical-align: middle;\n",
       "    }\n",
       "\n",
       "    .dataframe tbody tr th {\n",
       "        vertical-align: top;\n",
       "    }\n",
       "\n",
       "    .dataframe thead th {\n",
       "        text-align: right;\n",
       "    }\n",
       "</style>\n",
       "<table border=\"1\" class=\"dataframe\">\n",
       "  <thead>\n",
       "    <tr style=\"text-align: right;\">\n",
       "      <th></th>\n",
       "      <th>MSSubClass</th>\n",
       "      <th>LotFrontage</th>\n",
       "      <th>LotArea</th>\n",
       "      <th>LotConfig</th>\n",
       "      <th>Condition1</th>\n",
       "      <th>Condition2</th>\n",
       "      <th>BldgType</th>\n",
       "      <th>HouseStyle</th>\n",
       "      <th>OverallQual</th>\n",
       "      <th>OverallCond</th>\n",
       "      <th>...</th>\n",
       "      <th>SaleType_5</th>\n",
       "      <th>SaleType_6</th>\n",
       "      <th>SaleType_7</th>\n",
       "      <th>SaleType_8</th>\n",
       "      <th>SaleCondition_0</th>\n",
       "      <th>SaleCondition_1</th>\n",
       "      <th>SaleCondition_2</th>\n",
       "      <th>SaleCondition_3</th>\n",
       "      <th>SaleCondition_4</th>\n",
       "      <th>SaleCondition_5</th>\n",
       "    </tr>\n",
       "  </thead>\n",
       "  <tbody>\n",
       "    <tr>\n",
       "      <th>0</th>\n",
       "      <td>60</td>\n",
       "      <td>65.0</td>\n",
       "      <td>8450</td>\n",
       "      <td>4</td>\n",
       "      <td>2</td>\n",
       "      <td>2</td>\n",
       "      <td>0</td>\n",
       "      <td>5</td>\n",
       "      <td>7</td>\n",
       "      <td>5</td>\n",
       "      <td>...</td>\n",
       "      <td>0</td>\n",
       "      <td>0</td>\n",
       "      <td>0</td>\n",
       "      <td>1</td>\n",
       "      <td>0</td>\n",
       "      <td>0</td>\n",
       "      <td>0</td>\n",
       "      <td>0</td>\n",
       "      <td>1</td>\n",
       "      <td>0</td>\n",
       "    </tr>\n",
       "    <tr>\n",
       "      <th>1</th>\n",
       "      <td>20</td>\n",
       "      <td>80.0</td>\n",
       "      <td>9600</td>\n",
       "      <td>2</td>\n",
       "      <td>1</td>\n",
       "      <td>2</td>\n",
       "      <td>0</td>\n",
       "      <td>2</td>\n",
       "      <td>6</td>\n",
       "      <td>8</td>\n",
       "      <td>...</td>\n",
       "      <td>0</td>\n",
       "      <td>0</td>\n",
       "      <td>0</td>\n",
       "      <td>1</td>\n",
       "      <td>0</td>\n",
       "      <td>0</td>\n",
       "      <td>0</td>\n",
       "      <td>0</td>\n",
       "      <td>1</td>\n",
       "      <td>0</td>\n",
       "    </tr>\n",
       "    <tr>\n",
       "      <th>2</th>\n",
       "      <td>60</td>\n",
       "      <td>68.0</td>\n",
       "      <td>11250</td>\n",
       "      <td>4</td>\n",
       "      <td>2</td>\n",
       "      <td>2</td>\n",
       "      <td>0</td>\n",
       "      <td>5</td>\n",
       "      <td>7</td>\n",
       "      <td>5</td>\n",
       "      <td>...</td>\n",
       "      <td>0</td>\n",
       "      <td>0</td>\n",
       "      <td>0</td>\n",
       "      <td>1</td>\n",
       "      <td>0</td>\n",
       "      <td>0</td>\n",
       "      <td>0</td>\n",
       "      <td>0</td>\n",
       "      <td>1</td>\n",
       "      <td>0</td>\n",
       "    </tr>\n",
       "    <tr>\n",
       "      <th>3</th>\n",
       "      <td>70</td>\n",
       "      <td>60.0</td>\n",
       "      <td>9550</td>\n",
       "      <td>0</td>\n",
       "      <td>2</td>\n",
       "      <td>2</td>\n",
       "      <td>0</td>\n",
       "      <td>5</td>\n",
       "      <td>7</td>\n",
       "      <td>5</td>\n",
       "      <td>...</td>\n",
       "      <td>0</td>\n",
       "      <td>0</td>\n",
       "      <td>0</td>\n",
       "      <td>1</td>\n",
       "      <td>1</td>\n",
       "      <td>0</td>\n",
       "      <td>0</td>\n",
       "      <td>0</td>\n",
       "      <td>0</td>\n",
       "      <td>0</td>\n",
       "    </tr>\n",
       "    <tr>\n",
       "      <th>4</th>\n",
       "      <td>60</td>\n",
       "      <td>84.0</td>\n",
       "      <td>14260</td>\n",
       "      <td>2</td>\n",
       "      <td>2</td>\n",
       "      <td>2</td>\n",
       "      <td>0</td>\n",
       "      <td>5</td>\n",
       "      <td>8</td>\n",
       "      <td>5</td>\n",
       "      <td>...</td>\n",
       "      <td>0</td>\n",
       "      <td>0</td>\n",
       "      <td>0</td>\n",
       "      <td>1</td>\n",
       "      <td>0</td>\n",
       "      <td>0</td>\n",
       "      <td>0</td>\n",
       "      <td>0</td>\n",
       "      <td>1</td>\n",
       "      <td>0</td>\n",
       "    </tr>\n",
       "  </tbody>\n",
       "</table>\n",
       "<p>5 rows × 104 columns</p>\n",
       "</div>"
      ],
      "text/plain": [
       "   MSSubClass  LotFrontage  LotArea  LotConfig  Condition1  Condition2  \\\n",
       "0          60         65.0     8450          4           2           2   \n",
       "1          20         80.0     9600          2           1           2   \n",
       "2          60         68.0    11250          4           2           2   \n",
       "3          70         60.0     9550          0           2           2   \n",
       "4          60         84.0    14260          2           2           2   \n",
       "\n",
       "   BldgType  HouseStyle  OverallQual  OverallCond  ...  SaleType_5  \\\n",
       "0         0           5            7            5  ...           0   \n",
       "1         0           2            6            8  ...           0   \n",
       "2         0           5            7            5  ...           0   \n",
       "3         0           5            7            5  ...           0   \n",
       "4         0           5            8            5  ...           0   \n",
       "\n",
       "   SaleType_6  SaleType_7  SaleType_8  SaleCondition_0  SaleCondition_1  \\\n",
       "0           0           0           1                0                0   \n",
       "1           0           0           1                0                0   \n",
       "2           0           0           1                0                0   \n",
       "3           0           0           1                1                0   \n",
       "4           0           0           1                0                0   \n",
       "\n",
       "   SaleCondition_2  SaleCondition_3  SaleCondition_4  SaleCondition_5  \n",
       "0                0                0                1                0  \n",
       "1                0                0                1                0  \n",
       "2                0                0                1                0  \n",
       "3                0                0                0                0  \n",
       "4                0                0                1                0  \n",
       "\n",
       "[5 rows x 104 columns]"
      ]
     },
     "execution_count": 17,
     "metadata": {},
     "output_type": "execute_result"
    }
   ],
   "source": [
    "#Конкатенируем финальный датасет из признаков\n",
    "X_final = pd.concat([X_regr.drop(features, axis =1),\n",
    "                     X_dummy], axis=1)\n",
    "X_final.head()"
   ]
  },
  {
   "cell_type": "code",
   "execution_count": 19,
   "metadata": {},
   "outputs": [],
   "source": [
    "# разбиваем выборку на обучающую и тестовую\n",
    "from sklearn.model_selection import train_test_split\n",
    "X_train, X_test, y_train, y_test = train_test_split(X_final, y, test_size=0.3)"
   ]
  },
  {
   "cell_type": "markdown",
   "metadata": {},
   "source": [
    "### Random forest"
   ]
  },
  {
   "cell_type": "code",
   "execution_count": 20,
   "metadata": {},
   "outputs": [
    {
     "data": {
      "text/plain": [
       "RandomForestRegressor(max_depth=5, max_features=0.5, min_samples_leaf=5,\n",
       "                      n_estimators=10, n_jobs=-1)"
      ]
     },
     "execution_count": 20,
     "metadata": {},
     "output_type": "execute_result"
    }
   ],
   "source": [
    "from sklearn.ensemble import RandomForestRegressor\n",
    "\n",
    "clf_rf = RandomForestRegressor(n_estimators=10, max_depth=5, min_samples_leaf=5, max_features=0.5, n_jobs=-1)\n",
    "clf_rf.fit(X_train, y_train)"
   ]
  },
  {
   "cell_type": "code",
   "execution_count": 21,
   "metadata": {},
   "outputs": [
    {
     "name": "stdout",
     "output_type": "stream",
     "text": [
      "R2 train: 0.8788269095708333\n",
      "R2 test: 0.8439780523427641\n"
     ]
    }
   ],
   "source": [
    "y_pred_test = clf_rf.predict(X_test)\n",
    "y_pred_train = clf_rf.predict(X_train)\n",
    "r2_train = r2_score(y_train,y_pred_train)\n",
    "r2_test = r2_score(y_test,y_pred_test)\n",
    "print('R2 train:', r2_train)\n",
    "print('R2 test:', r2_test)"
   ]
  },
  {
   "cell_type": "markdown",
   "metadata": {},
   "source": [
    "### Feature importances"
   ]
  },
  {
   "cell_type": "code",
   "execution_count": 22,
   "metadata": {},
   "outputs": [],
   "source": [
    "# попробуем оценить важность признаков с помощью RF\n",
    "imp = pd.Series(clf_rf.feature_importances_)\n",
    "imp_values = imp.sort_values(ascending=False)"
   ]
  },
  {
   "cell_type": "code",
   "execution_count": 23,
   "metadata": {},
   "outputs": [],
   "source": [
    "# Попробуем подобрать оптимальные параметры модели при помощи GridSearchCV\n",
    "from sklearn.model_selection import GridSearchCV"
   ]
  },
  {
   "cell_type": "code",
   "execution_count": 24,
   "metadata": {},
   "outputs": [],
   "source": [
    "#Зададим параметры модели\n",
    "param_grid =  {'n_estimators': [10,20,30,40],\n",
    "               'max_features': ['sqrt'],\n",
    "               'max_depth': [None,1,5,10,20],\n",
    "               'min_samples_split': [2,4,6],\n",
    "               'min_samples_leaf': [1,3,5]}\n",
    "rf = RandomForestRegressor()\n",
    "grid_search = GridSearchCV(estimator = rf, param_grid = param_grid, \n",
    "                          cv = 5, n_jobs = -1)"
   ]
  },
  {
   "cell_type": "code",
   "execution_count": 25,
   "metadata": {},
   "outputs": [
    {
     "data": {
      "text/plain": [
       "{'max_depth': 20,\n",
       " 'max_features': 'sqrt',\n",
       " 'min_samples_leaf': 1,\n",
       " 'min_samples_split': 4,\n",
       " 'n_estimators': 40}"
      ]
     },
     "execution_count": 25,
     "metadata": {},
     "output_type": "execute_result"
    }
   ],
   "source": [
    "#Посмотрим какие параметры наилучшие\n",
    "grid_search.fit(X_train, y_train)\n",
    "grid_search.best_params_"
   ]
  },
  {
   "cell_type": "code",
   "execution_count": 26,
   "metadata": {},
   "outputs": [
    {
     "name": "stdout",
     "output_type": "stream",
     "text": [
      "R2 train: 0.9661735833396299\n",
      "R2 test: 0.8656378043262131\n"
     ]
    }
   ],
   "source": [
    "# Посмотрим, как изменился R2 \n",
    "best_grid = grid_search.best_estimator_\n",
    "best_grid.fit(X_train,y_train)\n",
    "\n",
    "y_pred_train_best = best_grid.predict(X_train)\n",
    "y_pred_test_best = best_grid.predict(X_test)\n",
    "\n",
    "r2_train_best = r2_score(y_train,y_pred_train_best)\n",
    "r2_test_best = r2_score(y_test,y_pred_test_best)\n",
    "print('R2 train:', r2_train_best)\n",
    "print('R2 test:', r2_test_best)"
   ]
  },
  {
   "cell_type": "code",
   "execution_count": 18,
   "metadata": {},
   "outputs": [],
   "source": [
    "# Random forest                R2 train: 0.8788269095708333   R2 test: 0.8439780523427641\n",
    "# Random forest best_grid      R2 train: 0.9661735833396299   R2 test: 0.8656378043262131"
   ]
  },
  {
   "cell_type": "code",
   "execution_count": 27,
   "metadata": {},
   "outputs": [],
   "source": [
    "not_important = imp_values[lambda x: x == 0.000000] #получаем перечень строк с нулевой \"важностью\" признака\n",
    "not_important_index = not_important.index.tolist() #получим индексы неважных признаков"
   ]
  },
  {
   "cell_type": "code",
   "execution_count": 28,
   "metadata": {},
   "outputs": [
    {
     "name": "stderr",
     "output_type": "stream",
     "text": [
      "C:\\Users\\Vera_Romantsova\\anaconda3\\lib\\site-packages\\pandas\\core\\indexes\\base.py:4111: FutureWarning: Using a non-tuple sequence for multidimensional indexing is deprecated; use `arr[tuple(seq)]` instead of `arr[seq]`. In the future this will be interpreted as an array index, `arr[np.array(seq)]`, which will result either in an error or a different result.\n",
      "  result = getitem(key)\n"
     ]
    }
   ],
   "source": [
    "# Оставляем в X_train и X_test только \"важные\" признаки\n",
    "X_train_imp = X_train.drop(X_train.columns[[not_important_index]], axis=1)"
   ]
  },
  {
   "cell_type": "code",
   "execution_count": 29,
   "metadata": {},
   "outputs": [],
   "source": [
    "X_test_imp = X_test.drop(X_test.columns[[not_important_index]], axis=1)"
   ]
  },
  {
   "cell_type": "code",
   "execution_count": 30,
   "metadata": {},
   "outputs": [
    {
     "data": {
      "text/plain": [
       "{'max_depth': 20,\n",
       " 'max_features': 'sqrt',\n",
       " 'min_samples_leaf': 1,\n",
       " 'min_samples_split': 2,\n",
       " 'n_estimators': 30}"
      ]
     },
     "execution_count": 30,
     "metadata": {},
     "output_type": "execute_result"
    }
   ],
   "source": [
    "# пробуем подобрать наилучшие параметры модели для выборки X_train_imp \n",
    "grid_search_imp = GridSearchCV(estimator = rf, param_grid = param_grid, \n",
    "                          cv = 5, n_jobs = -1)\n",
    "grid_search_imp.fit(X_train_imp, y_train)\n",
    "grid_search_imp.best_params_"
   ]
  },
  {
   "cell_type": "code",
   "execution_count": 31,
   "metadata": {},
   "outputs": [
    {
     "name": "stdout",
     "output_type": "stream",
     "text": [
      "R2 train: 0.9778960573527306\n",
      "R2 test: 0.8896946820303955\n"
     ]
    }
   ],
   "source": [
    "# Посмотрим, как изменился R2  \n",
    "grid_best_imp = grid_search_imp.best_estimator_\n",
    "grid_best_imp.fit(X_train_imp,y_train)\n",
    "\n",
    "y_pred_train_best = grid_best_imp.predict(X_train_imp)\n",
    "y_pred_test_best = grid_best_imp.predict(X_test_imp)\n",
    "\n",
    "r2_train_best_imp = r2_score(y_train,y_pred_train_best)\n",
    "r2_test_best_imp = r2_score(y_test,y_pred_test_best)\n",
    "print('R2 train:', r2_train_best_imp)\n",
    "print('R2 test:', r2_test_best_imp)"
   ]
  },
  {
   "cell_type": "code",
   "execution_count": 38,
   "metadata": {},
   "outputs": [],
   "source": [
    "# Random forest                                   R2 train: 0.8788269095708333   R2 test: 0.8439780523427641\n",
    "# Random forest best_grid                         R2 train: 0.9661735833396299   R2 test: 0.8656378043262131\n",
    "# Random forest best_grid_important_features      R2 train: 0.9778960573527306   R2 test: 0.8896946820303955"
   ]
  },
  {
   "cell_type": "markdown",
   "metadata": {},
   "source": [
    "### Stacking"
   ]
  },
  {
   "cell_type": "code",
   "execution_count": 39,
   "metadata": {},
   "outputs": [],
   "source": [
    "from sklearn.ensemble import StackingRegressor"
   ]
  },
  {
   "cell_type": "code",
   "execution_count": 40,
   "metadata": {},
   "outputs": [],
   "source": [
    "from sklearn.ensemble import GradientBoostingRegressor\n",
    "from sklearn.linear_model import LinearRegression"
   ]
  },
  {
   "cell_type": "code",
   "execution_count": 41,
   "metadata": {},
   "outputs": [],
   "source": [
    "# используем бустинг\n",
    "\n",
    "gbm_param = dict(\n",
    "    loss=['ls', 'huber'],\n",
    "    n_estimators=[10,20,30,40],\n",
    "    min_samples_split=[2,4,6],\n",
    "    max_depth=[None,1,5,10,20],\n",
    "    )\n",
    "\n",
    "gbm = GradientBoostingRegressor()\n",
    "grid_search_gbr = GridSearchCV(estimator = gbm, param_grid = gbm_param, \n",
    "                          cv = 5, n_jobs = -1)"
   ]
  },
  {
   "cell_type": "code",
   "execution_count": 44,
   "metadata": {},
   "outputs": [
    {
     "data": {
      "text/plain": [
       "{'loss': 'ls', 'max_depth': 5, 'min_samples_split': 6, 'n_estimators': 40}"
      ]
     },
     "execution_count": 44,
     "metadata": {},
     "output_type": "execute_result"
    }
   ],
   "source": [
    "#Посмотрим какие параметры наилучшие\n",
    "grid_search_gbr.fit(X_train_imp, y_train)\n",
    "grid_search_gbr.best_params_"
   ]
  },
  {
   "cell_type": "code",
   "execution_count": 45,
   "metadata": {},
   "outputs": [
    {
     "name": "stdout",
     "output_type": "stream",
     "text": [
      "R2 train: 0.9815488230214495\n",
      "R2 test: 0.8954017643656994\n"
     ]
    }
   ],
   "source": [
    "# Посмотрим, как изменился R2 \n",
    "grid_best_gbr = grid_search_gbr.best_estimator_\n",
    "grid_best_gbr.fit(X_train_imp,y_train)\n",
    "\n",
    "y_pred_train_gbr = grid_best_gbr.predict(X_train_imp)\n",
    "y_pred_test_gbr = grid_best_gbr.predict(X_test_imp)\n",
    "\n",
    "r2_train_best_gbr = r2_score(y_train,y_pred_train_gbr)\n",
    "r2_test_best_gbr = r2_score(y_test,y_pred_test_gbr)\n",
    "print('R2 train:', r2_train_best_gbr)\n",
    "print('R2 test:', r2_test_best_gbr)"
   ]
  },
  {
   "cell_type": "code",
   "execution_count": null,
   "metadata": {},
   "outputs": [],
   "source": [
    "# Random forest                                   R2 train: 0.8788269095708333   R2 test: 0.8439780523427641\n",
    "# Random forest best_grid                         R2 train: 0.9661735833396299   R2 test: 0.8656378043262131\n",
    "# Random forest best_grid_important_features      R2 train: 0.9778960573527306   R2 test: 0.8896946820303955\n",
    "# GradientBoostingRegressor                       R2 train: 0.9815488230214495   R2 test: 0.8954017643656994"
   ]
  },
  {
   "cell_type": "code",
   "execution_count": 50,
   "metadata": {},
   "outputs": [],
   "source": [
    "# lr = LinearRegression().fit(X_train, y_train)\n",
    "# обычную линейную регрессию не сильно имеет смысл использовать, так как признаков очень много, поэтому нужно использовать регуляризацию\n",
    "# будем использовать lasso, подразумевая, что часть признаков не оказывает никакого влияния (в оценке важности признаков у многих было значение = 0)\n",
    "from sklearn.linear_model import Lasso\n",
    "lasso = Lasso(alpha=1, tol = 0.1).fit(X_train, y_train)\n",
    "# найдем оптимальное значение альфа\n",
    "alpha = [0.001, 0.01, 0.1, 1, 10, 100, 1000]\n",
    "param_grid_lasso = dict(alpha=alpha)\n",
    "grid_search_lasso = GridSearchCV(estimator=lasso, param_grid=param_grid_lasso, scoring='r2')"
   ]
  },
  {
   "cell_type": "code",
   "execution_count": 51,
   "metadata": {},
   "outputs": [
    {
     "data": {
      "text/plain": [
       "{'alpha': 1000}"
      ]
     },
     "execution_count": 51,
     "metadata": {},
     "output_type": "execute_result"
    }
   ],
   "source": [
    "#Посмотрим какие параметры наилучшие\n",
    "grid_search_lasso = grid_search_lasso.fit(X_train, y_train)\n",
    "grid_search_lasso.best_params_"
   ]
  },
  {
   "cell_type": "code",
   "execution_count": 53,
   "metadata": {},
   "outputs": [
    {
     "name": "stdout",
     "output_type": "stream",
     "text": [
      "R2 train: 0.8205919349127084\n",
      "R2 test: 0.8644424436001967\n"
     ]
    }
   ],
   "source": [
    "# Посмотрим, как изменилась \n",
    "grid_best_lasso = grid_search_lasso.best_estimator_\n",
    "grid_best_lasso.fit(X_train,y_train)\n",
    "\n",
    "y_pred_train_lasso = grid_best_lasso.predict(X_train)\n",
    "y_pred_test_lasso = grid_best_lasso.predict(X_test)\n",
    "\n",
    "r2_train_best_lasso = r2_score(y_train,y_pred_train_lasso)\n",
    "r2_test_best_lasso = r2_score(y_test,y_pred_test_lasso)\n",
    "print('R2 train:', r2_train_best_lasso)\n",
    "print('R2 test:', r2_test_best_lasso)"
   ]
  },
  {
   "cell_type": "code",
   "execution_count": 47,
   "metadata": {},
   "outputs": [],
   "source": [
    "# Random forest                                   R2 train: 0.903454728926318   R2 test: 0.7738721323708634\n",
    "# Random forest best_grid                         R2 train: 0.9714017104467664  R2 test: 0.7852231076019124\n",
    "# Random forest best_grid_important_features      R2 train: 0.9752132603494557  R2 test: 0.790681903635027\n",
    "# GradientBoostingRegressor                       R2 train: 0.9686615565149148  R2 test: 0.7912144104310378\n",
    "# Lasso (L1-regularization)                       R2 train: 0.8205919349127084  R2 test: 0.8644424436001967"
   ]
  },
  {
   "cell_type": "code",
   "execution_count": 54,
   "metadata": {},
   "outputs": [],
   "source": [
    "estimators = [\n",
    "    ('grid_search_imp',grid_search_imp.best_estimator_),\n",
    "    ('grid_search_gbr',grid_search_gbr.best_estimator_),\n",
    "    ('grid_search_lasso',grid_search_lasso.best_estimator_),\n",
    "]\n",
    "\n",
    "stacking_model = StackingRegressor(\n",
    "    estimators=estimators)"
   ]
  },
  {
   "cell_type": "code",
   "execution_count": 58,
   "metadata": {},
   "outputs": [
    {
     "data": {
      "text/plain": [
       "Lasso(alpha=1000, tol=0.1)"
      ]
     },
     "execution_count": 58,
     "metadata": {},
     "output_type": "execute_result"
    }
   ],
   "source": [
    "stacking_model.named_estimators['grid_search_imp'].fit(X_train_imp,y_train)\n",
    "stacking_model.named_estimators['grid_search_gbr'].fit(X_train_imp,y_train)\n",
    "stacking_model.named_estimators['grid_search_lasso'].fit(X_train,y_train)"
   ]
  },
  {
   "cell_type": "code",
   "execution_count": 59,
   "metadata": {},
   "outputs": [
    {
     "data": {
      "text/plain": [
       "RandomForestRegressor(max_depth=20, max_features='sqrt', n_estimators=30)"
      ]
     },
     "execution_count": 59,
     "metadata": {},
     "output_type": "execute_result"
    }
   ],
   "source": [
    "stacking_model.named_estimators['grid_search_imp']"
   ]
  },
  {
   "cell_type": "code",
   "execution_count": 60,
   "metadata": {},
   "outputs": [
    {
     "data": {
      "text/plain": [
       "StackingRegressor(estimators=[('grid_search_imp',\n",
       "                               RandomForestRegressor(max_depth=20,\n",
       "                                                     max_features='sqrt',\n",
       "                                                     n_estimators=30)),\n",
       "                              ('grid_search_gbr',\n",
       "                               GradientBoostingRegressor(max_depth=5,\n",
       "                                                         min_samples_split=6,\n",
       "                                                         n_estimators=40)),\n",
       "                              ('grid_search_lasso',\n",
       "                               Lasso(alpha=1000, tol=0.1))])"
      ]
     },
     "execution_count": 60,
     "metadata": {},
     "output_type": "execute_result"
    }
   ],
   "source": [
    "stacking_model.fit(X_train, y_train)"
   ]
  },
  {
   "cell_type": "code",
   "execution_count": 61,
   "metadata": {},
   "outputs": [],
   "source": [
    "y_pred_proba_imp_train = stacking_model.named_estimators['grid_search_imp'].predict(X_train_imp)\n",
    "y_pred_proba_imp_test = stacking_model.named_estimators['grid_search_imp'].predict(X_test_imp)\n",
    "y_pred_proba_gbr_train = stacking_model.named_estimators['grid_search_gbr'].predict(X_train_imp)\n",
    "y_pred_proba_gbr_test = stacking_model.named_estimators['grid_search_gbr'].predict(X_test_imp)\n",
    "y_pred_proba_lasso_train = stacking_model.named_estimators['grid_search_lasso'].predict(X_train)\n",
    "y_pred_proba_lasso_test = stacking_model.named_estimators['grid_search_lasso'].predict(X_test)\n",
    "y_pred_ensemble_train = stacking_model.predict(X_train)\n",
    "y_pred_ensemble_test = stacking_model.predict(X_test)"
   ]
  },
  {
   "cell_type": "code",
   "execution_count": 62,
   "metadata": {},
   "outputs": [
    {
     "name": "stdout",
     "output_type": "stream",
     "text": [
      "R2 train random forest important features: 0.9753236971910305\n",
      "R2 test random forest important features: 0.8686467270999052\n",
      "R2 train gradient boosting regression: 0.9815488230214495\n",
      "R2 test gradient boosting regression: 0.8941392685054602\n",
      "R2 train lasso: 0.8205919349127084\n",
      "R2 test lasso: 0.8644424436001967\n",
      "R2 train ensemble: 0.9872209481329922\n",
      "R2 test ensemble: 0.8875848197721444\n"
     ]
    }
   ],
   "source": [
    "r2_train_rf_imp = r2_score(y_train,y_pred_proba_imp_train)\n",
    "r2_test_rf_imp = r2_score(y_test,y_pred_proba_imp_test)\n",
    "r2_train_gbr = r2_score(y_train,y_pred_proba_gbr_train)\n",
    "r2_test_gbr = r2_score(y_test,y_pred_proba_gbr_test)\n",
    "r2_train_lasso = r2_score(y_train,y_pred_proba_lasso_train)\n",
    "r2_test_lasso = r2_score(y_test,y_pred_proba_lasso_test)\n",
    "r2_train_ensemble = r2_score(y_train,y_pred_ensemble_train)\n",
    "r2_test_ensemble = r2_score(y_test,y_pred_ensemble_test)\n",
    "print('R2 train random forest important features:', r2_train_rf_imp)\n",
    "print('R2 test random forest important features:', r2_test_rf_imp)\n",
    "print('R2 train gradient boosting regression:', r2_train_gbr)\n",
    "print('R2 test gradient boosting regression:', r2_test_gbr)\n",
    "print('R2 train lasso:', r2_train_lasso)\n",
    "print('R2 test lasso:', r2_test_lasso)\n",
    "print('R2 train ensemble:', r2_train_ensemble)\n",
    "print('R2 test ensemble:', r2_test_ensemble)"
   ]
  }
 ],
 "metadata": {
  "kernelspec": {
   "display_name": "Python 3",
   "language": "python",
   "name": "python3"
  },
  "language_info": {
   "codemirror_mode": {
    "name": "ipython",
    "version": 3
   },
   "file_extension": ".py",
   "mimetype": "text/x-python",
   "name": "python",
   "nbconvert_exporter": "python",
   "pygments_lexer": "ipython3",
   "version": "3.8.3"
  }
 },
 "nbformat": 4,
 "nbformat_minor": 4
}
