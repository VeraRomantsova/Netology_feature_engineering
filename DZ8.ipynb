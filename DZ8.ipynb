{
 "cells": [
  {
   "cell_type": "markdown",
   "metadata": {},
   "source": [
    "### Домашняя работа\n",
    "Теперь решаем задачу регрессии - предскажем цены на недвижимость.\n",
    "\n",
    "Использовать датасет https://www.kaggle.com/c/house-prices-advanced-regression-techniques/data (train.csv)\n",
    "\n",
    "Данных немного, поэтому необходимо использовать 10-fold кросс-валидацию для оценки качества моделей\n",
    "\n",
    "Построить случайный лес, вывести важность признаков\n",
    "\n",
    "Обучить стекинг как минимум 3х моделей, использовать хотя бы 1 линейную модель и 1 нелинейную\n",
    "\n",
    "Для валидации модели 2-го уровня использовать отдельный hold-out датасет, как на занятии\n",
    "\n",
    "Показать, что использование ансамблей моделей действительно улучшает качество (стекинг vs другие модели сравнивать на hold-out)\n",
    "\n",
    "В качестве решения: Jupyter notebook с кодом, комментариями и графиками"
   ]
  },
  {
   "cell_type": "code",
   "execution_count": 1,
   "metadata": {},
   "outputs": [],
   "source": [
    "import pandas as pd\n",
    "import matplotlib.pyplot as plt\n",
    "import numpy as np\n",
    "from sklearn.metrics import r2_score"
   ]
  },
  {
   "cell_type": "code",
   "execution_count": 2,
   "metadata": {},
   "outputs": [],
   "source": [
    "data = pd.read_csv('train_house.csv')"
   ]
  },
  {
   "cell_type": "code",
   "execution_count": 3,
   "metadata": {},
   "outputs": [
    {
     "data": {
      "text/html": [
       "<div>\n",
       "<style scoped>\n",
       "    .dataframe tbody tr th:only-of-type {\n",
       "        vertical-align: middle;\n",
       "    }\n",
       "\n",
       "    .dataframe tbody tr th {\n",
       "        vertical-align: top;\n",
       "    }\n",
       "\n",
       "    .dataframe thead th {\n",
       "        text-align: right;\n",
       "    }\n",
       "</style>\n",
       "<table border=\"1\" class=\"dataframe\">\n",
       "  <thead>\n",
       "    <tr style=\"text-align: right;\">\n",
       "      <th></th>\n",
       "      <th>Id</th>\n",
       "      <th>MSSubClass</th>\n",
       "      <th>MSZoning</th>\n",
       "      <th>LotFrontage</th>\n",
       "      <th>LotArea</th>\n",
       "      <th>Street</th>\n",
       "      <th>Alley</th>\n",
       "      <th>LotShape</th>\n",
       "      <th>LandContour</th>\n",
       "      <th>Utilities</th>\n",
       "      <th>...</th>\n",
       "      <th>PoolArea</th>\n",
       "      <th>PoolQC</th>\n",
       "      <th>Fence</th>\n",
       "      <th>MiscFeature</th>\n",
       "      <th>MiscVal</th>\n",
       "      <th>MoSold</th>\n",
       "      <th>YrSold</th>\n",
       "      <th>SaleType</th>\n",
       "      <th>SaleCondition</th>\n",
       "      <th>SalePrice</th>\n",
       "    </tr>\n",
       "  </thead>\n",
       "  <tbody>\n",
       "    <tr>\n",
       "      <th>0</th>\n",
       "      <td>1</td>\n",
       "      <td>60</td>\n",
       "      <td>RL</td>\n",
       "      <td>65.0</td>\n",
       "      <td>8450</td>\n",
       "      <td>Pave</td>\n",
       "      <td>NaN</td>\n",
       "      <td>Reg</td>\n",
       "      <td>Lvl</td>\n",
       "      <td>AllPub</td>\n",
       "      <td>...</td>\n",
       "      <td>0</td>\n",
       "      <td>NaN</td>\n",
       "      <td>NaN</td>\n",
       "      <td>NaN</td>\n",
       "      <td>0</td>\n",
       "      <td>2</td>\n",
       "      <td>2008</td>\n",
       "      <td>WD</td>\n",
       "      <td>Normal</td>\n",
       "      <td>208500</td>\n",
       "    </tr>\n",
       "    <tr>\n",
       "      <th>1</th>\n",
       "      <td>2</td>\n",
       "      <td>20</td>\n",
       "      <td>RL</td>\n",
       "      <td>80.0</td>\n",
       "      <td>9600</td>\n",
       "      <td>Pave</td>\n",
       "      <td>NaN</td>\n",
       "      <td>Reg</td>\n",
       "      <td>Lvl</td>\n",
       "      <td>AllPub</td>\n",
       "      <td>...</td>\n",
       "      <td>0</td>\n",
       "      <td>NaN</td>\n",
       "      <td>NaN</td>\n",
       "      <td>NaN</td>\n",
       "      <td>0</td>\n",
       "      <td>5</td>\n",
       "      <td>2007</td>\n",
       "      <td>WD</td>\n",
       "      <td>Normal</td>\n",
       "      <td>181500</td>\n",
       "    </tr>\n",
       "    <tr>\n",
       "      <th>2</th>\n",
       "      <td>3</td>\n",
       "      <td>60</td>\n",
       "      <td>RL</td>\n",
       "      <td>68.0</td>\n",
       "      <td>11250</td>\n",
       "      <td>Pave</td>\n",
       "      <td>NaN</td>\n",
       "      <td>IR1</td>\n",
       "      <td>Lvl</td>\n",
       "      <td>AllPub</td>\n",
       "      <td>...</td>\n",
       "      <td>0</td>\n",
       "      <td>NaN</td>\n",
       "      <td>NaN</td>\n",
       "      <td>NaN</td>\n",
       "      <td>0</td>\n",
       "      <td>9</td>\n",
       "      <td>2008</td>\n",
       "      <td>WD</td>\n",
       "      <td>Normal</td>\n",
       "      <td>223500</td>\n",
       "    </tr>\n",
       "    <tr>\n",
       "      <th>3</th>\n",
       "      <td>4</td>\n",
       "      <td>70</td>\n",
       "      <td>RL</td>\n",
       "      <td>60.0</td>\n",
       "      <td>9550</td>\n",
       "      <td>Pave</td>\n",
       "      <td>NaN</td>\n",
       "      <td>IR1</td>\n",
       "      <td>Lvl</td>\n",
       "      <td>AllPub</td>\n",
       "      <td>...</td>\n",
       "      <td>0</td>\n",
       "      <td>NaN</td>\n",
       "      <td>NaN</td>\n",
       "      <td>NaN</td>\n",
       "      <td>0</td>\n",
       "      <td>2</td>\n",
       "      <td>2006</td>\n",
       "      <td>WD</td>\n",
       "      <td>Abnorml</td>\n",
       "      <td>140000</td>\n",
       "    </tr>\n",
       "    <tr>\n",
       "      <th>4</th>\n",
       "      <td>5</td>\n",
       "      <td>60</td>\n",
       "      <td>RL</td>\n",
       "      <td>84.0</td>\n",
       "      <td>14260</td>\n",
       "      <td>Pave</td>\n",
       "      <td>NaN</td>\n",
       "      <td>IR1</td>\n",
       "      <td>Lvl</td>\n",
       "      <td>AllPub</td>\n",
       "      <td>...</td>\n",
       "      <td>0</td>\n",
       "      <td>NaN</td>\n",
       "      <td>NaN</td>\n",
       "      <td>NaN</td>\n",
       "      <td>0</td>\n",
       "      <td>12</td>\n",
       "      <td>2008</td>\n",
       "      <td>WD</td>\n",
       "      <td>Normal</td>\n",
       "      <td>250000</td>\n",
       "    </tr>\n",
       "  </tbody>\n",
       "</table>\n",
       "<p>5 rows × 81 columns</p>\n",
       "</div>"
      ],
      "text/plain": [
       "   Id  MSSubClass MSZoning  LotFrontage  LotArea Street Alley LotShape  \\\n",
       "0   1          60       RL         65.0     8450   Pave   NaN      Reg   \n",
       "1   2          20       RL         80.0     9600   Pave   NaN      Reg   \n",
       "2   3          60       RL         68.0    11250   Pave   NaN      IR1   \n",
       "3   4          70       RL         60.0     9550   Pave   NaN      IR1   \n",
       "4   5          60       RL         84.0    14260   Pave   NaN      IR1   \n",
       "\n",
       "  LandContour Utilities  ... PoolArea PoolQC Fence MiscFeature MiscVal MoSold  \\\n",
       "0         Lvl    AllPub  ...        0    NaN   NaN         NaN       0      2   \n",
       "1         Lvl    AllPub  ...        0    NaN   NaN         NaN       0      5   \n",
       "2         Lvl    AllPub  ...        0    NaN   NaN         NaN       0      9   \n",
       "3         Lvl    AllPub  ...        0    NaN   NaN         NaN       0      2   \n",
       "4         Lvl    AllPub  ...        0    NaN   NaN         NaN       0     12   \n",
       "\n",
       "  YrSold  SaleType  SaleCondition  SalePrice  \n",
       "0   2008        WD         Normal     208500  \n",
       "1   2007        WD         Normal     181500  \n",
       "2   2008        WD         Normal     223500  \n",
       "3   2006        WD        Abnorml     140000  \n",
       "4   2008        WD         Normal     250000  \n",
       "\n",
       "[5 rows x 81 columns]"
      ]
     },
     "execution_count": 3,
     "metadata": {},
     "output_type": "execute_result"
    }
   ],
   "source": [
    "data.head()"
   ]
  },
  {
   "cell_type": "code",
   "execution_count": 4,
   "metadata": {
    "scrolled": true
   },
   "outputs": [
    {
     "name": "stdout",
     "output_type": "stream",
     "text": [
      "<class 'pandas.core.frame.DataFrame'>\n",
      "RangeIndex: 1460 entries, 0 to 1459\n",
      "Data columns (total 81 columns):\n",
      " #   Column         Non-Null Count  Dtype  \n",
      "---  ------         --------------  -----  \n",
      " 0   Id             1460 non-null   int64  \n",
      " 1   MSSubClass     1460 non-null   int64  \n",
      " 2   MSZoning       1460 non-null   object \n",
      " 3   LotFrontage    1201 non-null   float64\n",
      " 4   LotArea        1460 non-null   int64  \n",
      " 5   Street         1460 non-null   object \n",
      " 6   Alley          91 non-null     object \n",
      " 7   LotShape       1460 non-null   object \n",
      " 8   LandContour    1460 non-null   object \n",
      " 9   Utilities      1460 non-null   object \n",
      " 10  LotConfig      1460 non-null   object \n",
      " 11  LandSlope      1460 non-null   object \n",
      " 12  Neighborhood   1460 non-null   object \n",
      " 13  Condition1     1460 non-null   object \n",
      " 14  Condition2     1460 non-null   object \n",
      " 15  BldgType       1460 non-null   object \n",
      " 16  HouseStyle     1460 non-null   object \n",
      " 17  OverallQual    1460 non-null   int64  \n",
      " 18  OverallCond    1460 non-null   int64  \n",
      " 19  YearBuilt      1460 non-null   int64  \n",
      " 20  YearRemodAdd   1460 non-null   int64  \n",
      " 21  RoofStyle      1460 non-null   object \n",
      " 22  RoofMatl       1460 non-null   object \n",
      " 23  Exterior1st    1460 non-null   object \n",
      " 24  Exterior2nd    1460 non-null   object \n",
      " 25  MasVnrType     1452 non-null   object \n",
      " 26  MasVnrArea     1452 non-null   float64\n",
      " 27  ExterQual      1460 non-null   object \n",
      " 28  ExterCond      1460 non-null   object \n",
      " 29  Foundation     1460 non-null   object \n",
      " 30  BsmtQual       1423 non-null   object \n",
      " 31  BsmtCond       1423 non-null   object \n",
      " 32  BsmtExposure   1422 non-null   object \n",
      " 33  BsmtFinType1   1423 non-null   object \n",
      " 34  BsmtFinSF1     1460 non-null   int64  \n",
      " 35  BsmtFinType2   1422 non-null   object \n",
      " 36  BsmtFinSF2     1460 non-null   int64  \n",
      " 37  BsmtUnfSF      1460 non-null   int64  \n",
      " 38  TotalBsmtSF    1460 non-null   int64  \n",
      " 39  Heating        1460 non-null   object \n",
      " 40  HeatingQC      1460 non-null   object \n",
      " 41  CentralAir     1460 non-null   object \n",
      " 42  Electrical     1459 non-null   object \n",
      " 43  1stFlrSF       1460 non-null   int64  \n",
      " 44  2ndFlrSF       1460 non-null   int64  \n",
      " 45  LowQualFinSF   1460 non-null   int64  \n",
      " 46  GrLivArea      1460 non-null   int64  \n",
      " 47  BsmtFullBath   1460 non-null   int64  \n",
      " 48  BsmtHalfBath   1460 non-null   int64  \n",
      " 49  FullBath       1460 non-null   int64  \n",
      " 50  HalfBath       1460 non-null   int64  \n",
      " 51  BedroomAbvGr   1460 non-null   int64  \n",
      " 52  KitchenAbvGr   1460 non-null   int64  \n",
      " 53  KitchenQual    1460 non-null   object \n",
      " 54  TotRmsAbvGrd   1460 non-null   int64  \n",
      " 55  Functional     1460 non-null   object \n",
      " 56  Fireplaces     1460 non-null   int64  \n",
      " 57  FireplaceQu    770 non-null    object \n",
      " 58  GarageType     1379 non-null   object \n",
      " 59  GarageYrBlt    1379 non-null   float64\n",
      " 60  GarageFinish   1379 non-null   object \n",
      " 61  GarageCars     1460 non-null   int64  \n",
      " 62  GarageArea     1460 non-null   int64  \n",
      " 63  GarageQual     1379 non-null   object \n",
      " 64  GarageCond     1379 non-null   object \n",
      " 65  PavedDrive     1460 non-null   object \n",
      " 66  WoodDeckSF     1460 non-null   int64  \n",
      " 67  OpenPorchSF    1460 non-null   int64  \n",
      " 68  EnclosedPorch  1460 non-null   int64  \n",
      " 69  3SsnPorch      1460 non-null   int64  \n",
      " 70  ScreenPorch    1460 non-null   int64  \n",
      " 71  PoolArea       1460 non-null   int64  \n",
      " 72  PoolQC         7 non-null      object \n",
      " 73  Fence          281 non-null    object \n",
      " 74  MiscFeature    54 non-null     object \n",
      " 75  MiscVal        1460 non-null   int64  \n",
      " 76  MoSold         1460 non-null   int64  \n",
      " 77  YrSold         1460 non-null   int64  \n",
      " 78  SaleType       1460 non-null   object \n",
      " 79  SaleCondition  1460 non-null   object \n",
      " 80  SalePrice      1460 non-null   int64  \n",
      "dtypes: float64(3), int64(35), object(43)\n",
      "memory usage: 924.0+ KB\n"
     ]
    }
   ],
   "source": [
    "data.info()"
   ]
  },
  {
   "cell_type": "code",
   "execution_count": 5,
   "metadata": {},
   "outputs": [],
   "source": [
    "y = data['SalePrice']\n",
    "X = data.drop(['SalePrice','Id'], axis =1) #также удалим айдишники, не несут смысловой нагрузки в датасете и целевую переменную\n",
    "X = X.drop(['Alley','PoolQC','Fence','MiscFeature'],axis=1) #удалим те признаки, значений которых мало в датасете"
   ]
  },
  {
   "cell_type": "markdown",
   "metadata": {},
   "source": [
    "### Работа с пропусками"
   ]
  },
  {
   "cell_type": "code",
   "execution_count": 6,
   "metadata": {},
   "outputs": [],
   "source": [
    "#Заменим пропуски в части категориальных признаков\n",
    "X_regr = X\n",
    "X_regr['MasVnrType'].fillna('None', inplace=True)\n",
    "X_regr['BsmtQual'].fillna('NB', inplace=True)\n",
    "X_regr['BsmtCond'].fillna('NB', inplace=True) \n",
    "X_regr['BsmtExposure'].fillna('NB', inplace=True) \n",
    "X_regr['BsmtFinType1'].fillna('NB', inplace=True)\n",
    "X_regr['BsmtFinType2'].fillna('NB', inplace=True)\n",
    "X_regr['Electrical'].fillna('SBrkr', inplace=True)\n",
    "X_regr['FireplaceQu'].fillna('NB', inplace=True)\n",
    "X_regr['GarageType'].fillna('NB', inplace=True)\n",
    "X_regr['GarageFinish'].fillna('NB', inplace=True)\n",
    "X_regr['GarageQual'].fillna('NB', inplace=True)\n",
    "X_regr['GarageCond'].fillna('NB', inplace=True)\n",
    "# сформируем перечень категориальных признаков\n",
    "cat_feat = list(X_regr.dtypes[X_regr.dtypes == object].index)"
   ]
  },
  {
   "cell_type": "code",
   "execution_count": 7,
   "metadata": {},
   "outputs": [],
   "source": [
    "#Заменим модой пропущенные значения категориальных переменных (для линейной модели)\n",
    "for category in cat_feat:\n",
    "    X_regr[category].fillna(X_regr[category].mode, inplace=True)"
   ]
  },
  {
   "cell_type": "code",
   "execution_count": 8,
   "metadata": {},
   "outputs": [],
   "source": [
    "#отфильтруем непрерывные признаки\n",
    "num_feat = [f for f in X_regr if f not in cat_feat]"
   ]
  },
  {
   "cell_type": "code",
   "execution_count": 9,
   "metadata": {},
   "outputs": [],
   "source": [
    "#Заменим средним пропущенные значения для числовых переменных\n",
    "for category in num_feat:\n",
    "    X_regr[category].fillna(X_regr[category].mean(),inplace=True)"
   ]
  },
  {
   "cell_type": "code",
   "execution_count": 10,
   "metadata": {},
   "outputs": [
    {
     "name": "stdout",
     "output_type": "stream",
     "text": [
      "MSZoning          5\n",
      "Street            2\n",
      "LotShape          4\n",
      "LandContour       4\n",
      "Utilities         2\n",
      "LotConfig         5\n",
      "LandSlope         3\n",
      "Neighborhood     25\n",
      "Condition1        9\n",
      "Condition2        8\n",
      "BldgType          5\n",
      "HouseStyle        8\n",
      "RoofStyle         6\n",
      "RoofMatl          8\n",
      "Exterior1st      15\n",
      "Exterior2nd      16\n",
      "MasVnrType        4\n",
      "ExterQual         4\n",
      "ExterCond         5\n",
      "Foundation        6\n",
      "BsmtQual          5\n",
      "BsmtCond          5\n",
      "BsmtExposure      5\n",
      "BsmtFinType1      7\n",
      "BsmtFinType2      7\n",
      "Heating           6\n",
      "HeatingQC         5\n",
      "CentralAir        2\n",
      "Electrical        5\n",
      "KitchenQual       4\n",
      "Functional        7\n",
      "FireplaceQu       6\n",
      "GarageType        7\n",
      "GarageFinish      4\n",
      "GarageQual        6\n",
      "GarageCond        6\n",
      "PavedDrive        3\n",
      "SaleType          9\n",
      "SaleCondition     6\n",
      "dtype: int64\n"
     ]
    }
   ],
   "source": [
    "cat_nunique = X_regr[cat_feat].nunique()\n",
    "print(cat_nunique)"
   ]
  },
  {
   "cell_type": "code",
   "execution_count": 11,
   "metadata": {},
   "outputs": [],
   "source": [
    "#Чтобы в разы не увеличивать число признаков при построении dummy,\n",
    "#будем использовать категориальные признаки с < 10 уникальных значений\n",
    "X_regr = X_regr.drop(['Neighborhood','Exterior1st','Exterior2nd'],axis=1)"
   ]
  },
  {
   "cell_type": "code",
   "execution_count": 12,
   "metadata": {},
   "outputs": [],
   "source": [
    "#Находим категориальные признаки\n",
    "cat_feat = list(X_regr.dtypes[X_regr.dtypes == object].index)"
   ]
  },
  {
   "cell_type": "code",
   "execution_count": 13,
   "metadata": {},
   "outputs": [
    {
     "name": "stdout",
     "output_type": "stream",
     "text": [
      "MSZoning has been label encoded\n",
      "Street has been label encoded\n",
      "LotShape has been label encoded\n",
      "LandContour has been label encoded\n",
      "Utilities has been label encoded\n",
      "LotConfig has been label encoded\n",
      "LandSlope has been label encoded\n",
      "Condition1 has been label encoded\n",
      "Condition2 has been label encoded\n",
      "BldgType has been label encoded\n",
      "HouseStyle has been label encoded\n",
      "RoofStyle has been label encoded\n",
      "RoofMatl has been label encoded\n",
      "MasVnrType has been label encoded\n",
      "ExterQual has been label encoded\n",
      "ExterCond has been label encoded\n",
      "Foundation has been label encoded\n",
      "BsmtQual has been label encoded\n",
      "BsmtCond has been label encoded\n",
      "BsmtExposure has been label encoded\n",
      "BsmtFinType1 has been label encoded\n",
      "BsmtFinType2 has been label encoded\n",
      "Heating has been label encoded\n",
      "HeatingQC has been label encoded\n",
      "CentralAir has been label encoded\n",
      "Electrical has been label encoded\n",
      "KitchenQual has been label encoded\n",
      "Functional has been label encoded\n",
      "FireplaceQu has been label encoded\n",
      "GarageType has been label encoded\n",
      "GarageFinish has been label encoded\n",
      "GarageQual has been label encoded\n",
      "GarageCond has been label encoded\n",
      "PavedDrive has been label encoded\n",
      "SaleType has been label encoded\n",
      "SaleCondition has been label encoded\n"
     ]
    }
   ],
   "source": [
    "from sklearn.preprocessing import LabelEncoder\n",
    "from sklearn.preprocessing import OneHotEncoder\n",
    "\n",
    "le = LabelEncoder()\n",
    "\n",
    "for i in X_regr[cat_feat]:\n",
    "    if X_regr[i].dtype:\n",
    "        X_regr[i] = le.fit_transform(X_regr[i].values)\n",
    "        print(i + ' has been label encoded')"
   ]
  },
  {
   "cell_type": "code",
   "execution_count": 14,
   "metadata": {},
   "outputs": [
    {
     "data": {
      "text/html": [
       "<div>\n",
       "<style scoped>\n",
       "    .dataframe tbody tr th:only-of-type {\n",
       "        vertical-align: middle;\n",
       "    }\n",
       "\n",
       "    .dataframe tbody tr th {\n",
       "        vertical-align: top;\n",
       "    }\n",
       "\n",
       "    .dataframe thead th {\n",
       "        text-align: right;\n",
       "    }\n",
       "</style>\n",
       "<table border=\"1\" class=\"dataframe\">\n",
       "  <thead>\n",
       "    <tr style=\"text-align: right;\">\n",
       "      <th></th>\n",
       "      <th>MSZoning_0</th>\n",
       "      <th>MSZoning_1</th>\n",
       "      <th>MSZoning_2</th>\n",
       "      <th>MSZoning_3</th>\n",
       "      <th>MSZoning_4</th>\n",
       "      <th>Street_0</th>\n",
       "      <th>Street_1</th>\n",
       "      <th>LotShape_0</th>\n",
       "      <th>LotShape_1</th>\n",
       "      <th>LotShape_2</th>\n",
       "      <th>...</th>\n",
       "      <th>SaleType_5</th>\n",
       "      <th>SaleType_6</th>\n",
       "      <th>SaleType_7</th>\n",
       "      <th>SaleType_8</th>\n",
       "      <th>SaleCondition_0</th>\n",
       "      <th>SaleCondition_1</th>\n",
       "      <th>SaleCondition_2</th>\n",
       "      <th>SaleCondition_3</th>\n",
       "      <th>SaleCondition_4</th>\n",
       "      <th>SaleCondition_5</th>\n",
       "    </tr>\n",
       "  </thead>\n",
       "  <tbody>\n",
       "    <tr>\n",
       "      <th>0</th>\n",
       "      <td>0</td>\n",
       "      <td>0</td>\n",
       "      <td>0</td>\n",
       "      <td>1</td>\n",
       "      <td>0</td>\n",
       "      <td>0</td>\n",
       "      <td>1</td>\n",
       "      <td>0</td>\n",
       "      <td>0</td>\n",
       "      <td>0</td>\n",
       "      <td>...</td>\n",
       "      <td>0</td>\n",
       "      <td>0</td>\n",
       "      <td>0</td>\n",
       "      <td>1</td>\n",
       "      <td>0</td>\n",
       "      <td>0</td>\n",
       "      <td>0</td>\n",
       "      <td>0</td>\n",
       "      <td>1</td>\n",
       "      <td>0</td>\n",
       "    </tr>\n",
       "    <tr>\n",
       "      <th>1</th>\n",
       "      <td>0</td>\n",
       "      <td>0</td>\n",
       "      <td>0</td>\n",
       "      <td>1</td>\n",
       "      <td>0</td>\n",
       "      <td>0</td>\n",
       "      <td>1</td>\n",
       "      <td>0</td>\n",
       "      <td>0</td>\n",
       "      <td>0</td>\n",
       "      <td>...</td>\n",
       "      <td>0</td>\n",
       "      <td>0</td>\n",
       "      <td>0</td>\n",
       "      <td>1</td>\n",
       "      <td>0</td>\n",
       "      <td>0</td>\n",
       "      <td>0</td>\n",
       "      <td>0</td>\n",
       "      <td>1</td>\n",
       "      <td>0</td>\n",
       "    </tr>\n",
       "    <tr>\n",
       "      <th>2</th>\n",
       "      <td>0</td>\n",
       "      <td>0</td>\n",
       "      <td>0</td>\n",
       "      <td>1</td>\n",
       "      <td>0</td>\n",
       "      <td>0</td>\n",
       "      <td>1</td>\n",
       "      <td>1</td>\n",
       "      <td>0</td>\n",
       "      <td>0</td>\n",
       "      <td>...</td>\n",
       "      <td>0</td>\n",
       "      <td>0</td>\n",
       "      <td>0</td>\n",
       "      <td>1</td>\n",
       "      <td>0</td>\n",
       "      <td>0</td>\n",
       "      <td>0</td>\n",
       "      <td>0</td>\n",
       "      <td>1</td>\n",
       "      <td>0</td>\n",
       "    </tr>\n",
       "    <tr>\n",
       "      <th>3</th>\n",
       "      <td>0</td>\n",
       "      <td>0</td>\n",
       "      <td>0</td>\n",
       "      <td>1</td>\n",
       "      <td>0</td>\n",
       "      <td>0</td>\n",
       "      <td>1</td>\n",
       "      <td>1</td>\n",
       "      <td>0</td>\n",
       "      <td>0</td>\n",
       "      <td>...</td>\n",
       "      <td>0</td>\n",
       "      <td>0</td>\n",
       "      <td>0</td>\n",
       "      <td>1</td>\n",
       "      <td>1</td>\n",
       "      <td>0</td>\n",
       "      <td>0</td>\n",
       "      <td>0</td>\n",
       "      <td>0</td>\n",
       "      <td>0</td>\n",
       "    </tr>\n",
       "    <tr>\n",
       "      <th>4</th>\n",
       "      <td>0</td>\n",
       "      <td>0</td>\n",
       "      <td>0</td>\n",
       "      <td>1</td>\n",
       "      <td>0</td>\n",
       "      <td>0</td>\n",
       "      <td>1</td>\n",
       "      <td>1</td>\n",
       "      <td>0</td>\n",
       "      <td>0</td>\n",
       "      <td>...</td>\n",
       "      <td>0</td>\n",
       "      <td>0</td>\n",
       "      <td>0</td>\n",
       "      <td>1</td>\n",
       "      <td>0</td>\n",
       "      <td>0</td>\n",
       "      <td>0</td>\n",
       "      <td>0</td>\n",
       "      <td>1</td>\n",
       "      <td>0</td>\n",
       "    </tr>\n",
       "  </tbody>\n",
       "</table>\n",
       "<p>5 rows × 41 columns</p>\n",
       "</div>"
      ],
      "text/plain": [
       "   MSZoning_0  MSZoning_1  MSZoning_2  MSZoning_3  MSZoning_4  Street_0  \\\n",
       "0           0           0           0           1           0         0   \n",
       "1           0           0           0           1           0         0   \n",
       "2           0           0           0           1           0         0   \n",
       "3           0           0           0           1           0         0   \n",
       "4           0           0           0           1           0         0   \n",
       "\n",
       "   Street_1  LotShape_0  LotShape_1  LotShape_2  ...  SaleType_5  SaleType_6  \\\n",
       "0         1           0           0           0  ...           0           0   \n",
       "1         1           0           0           0  ...           0           0   \n",
       "2         1           1           0           0  ...           0           0   \n",
       "3         1           1           0           0  ...           0           0   \n",
       "4         1           1           0           0  ...           0           0   \n",
       "\n",
       "   SaleType_7  SaleType_8  SaleCondition_0  SaleCondition_1  SaleCondition_2  \\\n",
       "0           0           1                0                0                0   \n",
       "1           0           1                0                0                0   \n",
       "2           0           1                0                0                0   \n",
       "3           0           1                1                0                0   \n",
       "4           0           1                0                0                0   \n",
       "\n",
       "   SaleCondition_3  SaleCondition_4  SaleCondition_5  \n",
       "0                0                1                0  \n",
       "1                0                1                0  \n",
       "2                0                1                0  \n",
       "3                0                0                0  \n",
       "4                0                1                0  \n",
       "\n",
       "[5 rows x 41 columns]"
      ]
     },
     "execution_count": 14,
     "metadata": {},
     "output_type": "execute_result"
    }
   ],
   "source": [
    "# для части признаков (там, где были категориальные номинальные переменные) делаем dummy\n",
    "features = ['MSZoning','Street','LotShape','LandContour','Utilities','GarageQual','LandSlope','SaleType','SaleCondition']\n",
    "X_dummy = pd.get_dummies(X_regr[features], columns=features)\n",
    "X_dummy.head()"
   ]
  },
  {
   "cell_type": "code",
   "execution_count": 15,
   "metadata": {},
   "outputs": [
    {
     "data": {
      "text/html": [
       "<div>\n",
       "<style scoped>\n",
       "    .dataframe tbody tr th:only-of-type {\n",
       "        vertical-align: middle;\n",
       "    }\n",
       "\n",
       "    .dataframe tbody tr th {\n",
       "        vertical-align: top;\n",
       "    }\n",
       "\n",
       "    .dataframe thead th {\n",
       "        text-align: right;\n",
       "    }\n",
       "</style>\n",
       "<table border=\"1\" class=\"dataframe\">\n",
       "  <thead>\n",
       "    <tr style=\"text-align: right;\">\n",
       "      <th></th>\n",
       "      <th>MSSubClass</th>\n",
       "      <th>LotFrontage</th>\n",
       "      <th>LotArea</th>\n",
       "      <th>LotConfig</th>\n",
       "      <th>Condition1</th>\n",
       "      <th>Condition2</th>\n",
       "      <th>BldgType</th>\n",
       "      <th>HouseStyle</th>\n",
       "      <th>OverallQual</th>\n",
       "      <th>OverallCond</th>\n",
       "      <th>...</th>\n",
       "      <th>SaleType_5</th>\n",
       "      <th>SaleType_6</th>\n",
       "      <th>SaleType_7</th>\n",
       "      <th>SaleType_8</th>\n",
       "      <th>SaleCondition_0</th>\n",
       "      <th>SaleCondition_1</th>\n",
       "      <th>SaleCondition_2</th>\n",
       "      <th>SaleCondition_3</th>\n",
       "      <th>SaleCondition_4</th>\n",
       "      <th>SaleCondition_5</th>\n",
       "    </tr>\n",
       "  </thead>\n",
       "  <tbody>\n",
       "    <tr>\n",
       "      <th>0</th>\n",
       "      <td>60</td>\n",
       "      <td>65.0</td>\n",
       "      <td>8450</td>\n",
       "      <td>4</td>\n",
       "      <td>2</td>\n",
       "      <td>2</td>\n",
       "      <td>0</td>\n",
       "      <td>5</td>\n",
       "      <td>7</td>\n",
       "      <td>5</td>\n",
       "      <td>...</td>\n",
       "      <td>0</td>\n",
       "      <td>0</td>\n",
       "      <td>0</td>\n",
       "      <td>1</td>\n",
       "      <td>0</td>\n",
       "      <td>0</td>\n",
       "      <td>0</td>\n",
       "      <td>0</td>\n",
       "      <td>1</td>\n",
       "      <td>0</td>\n",
       "    </tr>\n",
       "    <tr>\n",
       "      <th>1</th>\n",
       "      <td>20</td>\n",
       "      <td>80.0</td>\n",
       "      <td>9600</td>\n",
       "      <td>2</td>\n",
       "      <td>1</td>\n",
       "      <td>2</td>\n",
       "      <td>0</td>\n",
       "      <td>2</td>\n",
       "      <td>6</td>\n",
       "      <td>8</td>\n",
       "      <td>...</td>\n",
       "      <td>0</td>\n",
       "      <td>0</td>\n",
       "      <td>0</td>\n",
       "      <td>1</td>\n",
       "      <td>0</td>\n",
       "      <td>0</td>\n",
       "      <td>0</td>\n",
       "      <td>0</td>\n",
       "      <td>1</td>\n",
       "      <td>0</td>\n",
       "    </tr>\n",
       "    <tr>\n",
       "      <th>2</th>\n",
       "      <td>60</td>\n",
       "      <td>68.0</td>\n",
       "      <td>11250</td>\n",
       "      <td>4</td>\n",
       "      <td>2</td>\n",
       "      <td>2</td>\n",
       "      <td>0</td>\n",
       "      <td>5</td>\n",
       "      <td>7</td>\n",
       "      <td>5</td>\n",
       "      <td>...</td>\n",
       "      <td>0</td>\n",
       "      <td>0</td>\n",
       "      <td>0</td>\n",
       "      <td>1</td>\n",
       "      <td>0</td>\n",
       "      <td>0</td>\n",
       "      <td>0</td>\n",
       "      <td>0</td>\n",
       "      <td>1</td>\n",
       "      <td>0</td>\n",
       "    </tr>\n",
       "    <tr>\n",
       "      <th>3</th>\n",
       "      <td>70</td>\n",
       "      <td>60.0</td>\n",
       "      <td>9550</td>\n",
       "      <td>0</td>\n",
       "      <td>2</td>\n",
       "      <td>2</td>\n",
       "      <td>0</td>\n",
       "      <td>5</td>\n",
       "      <td>7</td>\n",
       "      <td>5</td>\n",
       "      <td>...</td>\n",
       "      <td>0</td>\n",
       "      <td>0</td>\n",
       "      <td>0</td>\n",
       "      <td>1</td>\n",
       "      <td>1</td>\n",
       "      <td>0</td>\n",
       "      <td>0</td>\n",
       "      <td>0</td>\n",
       "      <td>0</td>\n",
       "      <td>0</td>\n",
       "    </tr>\n",
       "    <tr>\n",
       "      <th>4</th>\n",
       "      <td>60</td>\n",
       "      <td>84.0</td>\n",
       "      <td>14260</td>\n",
       "      <td>2</td>\n",
       "      <td>2</td>\n",
       "      <td>2</td>\n",
       "      <td>0</td>\n",
       "      <td>5</td>\n",
       "      <td>8</td>\n",
       "      <td>5</td>\n",
       "      <td>...</td>\n",
       "      <td>0</td>\n",
       "      <td>0</td>\n",
       "      <td>0</td>\n",
       "      <td>1</td>\n",
       "      <td>0</td>\n",
       "      <td>0</td>\n",
       "      <td>0</td>\n",
       "      <td>0</td>\n",
       "      <td>1</td>\n",
       "      <td>0</td>\n",
       "    </tr>\n",
       "  </tbody>\n",
       "</table>\n",
       "<p>5 rows × 104 columns</p>\n",
       "</div>"
      ],
      "text/plain": [
       "   MSSubClass  LotFrontage  LotArea  LotConfig  Condition1  Condition2  \\\n",
       "0          60         65.0     8450          4           2           2   \n",
       "1          20         80.0     9600          2           1           2   \n",
       "2          60         68.0    11250          4           2           2   \n",
       "3          70         60.0     9550          0           2           2   \n",
       "4          60         84.0    14260          2           2           2   \n",
       "\n",
       "   BldgType  HouseStyle  OverallQual  OverallCond  ...  SaleType_5  \\\n",
       "0         0           5            7            5  ...           0   \n",
       "1         0           2            6            8  ...           0   \n",
       "2         0           5            7            5  ...           0   \n",
       "3         0           5            7            5  ...           0   \n",
       "4         0           5            8            5  ...           0   \n",
       "\n",
       "   SaleType_6  SaleType_7  SaleType_8  SaleCondition_0  SaleCondition_1  \\\n",
       "0           0           0           1                0                0   \n",
       "1           0           0           1                0                0   \n",
       "2           0           0           1                0                0   \n",
       "3           0           0           1                1                0   \n",
       "4           0           0           1                0                0   \n",
       "\n",
       "   SaleCondition_2  SaleCondition_3  SaleCondition_4  SaleCondition_5  \n",
       "0                0                0                1                0  \n",
       "1                0                0                1                0  \n",
       "2                0                0                1                0  \n",
       "3                0                0                0                0  \n",
       "4                0                0                1                0  \n",
       "\n",
       "[5 rows x 104 columns]"
      ]
     },
     "execution_count": 15,
     "metadata": {},
     "output_type": "execute_result"
    }
   ],
   "source": [
    "#Конкатенируем финальный датасет из признаков\n",
    "X_final = pd.concat([X_regr.drop(features, axis =1),\n",
    "                     X_dummy], axis=1)\n",
    "X_final.head()"
   ]
  },
  {
   "cell_type": "code",
   "execution_count": 16,
   "metadata": {},
   "outputs": [],
   "source": [
    "# разбиваем выборку на обучающую и валидационную\n",
    "from sklearn.model_selection import train_test_split\n",
    "X_train, X_validation, y_train, y_validation = train_test_split(X_final, y, test_size=0.25)\n",
    "# X_validation, y_validation - hold_out dataset"
   ]
  },
  {
   "cell_type": "code",
   "execution_count": 17,
   "metadata": {},
   "outputs": [],
   "source": [
    "# разбиваем обучающую выборку на обучающую и тестовую\n",
    "X_train, X_test, y_train, y_test = train_test_split(X_train, y_train, test_size=0.25)"
   ]
  },
  {
   "cell_type": "markdown",
   "metadata": {},
   "source": [
    "### Random forest"
   ]
  },
  {
   "cell_type": "code",
   "execution_count": 18,
   "metadata": {},
   "outputs": [],
   "source": [
    "from sklearn.model_selection import KFold"
   ]
  },
  {
   "cell_type": "code",
   "execution_count": 20,
   "metadata": {},
   "outputs": [],
   "source": [
    "kfold = KFold(n_splits=10, random_state=3) #зададим кол-во фолдов = 10"
   ]
  },
  {
   "cell_type": "code",
   "execution_count": 21,
   "metadata": {},
   "outputs": [
    {
     "data": {
      "text/plain": [
       "RandomForestRegressor(max_depth=5, max_features=0.5, min_samples_leaf=5,\n",
       "                      n_estimators=10, n_jobs=-1)"
      ]
     },
     "execution_count": 21,
     "metadata": {},
     "output_type": "execute_result"
    }
   ],
   "source": [
    "from sklearn.ensemble import RandomForestRegressor\n",
    "\n",
    "clf_rf = RandomForestRegressor(n_estimators=10, max_depth=5, min_samples_leaf=5, max_features=0.5, n_jobs=-1)\n",
    "clf_rf.fit(X_train, y_train)"
   ]
  },
  {
   "cell_type": "code",
   "execution_count": 23,
   "metadata": {},
   "outputs": [
    {
     "name": "stdout",
     "output_type": "stream",
     "text": [
      "Scores R2 train -  [0.57567513 0.63375328 0.84385495 0.66800213 0.88022268 0.74875878\n",
      " 0.87321933 0.70521612 0.85087336 0.82524239]\n",
      "Mean score R2 train-  0.7604818151509456\n"
     ]
    }
   ],
   "source": [
    "#Смотрим значение R2 на фолдах и находим среднее значение (обуч выборка)\n",
    "from sklearn.model_selection import cross_val_score\n",
    "scores = cross_val_score(clf_rf, X_train, y_train, cv=kfold, n_jobs= -1, scoring='r2')\n",
    "mean = np.mean(scores)\n",
    "print('Scores R2 train - ', scores)\n",
    "print('Mean score R2 train- ', mean)"
   ]
  },
  {
   "cell_type": "code",
   "execution_count": 24,
   "metadata": {},
   "outputs": [
    {
     "name": "stdout",
     "output_type": "stream",
     "text": [
      "Scores R2 test -  [0.7391083  0.82818954 0.74960992 0.79306201 0.81271605 0.88302948\n",
      " 0.86391975 0.74788552 0.78370813 0.91295215]\n",
      "Mean score R2 test -  0.8114180846685685\n"
     ]
    }
   ],
   "source": [
    "#Смотрим значение R2 на фолдах и находим среднее значение (тестовая выборка)\n",
    "scores = cross_val_score(clf_rf, X_test, y_test, cv=kfold, n_jobs= -1, scoring='r2')\n",
    "mean = np.mean(scores)\n",
    "print('Scores R2 test - ', scores)\n",
    "print('Mean score R2 test - ', mean)"
   ]
  },
  {
   "cell_type": "code",
   "execution_count": 25,
   "metadata": {},
   "outputs": [],
   "source": [
    "# Random forest                Mean score R2 train: 0.7604818151509456   Mean score R2 test: 0.8114180846685685"
   ]
  },
  {
   "cell_type": "markdown",
   "metadata": {},
   "source": [
    "### Feature importances"
   ]
  },
  {
   "cell_type": "code",
   "execution_count": 26,
   "metadata": {},
   "outputs": [],
   "source": [
    "# попробуем оценить важность признаков с помощью RF\n",
    "imp = pd.Series(clf_rf.feature_importances_)\n",
    "imp_values = imp.sort_values(ascending=False)"
   ]
  },
  {
   "cell_type": "code",
   "execution_count": 27,
   "metadata": {},
   "outputs": [
    {
     "name": "stdout",
     "output_type": "stream",
     "text": [
      "OverallQual - 0.24057675834231868\n",
      "GrLivArea - 0.18037627916964122\n",
      "GarageCars - 0.1750909391250959\n",
      "ExterQual - 0.09508482351552387\n",
      "GarageArea - 0.06005246126359202\n",
      "1stFlrSF - 0.04784273646348563\n",
      "TotalBsmtSF - 0.03278771827822343\n",
      "FullBath - 0.021606145836576204\n",
      "YearBuilt - 0.019442665619760522\n",
      "GarageYrBlt - 0.01751960497141824\n"
     ]
    }
   ],
   "source": [
    "#выведем 10 наиболее важных признаков\n",
    "imp_10 = imp_values[:10]\n",
    "for f in imp_10.index:\n",
    "    print(X_train.columns[f], '-', imp_10[f] )"
   ]
  },
  {
   "cell_type": "code",
   "execution_count": 28,
   "metadata": {},
   "outputs": [],
   "source": [
    "# Попробуем подобрать оптимальные параметры модели при помощи GridSearchCV\n",
    "from sklearn.model_selection import GridSearchCV"
   ]
  },
  {
   "cell_type": "code",
   "execution_count": 29,
   "metadata": {},
   "outputs": [],
   "source": [
    "#Зададим параметры модели\n",
    "param_grid =  {'n_estimators': [10,20,30,40],\n",
    "               'max_features': ['sqrt'],\n",
    "               'max_depth': [None,1,5,10,20],\n",
    "               'min_samples_split': [2,4,6],\n",
    "               'min_samples_leaf': [1,3,5]}\n",
    "rf = RandomForestRegressor()\n",
    "grid_search = GridSearchCV(estimator = rf, param_grid = param_grid, \n",
    "                          cv = kfold, n_jobs = -1)"
   ]
  },
  {
   "cell_type": "code",
   "execution_count": 30,
   "metadata": {},
   "outputs": [
    {
     "data": {
      "text/plain": [
       "{'max_depth': None,\n",
       " 'max_features': 'sqrt',\n",
       " 'min_samples_leaf': 1,\n",
       " 'min_samples_split': 2,\n",
       " 'n_estimators': 20}"
      ]
     },
     "execution_count": 30,
     "metadata": {},
     "output_type": "execute_result"
    }
   ],
   "source": [
    "#Посмотрим какие параметры наилучшие\n",
    "grid_search.fit(X_train, y_train)\n",
    "grid_search.best_params_"
   ]
  },
  {
   "cell_type": "code",
   "execution_count": 31,
   "metadata": {},
   "outputs": [
    {
     "data": {
      "text/plain": [
       "RandomForestRegressor(max_features='sqrt', n_estimators=20)"
      ]
     },
     "execution_count": 31,
     "metadata": {},
     "output_type": "execute_result"
    }
   ],
   "source": [
    "best_grid = grid_search.best_estimator_\n",
    "best_grid.fit(X_train,y_train)"
   ]
  },
  {
   "cell_type": "code",
   "execution_count": 33,
   "metadata": {},
   "outputs": [
    {
     "name": "stdout",
     "output_type": "stream",
     "text": [
      "Scores R2-  [0.48064503 0.69172353 0.8580631  0.72349152 0.88743641 0.78472059\n",
      " 0.86442438 0.80774547 0.86501115 0.84406011]\n",
      "Mean score R2 train -  0.7807321273513038\n"
     ]
    }
   ],
   "source": [
    "#Смотрим значение R2 на фолдах и находим среднее значение (обуч выборка)\n",
    "scores = cross_val_score(best_grid, X_train, y_train, cv=kfold, n_jobs= -1, scoring='r2')\n",
    "mean = np.mean(scores)\n",
    "print('Scores R2- ', scores)\n",
    "print('Mean score R2 train - ', mean)"
   ]
  },
  {
   "cell_type": "code",
   "execution_count": 34,
   "metadata": {},
   "outputs": [
    {
     "name": "stdout",
     "output_type": "stream",
     "text": [
      "Scores R2-  [0.87701368 0.83697959 0.73236881 0.83693331 0.82865466 0.89447257\n",
      " 0.88213775 0.75109818 0.8868639  0.89823246]\n",
      "Mean score R2 test -  0.842475491135063\n"
     ]
    }
   ],
   "source": [
    "#Смотрим значение R2 на фолдах и находим среднее значение (тестовая выборка)\n",
    "scores = cross_val_score(best_grid, X_test, y_test, cv=kfold, n_jobs= -1, scoring='r2')\n",
    "mean = np.mean(scores)\n",
    "print('Scores R2- ', scores)\n",
    "print('Mean score R2 test - ', mean)"
   ]
  },
  {
   "cell_type": "code",
   "execution_count": 35,
   "metadata": {},
   "outputs": [],
   "source": [
    "# Random forest                            Mean score R2 train: 0.7604818151509456   Mean score R2 test: 0.8114180846685685\n",
    "# Random forest best estimat               Mean score R2 train: 0.7807321273513038   Mean score R2 test: 0.842475491135063"
   ]
  },
  {
   "cell_type": "code",
   "execution_count": 36,
   "metadata": {},
   "outputs": [],
   "source": [
    "not_important = imp_values[lambda x: x == 0.000000] #получаем перечень строк с нулевой \"важностью\" признака\n",
    "not_important_index = not_important.index.tolist() #получим индексы неважных признаков"
   ]
  },
  {
   "cell_type": "code",
   "execution_count": 37,
   "metadata": {},
   "outputs": [
    {
     "name": "stderr",
     "output_type": "stream",
     "text": [
      "C:\\Users\\Vera_Romantsova\\anaconda3\\lib\\site-packages\\pandas\\core\\indexes\\base.py:4111: FutureWarning: Using a non-tuple sequence for multidimensional indexing is deprecated; use `arr[tuple(seq)]` instead of `arr[seq]`. In the future this will be interpreted as an array index, `arr[np.array(seq)]`, which will result either in an error or a different result.\n",
      "  result = getitem(key)\n"
     ]
    }
   ],
   "source": [
    "# Оставляем в X_train и X_test только \"важные\" признаки\n",
    "X_train_imp = X_train.drop(X_train.columns[[not_important_index]], axis=1)"
   ]
  },
  {
   "cell_type": "code",
   "execution_count": 38,
   "metadata": {},
   "outputs": [],
   "source": [
    "X_test_imp = X_test.drop(X_test.columns[[not_important_index]], axis=1)\n",
    "X_val_imp = X_validation.drop(X_validation.columns[[not_important_index]], axis=1)"
   ]
  },
  {
   "cell_type": "code",
   "execution_count": 39,
   "metadata": {},
   "outputs": [
    {
     "data": {
      "text/plain": [
       "{'max_depth': None,\n",
       " 'max_features': 'sqrt',\n",
       " 'min_samples_leaf': 1,\n",
       " 'min_samples_split': 6,\n",
       " 'n_estimators': 40}"
      ]
     },
     "execution_count": 39,
     "metadata": {},
     "output_type": "execute_result"
    }
   ],
   "source": [
    "# пробуем подобрать наилучшие параметры модели для выборки X_train_imp \n",
    "grid_search_imp = GridSearchCV(estimator = rf, param_grid = param_grid, \n",
    "                          cv = kfold, n_jobs = -1) #кол-во фолдов = 10\n",
    "grid_search_imp.fit(X_train_imp, y_train)\n",
    "grid_search_imp.best_params_"
   ]
  },
  {
   "cell_type": "code",
   "execution_count": 41,
   "metadata": {},
   "outputs": [
    {
     "name": "stdout",
     "output_type": "stream",
     "text": [
      "Scores R2-  [0.54724087 0.65628147 0.89392798 0.66003002 0.8826581  0.81566946\n",
      " 0.87216382 0.76951314 0.87360622 0.84642709]\n",
      "Mean score R2 train -  0.7817518154858635\n",
      "Scores R2-  [0.84832277 0.84585056 0.69393113 0.78038888 0.85904947 0.890258\n",
      " 0.89323863 0.73772593 0.89323078 0.93215309]\n",
      "Mean score R2 test -  0.8374149250109941\n"
     ]
    }
   ],
   "source": [
    "#Смотрим значение R2 на фолдах и находим среднее значение (обуч выборка)\n",
    "scores = cross_val_score(grid_best_imp, X_train, y_train, cv=kfold, n_jobs= -1, scoring='r2')\n",
    "mean = np.mean(scores)\n",
    "print('Scores R2- ', scores)\n",
    "print('Mean score R2 train - ', mean)\n",
    "#Смотрим значение R2 на фолдах и находим среднее значение (тестовая выборка)\n",
    "scores = cross_val_score(grid_best_imp, X_test, y_test, cv=kfold, n_jobs= -1, scoring='r2')\n",
    "mean = np.mean(scores)\n",
    "print('Scores R2- ', scores)\n",
    "print('Mean score R2 test - ', mean)"
   ]
  },
  {
   "cell_type": "code",
   "execution_count": 42,
   "metadata": {},
   "outputs": [],
   "source": [
    "# Random forest                            Mean score R2 train: 0.7604818151509456   Mean score R2 test: 0.8114180846685685\n",
    "# Random forest best estimat               Mean score R2 train: 0.7807321273513038   Mean score R2 test: 0.842475491135063\n",
    "# Random forest best estimat imp feat      Mean score R2 train: 0.7817518154858635   Mean score R2 test: 0.8374149250109941"
   ]
  },
  {
   "cell_type": "markdown",
   "metadata": {},
   "source": [
    "### Stacking"
   ]
  },
  {
   "cell_type": "code",
   "execution_count": 43,
   "metadata": {},
   "outputs": [],
   "source": [
    "from sklearn.ensemble import StackingRegressor"
   ]
  },
  {
   "cell_type": "code",
   "execution_count": 44,
   "metadata": {},
   "outputs": [],
   "source": [
    "from sklearn.ensemble import GradientBoostingRegressor\n",
    "from sklearn.linear_model import LinearRegression"
   ]
  },
  {
   "cell_type": "code",
   "execution_count": 45,
   "metadata": {},
   "outputs": [],
   "source": [
    "# используем бустинг\n",
    "\n",
    "gbm_param = dict(\n",
    "    loss=['ls', 'huber'],\n",
    "    n_estimators=[10,20,30,40],\n",
    "    min_samples_split=[2,4,6],\n",
    "    max_depth=[None,1,5,10,20],\n",
    "    )\n",
    "\n",
    "gbm = GradientBoostingRegressor()\n",
    "grid_search_gbr = GridSearchCV(estimator = gbm, param_grid = gbm_param, \n",
    "                          cv = kfold, n_jobs = -1) #кол-во фолдов = 10"
   ]
  },
  {
   "cell_type": "code",
   "execution_count": 46,
   "metadata": {},
   "outputs": [
    {
     "data": {
      "text/plain": [
       "{'loss': 'huber', 'max_depth': 5, 'min_samples_split': 6, 'n_estimators': 40}"
      ]
     },
     "execution_count": 46,
     "metadata": {},
     "output_type": "execute_result"
    }
   ],
   "source": [
    "#Посмотрим какие параметры наилучшие\n",
    "grid_search_gbr.fit(X_train_imp, y_train)\n",
    "grid_search_gbr.best_params_"
   ]
  },
  {
   "cell_type": "code",
   "execution_count": 49,
   "metadata": {},
   "outputs": [
    {
     "name": "stdout",
     "output_type": "stream",
     "text": [
      "Scores R2-  [0.76657684 0.77682629 0.90499292 0.65388335 0.86590477 0.79655908\n",
      " 0.88888737 0.76679595 0.87962682 0.87423818]\n",
      "Mean score R2 train -  0.8174291564557186\n",
      "Scores R2-  [0.83636334 0.86810713 0.62507205 0.82510042 0.7898817  0.91767591\n",
      " 0.76966074 0.71349659 0.84640824 0.92714348]\n",
      "Mean score R2 test -  0.8118909589734681\n"
     ]
    }
   ],
   "source": [
    "#Смотрим значение R2 на фолдах и находим среднее значение (обуч выборка)\n",
    "scores = cross_val_score(grid_best_gbr, X_train, y_train, cv=kfold, n_jobs= -1, scoring='r2')\n",
    "mean = np.mean(scores)\n",
    "print('Scores R2- ', scores)\n",
    "print('Mean score R2 train - ', mean)\n",
    "#Смотрим значение R2 на фолдах и находим среднее значение (тестовая выборка)\n",
    "scores = cross_val_score(grid_best_gbr, X_test, y_test, cv=kfold, n_jobs= -1, scoring='r2')\n",
    "mean = np.mean(scores)\n",
    "print('Scores R2- ', scores)\n",
    "print('Mean score R2 test - ', mean)"
   ]
  },
  {
   "cell_type": "code",
   "execution_count": 50,
   "metadata": {},
   "outputs": [],
   "source": [
    "# Random forest                            Mean score R2 train: 0.7604818151509456   Mean score R2 test: 0.8114180846685685\n",
    "# Random forest best estimat               Mean score R2 train: 0.7807321273513038   Mean score R2 test: 0.842475491135063\n",
    "# Random forest best estimat imp feat      Mean score R2 train: 0.7817518154858635   Mean score R2 test: 0.8374149250109941\n",
    "# GradientBoostingRegressor                Mean score R2 train: 0.8174291564557186   Mean score R2 test: 0.8118909589734681"
   ]
  },
  {
   "cell_type": "code",
   "execution_count": 51,
   "metadata": {},
   "outputs": [],
   "source": [
    "# lr = LinearRegression().fit(X_train, y_train)\n",
    "# обычную линейную регрессию не сильно имеет смысл использовать, так как признаков очень много, поэтому нужно использовать регуляризацию\n",
    "# будем использовать lasso, подразумевая, что часть признаков не оказывает никакого влияния (в оценке важности признаков у многих было значение = 0)\n",
    "from sklearn.linear_model import Lasso\n",
    "lasso = Lasso(alpha=1, tol = 0.1).fit(X_train, y_train)\n",
    "# найдем оптимальное значение альфа\n",
    "alpha = [0.001, 0.01, 0.1, 1, 10, 100, 1000]\n",
    "param_grid_lasso = dict(alpha=alpha)\n",
    "grid_search_lasso = GridSearchCV(estimator=lasso, param_grid=param_grid_lasso, scoring='r2', cv = kfold) #кол-во фолдов = 10"
   ]
  },
  {
   "cell_type": "code",
   "execution_count": 52,
   "metadata": {},
   "outputs": [
    {
     "data": {
      "text/plain": [
       "{'alpha': 1000}"
      ]
     },
     "execution_count": 52,
     "metadata": {},
     "output_type": "execute_result"
    }
   ],
   "source": [
    "#Посмотрим какие параметры наилучшие\n",
    "grid_search_lasso = grid_search_lasso.fit(X_train, y_train)\n",
    "grid_search_lasso.best_params_"
   ]
  },
  {
   "cell_type": "code",
   "execution_count": 55,
   "metadata": {},
   "outputs": [
    {
     "name": "stdout",
     "output_type": "stream",
     "text": [
      "Scores R2-  [0.43528138 0.03983304 0.85878913 0.79062695 0.85095379 0.83283364\n",
      " 0.82088162 0.79184816 0.74295258 0.88163047]\n",
      "Mean score R2 train -  0.7045630765596063\n",
      "Scores R2-  [0.77597493 0.93786726 0.88737856 0.93119916 0.90680872 0.83875645\n",
      " 0.84734822 0.73824834 0.83335784 0.89267067]\n",
      "Mean score R2 test -  0.8589610145489038\n"
     ]
    }
   ],
   "source": [
    "#Смотрим значение R2 на фолдах и находим среднее значение (обуч выборка)\n",
    "scores = cross_val_score(grid_best_lasso, X_train, y_train, cv=kfold, n_jobs= -1, scoring='r2')\n",
    "mean = np.mean(scores)\n",
    "print('Scores R2- ', scores)\n",
    "print('Mean score R2 train - ', mean)\n",
    "#Смотрим значение R2 на фолдах и находим среднее значение (тестовая выборка)\n",
    "scores = cross_val_score(grid_best_lasso, X_test, y_test, cv=kfold, n_jobs= -1,scoring='r2')\n",
    "mean = np.mean(scores)\n",
    "print('Scores R2- ', scores)\n",
    "print('Mean score R2 test - ', mean)"
   ]
  },
  {
   "cell_type": "code",
   "execution_count": 56,
   "metadata": {},
   "outputs": [],
   "source": [
    "# Random forest                            Mean score R2 train: 0.7604818151509456   Mean score R2 test: 0.8114180846685685\n",
    "# Random forest best estimat               Mean score R2 train: 0.7807321273513038   Mean score R2 test: 0.842475491135063\n",
    "# Random forest best estimat imp feat      Mean score R2 train: 0.7817518154858635   Mean score R2 test: 0.8374149250109941\n",
    "# GradientBoostingRegressor                Mean score R2 train: 0.8174291564557186   Mean score R2 test: 0.8118909589734681\n",
    "# Lasso (L1-regularization)                Mean score R2 train: 0.70456307655960638   Mean score R2 test: 0.8589610145489038"
   ]
  },
  {
   "cell_type": "markdown",
   "metadata": {},
   "source": [
    "### Stacking на наилучших параметрах моделей"
   ]
  },
  {
   "cell_type": "code",
   "execution_count": 57,
   "metadata": {},
   "outputs": [],
   "source": [
    "estimators = [\n",
    "    ('grid_search_imp',grid_search_imp.best_estimator_),\n",
    "    ('grid_search_gbr',grid_search_gbr.best_estimator_),\n",
    "    ('grid_search_lasso',grid_search_lasso.best_estimator_),\n",
    "]\n",
    "\n",
    "stacking_model = StackingRegressor(\n",
    "    estimators=estimators, cv = kfold) #кол-во фолдов = 10"
   ]
  },
  {
   "cell_type": "code",
   "execution_count": 58,
   "metadata": {},
   "outputs": [
    {
     "data": {
      "text/plain": [
       "Lasso(alpha=1000, tol=0.1)"
      ]
     },
     "execution_count": 58,
     "metadata": {},
     "output_type": "execute_result"
    }
   ],
   "source": [
    "stacking_model.named_estimators['grid_search_imp'].fit(X_train_imp,y_train)\n",
    "stacking_model.named_estimators['grid_search_gbr'].fit(X_train_imp,y_train)\n",
    "stacking_model.named_estimators['grid_search_lasso'].fit(X_train,y_train)"
   ]
  },
  {
   "cell_type": "code",
   "execution_count": 59,
   "metadata": {},
   "outputs": [
    {
     "data": {
      "text/plain": [
       "RandomForestRegressor(max_features='sqrt', min_samples_split=6, n_estimators=40)"
      ]
     },
     "execution_count": 59,
     "metadata": {},
     "output_type": "execute_result"
    }
   ],
   "source": [
    "stacking_model.named_estimators['grid_search_imp']"
   ]
  },
  {
   "cell_type": "code",
   "execution_count": 60,
   "metadata": {},
   "outputs": [
    {
     "data": {
      "text/plain": [
       "StackingRegressor(cv=KFold(n_splits=10, random_state=3, shuffle=False),\n",
       "                  estimators=[('grid_search_imp',\n",
       "                               RandomForestRegressor(max_features='sqrt',\n",
       "                                                     min_samples_split=6,\n",
       "                                                     n_estimators=40)),\n",
       "                              ('grid_search_gbr',\n",
       "                               GradientBoostingRegressor(loss='huber',\n",
       "                                                         max_depth=5,\n",
       "                                                         min_samples_split=6,\n",
       "                                                         n_estimators=40)),\n",
       "                              ('grid_search_lasso',\n",
       "                               Lasso(alpha=1000, tol=0.1))])"
      ]
     },
     "execution_count": 60,
     "metadata": {},
     "output_type": "execute_result"
    }
   ],
   "source": [
    "stacking_model.fit(X_train, y_train)"
   ]
  },
  {
   "cell_type": "markdown",
   "metadata": {},
   "source": [
    "### Сравнение R2 на отложенной (валидационной) hold-out выборке"
   ]
  },
  {
   "cell_type": "code",
   "execution_count": 62,
   "metadata": {},
   "outputs": [
    {
     "name": "stdout",
     "output_type": "stream",
     "text": [
      "R2 val random forest: 0.8585196981988418\n"
     ]
    }
   ],
   "source": [
    "scores = cross_val_score(grid_best_imp, X_val_imp, y_validation, cv=kfold, n_jobs= -1,scoring='r2')\n",
    "r2_val_rf_imp = np.mean(scores)\n",
    "print('R2 val random forest:', r2_val_rf_imp)"
   ]
  },
  {
   "cell_type": "code",
   "execution_count": 63,
   "metadata": {},
   "outputs": [
    {
     "name": "stdout",
     "output_type": "stream",
     "text": [
      "R2 val gradient boosting: 0.8524832494598981\n"
     ]
    }
   ],
   "source": [
    "scores = cross_val_score(grid_best_gbr, X_val_imp, y_validation, cv=kfold, n_jobs= -1,scoring='r2')\n",
    "r2_val_gbr = np.mean(scores)\n",
    "print('R2 val gradient boosting:', r2_val_gbr)"
   ]
  },
  {
   "cell_type": "code",
   "execution_count": 64,
   "metadata": {},
   "outputs": [
    {
     "name": "stdout",
     "output_type": "stream",
     "text": [
      "R2 val lasso: 0.8603483063024175\n"
     ]
    }
   ],
   "source": [
    "scores = cross_val_score(grid_best_lasso, X_validation, y_validation, cv=kfold, n_jobs= -1,scoring='r2')\n",
    "r2_val_lasso = np.mean(scores)\n",
    "print('R2 val lasso:', r2_val_lasso)"
   ]
  },
  {
   "cell_type": "code",
   "execution_count": 65,
   "metadata": {},
   "outputs": [
    {
     "name": "stdout",
     "output_type": "stream",
     "text": [
      "R2 val ensemble: 0.8849652027255029\n"
     ]
    }
   ],
   "source": [
    "r2_val_ensemble = np.mean(cross_val_score(stacking_model, X_validation, y_validation, cv=kfold, n_jobs= -1,scoring='r2'))\n",
    "print('R2 val ensemble:', r2_val_ensemble)"
   ]
  },
  {
   "cell_type": "code",
   "execution_count": 66,
   "metadata": {},
   "outputs": [],
   "source": [
    "# Ансамбль дает значение R2 выше по сравнению с моделями, входящими в нее"
   ]
  },
  {
   "cell_type": "code",
   "execution_count": null,
   "metadata": {},
   "outputs": [],
   "source": []
  }
 ],
 "metadata": {
  "kernelspec": {
   "display_name": "Python 3",
   "language": "python",
   "name": "python3"
  },
  "language_info": {
   "codemirror_mode": {
    "name": "ipython",
    "version": 3
   },
   "file_extension": ".py",
   "mimetype": "text/x-python",
   "name": "python",
   "nbconvert_exporter": "python",
   "pygments_lexer": "ipython3",
   "version": "3.8.3"
  }
 },
 "nbformat": 4,
 "nbformat_minor": 4
}
