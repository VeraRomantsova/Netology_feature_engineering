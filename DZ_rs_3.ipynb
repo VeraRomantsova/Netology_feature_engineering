{
 "cells": [
  {
   "cell_type": "markdown",
   "metadata": {},
   "source": [
    "Что делать?\n",
    "\n",
    " * Датасет ml-latest\n",
    " * Вспомнить подходы, которые мы разбирали\n",
    " * Выбрать понравившийся подход к гибридным системам\n",
    " * Написать свою\n",
    " * Материалы здесь."
   ]
  },
  {
   "cell_type": "code",
   "execution_count": 78,
   "metadata": {},
   "outputs": [],
   "source": [
    "from surprise import SVD,KNNWithMeans\n",
    "from surprise import Dataset\n",
    "from surprise import accuracy\n",
    "from surprise import Reader\n",
    "from surprise.model_selection import train_test_split\n",
    "import matplotlib.pyplot as plt\n",
    "from tqdm.notebook import tqdm\n",
    "from sklearn.feature_extraction.text import CountVectorizer, TfidfTransformer\n",
    "from sklearn.neighbors import NearestNeighbors\n",
    "from surprise.model_selection import cross_validate\n",
    "import pandas as pd\n",
    "import numpy as np"
   ]
  },
  {
   "cell_type": "code",
   "execution_count": 129,
   "metadata": {},
   "outputs": [],
   "source": [
    "# для новых пользователей (нет ни одного просмотра) выведем 10 фильмов с наивысшей средней оценкой\n",
    "# делаем смешивание, если были просмотры:\n",
    "##   находим по 100 наилучших фильмов по content-based (на основе пяти просмотренных фильмов с наивысшей оценкой)\n",
    "##   и по 100 наилучших фильмов по коллаборативной фильтрации \n",
    "##   и смешиваем результаты (получаем 200 фильмов)\n",
    "# по этим 200 фильмам - предсказываем оценку по SVD и выводим первые 10 (каскад)\n",
    "films_for_new_user = 10\n",
    "best_films = 5\n",
    "films_CB = 100\n",
    "films_collaborative = 100\n",
    "final_films = 10"
   ]
  },
  {
   "cell_type": "code",
   "execution_count": 125,
   "metadata": {},
   "outputs": [],
   "source": [
    "user_id = 15.0"
   ]
  },
  {
   "cell_type": "code",
   "execution_count": 4,
   "metadata": {},
   "outputs": [],
   "source": [
    "links = pd.read_csv('links.csv')\n",
    "movies = pd.read_csv('movies.csv')\n",
    "ratings = pd.read_csv('ratings.csv')\n",
    "tags = pd.read_csv('tags.csv')"
   ]
  },
  {
   "cell_type": "code",
   "execution_count": 5,
   "metadata": {},
   "outputs": [],
   "source": [
    "movies_with_ratings = movies.join(ratings.set_index('movieId'), on='movieId').reset_index(drop=True)\n",
    "movies_with_ratings.dropna(inplace=True) #очищаем от пустот "
   ]
  },
  {
   "cell_type": "code",
   "execution_count": 6,
   "metadata": {},
   "outputs": [],
   "source": [
    "def change_genre(str_):\n",
    "    return ' '.join(str_.replace(' ','').replace('-', '').split('|'))"
   ]
  },
  {
   "cell_type": "code",
   "execution_count": 22,
   "metadata": {},
   "outputs": [],
   "source": [
    "# датасет для сюрпрайза\n",
    "dataset = pd.DataFrame({\n",
    "    'uid': movies_with_ratings.userId,\n",
    "    'iid': movies_with_ratings.title,\n",
    "    'rating': movies_with_ratings.rating})"
   ]
  },
  {
   "cell_type": "code",
   "execution_count": 23,
   "metadata": {},
   "outputs": [],
   "source": [
    "min_ = dataset.rating.min()\n",
    "max_ = dataset.rating.max()\n",
    "reader = Reader(rating_scale=(min_, max_))\n",
    "data = Dataset.load_from_df(dataset, reader)"
   ]
  },
  {
   "cell_type": "code",
   "execution_count": 24,
   "metadata": {},
   "outputs": [],
   "source": [
    "trainset, testset = train_test_split(data, test_size=.15)"
   ]
  },
  {
   "cell_type": "code",
   "execution_count": 135,
   "metadata": {},
   "outputs": [],
   "source": [
    "def recommendation(user_id):\n",
    "    user_films = movies_with_ratings[movies_with_ratings.userId == user_id].title.unique()\n",
    "    if len(user_films) == 0:\n",
    "        # 1. Найдем 10 фильмов с наивысшей оценкой\n",
    "        top_films = movies_with_ratings.groupby('title')[['rating']].mean().sort_values('rating', ascending=False).head(films_for_new_user)\n",
    "        print(top_films)\n",
    "    else:\n",
    "        # 2. Строим content-based \n",
    "        user_movies = movies_with_ratings[movies_with_ratings.userId == user_id]\n",
    "        user_movies_unique = user_movies.title.unique()\n",
    "    #     best_genre = user_movies.loc[user_movies.rating.idxmax()]['genres'] #найдем жанр с максимальной оценкой пользователя\n",
    "        high_rating_films = user_movies.sort_values('rating')[-(best_films):] #найдем жанры первых 5-ти фильмов пользователя с макс оценкой\n",
    "        best_genres = ' '.join([change_genre(g) for g in high_rating_films.genres.values])\n",
    "        rec_movies_with_ratings = movies_with_ratings[movies_with_ratings.userId != user_id] #фильмы, которые пользователь не смотрел\n",
    "        rec_movies = movies[movies.movieId.isin(rec_movies_with_ratings.movieId.unique())] #фильмы, которые пользователь не смотрел\n",
    "        rec_movie_genres = [change_genre(g) for g in rec_movies.genres.values]\n",
    "\n",
    "        count_vect_cb = CountVectorizer()\n",
    "        X_train_counts_cb = count_vect_cb.fit_transform(rec_movie_genres)\n",
    "        tfidf_transformer_cb = TfidfTransformer()\n",
    "        X_train_tfidf_cb = tfidf_transformer_cb.fit_transform(X_train_counts_cb)\n",
    "        neigh_cb = NearestNeighbors(n_neighbors = films_CB, n_jobs=-1, metric='euclidean')\n",
    "        neigh_cb.fit(X_train_tfidf_cb)\n",
    "        predict_cb = count_vect_cb.transform([best_genres])\n",
    "        X_tfidf2_cb = tfidf_transformer_cb.transform(predict_cb)\n",
    "        res_cb = neigh_cb.kneighbors(X_tfidf2_cb, return_distance=True)\n",
    "        res_cb2 = rec_movies.iloc[res_cb[1][0]] \n",
    "        # 3. Строим коллаб.фильтрацию\n",
    "        algo_coll = KNNWithMeans(k=20, sim_options={'name': 'pearson_baseline', 'content_based': False})\n",
    "        algo_coll.fit(trainset)\n",
    "        test_pred = algo_coll.test(testset)\n",
    "        recommend = {}\n",
    "        for t in rec_movies.title.values:\n",
    "            est = algo_coll.predict(uid=user_id, iid=t).est\n",
    "            recommend[t] = est\n",
    "        res_col = sorted(recommend.items(), key=lambda t: t[1], reverse=True)[:(films_collaborative)]\n",
    "        # 4. находим фильмы, рекомендуемые обоими методами (смешивание)\n",
    "        res_mix = []\n",
    "        for i in res_col:\n",
    "            res_mix.append(i[0])\n",
    "        for j in res_cb2.title.values:\n",
    "            if j in res_mix:\n",
    "                continue\n",
    "            else:\n",
    "                res_mix.append(j)\n",
    "        # 4. предсказываем оценку (SVD) и выводим лучшие 10 (каскад)\n",
    "        algo_svd = SVD(n_epochs = 5, n_factors = 20)\n",
    "        algo_svd.fit(trainset)\n",
    "        predictions_svd = algo_svd.test(testset)   \n",
    "        scores = []\n",
    "        titles = []\n",
    "        for movie in res_mix:    \n",
    "            scores.append(algo_svd.predict(uid = user_id, iid = movie).est) #как бы этот фильм (который он не смотрел) оценил бы пользователь\n",
    "            titles.append(movie)\n",
    "        best_indexes = np.argsort(scores)[-(final_films):] #сортируем\n",
    "        for i in reversed(best_indexes):\n",
    "            print(titles[i],scores[i])"
   ]
  },
  {
   "cell_type": "code",
   "execution_count": 136,
   "metadata": {},
   "outputs": [
    {
     "name": "stdout",
     "output_type": "stream",
     "text": [
      "Estimating biases using als...\n",
      "Computing the pearson_baseline similarity matrix...\n",
      "Done computing similarity matrix.\n",
      "Star Wars: Episode IV - A New Hope (1977) 3.839337146253773\n",
      "Star Wars: Episode VI - Return of the Jedi (1983) 3.8230015203334986\n",
      "Star Wars: Episode V - The Empire Strikes Back (1980) 3.810771338965113\n",
      "Road Warrior, The (Mad Max 2) (1981) 3.619356867245125\n",
      "The Martian (2015) 3.581358467867611\n",
      "2001: A Space Odyssey (1968) 3.566148375697205\n",
      "Serenity (2005) 3.541685854767829\n",
      "Star Trek: First Contact (1996) 3.5187302890468293\n",
      "Children of Men (2006) 3.5167769031816047\n",
      "Fifth Element, The (1997) 3.505629193042564\n"
     ]
    }
   ],
   "source": [
    "recommendation(user_id)"
   ]
  },
  {
   "cell_type": "code",
   "execution_count": null,
   "metadata": {},
   "outputs": [],
   "source": []
  }
 ],
 "metadata": {
  "kernelspec": {
   "display_name": "Python 3",
   "language": "python",
   "name": "python3"
  },
  "language_info": {
   "codemirror_mode": {
    "name": "ipython",
    "version": 3
   },
   "file_extension": ".py",
   "mimetype": "text/x-python",
   "name": "python",
   "nbconvert_exporter": "python",
   "pygments_lexer": "ipython3",
   "version": "3.8.3"
  }
 },
 "nbformat": 4,
 "nbformat_minor": 4
}
